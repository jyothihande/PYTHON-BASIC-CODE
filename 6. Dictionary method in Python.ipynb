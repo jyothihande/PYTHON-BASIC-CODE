{
 "cells": [
  {
   "cell_type": "markdown",
   "id": "eb8b4cad",
   "metadata": {},
   "source": [
    "DICTIONARY METHODS IN PYTHON:"
   ]
  },
  {
   "cell_type": "markdown",
   "id": "22a01527",
   "metadata": {},
   "source": [
    "1. Dictionary represented by d={} with curly brackets.\n",
    "2. Empty dict is possible but empty set is dic only not set\n",
    "3. dictionary accepts data types like int,float,complex,boolean,list,tuple as values only\n",
    "4. values can repeat or multiple but key is always unique and single.\n",
    "4. Concatanation is not possible in for dictionary "
   ]
  },
  {
   "cell_type": "code",
   "execution_count": 2,
   "id": "de71ad9d",
   "metadata": {},
   "outputs": [
    {
     "data": {
      "text/plain": [
       "dict"
      ]
     },
     "execution_count": 2,
     "metadata": {},
     "output_type": "execute_result"
    }
   ],
   "source": [
    "d={}   # empty dict is possible\n",
    "type(d)"
   ]
  },
  {
   "cell_type": "markdown",
   "id": "3a9cc105",
   "metadata": {},
   "source": [
    "1. Dictionary accepts data types like int,float,complex,boolean,list,tuple as values only"
   ]
  },
  {
   "cell_type": "code",
   "execution_count": 13,
   "id": "0cea54a0",
   "metadata": {},
   "outputs": [],
   "source": [
    "d={\"complex\":3+6j,1234:[1,5,6],\"dic\":{\"hello\":\"bye\"},\"tuple\":(1,56),\"set\":{5,8,6}}"
   ]
  },
  {
   "cell_type": "code",
   "execution_count": 14,
   "id": "c0ad7dd7",
   "metadata": {},
   "outputs": [
    {
     "data": {
      "text/plain": [
       "{'complex': (3+6j),\n",
       " 1234: [1, 5, 6],\n",
       " 'dic': {'hello': 'bye'},\n",
       " 'tuple': (1, 56),\n",
       " 'set': {5, 6, 8}}"
      ]
     },
     "execution_count": 14,
     "metadata": {},
     "output_type": "execute_result"
    }
   ],
   "source": [
    "d"
   ]
  },
  {
   "cell_type": "code",
   "execution_count": 15,
   "id": "4ceb6b78",
   "metadata": {},
   "outputs": [
    {
     "data": {
      "text/plain": [
       "5"
      ]
     },
     "execution_count": 15,
     "metadata": {},
     "output_type": "execute_result"
    }
   ],
   "source": [
    "len(d)"
   ]
  },
  {
   "cell_type": "markdown",
   "id": "f0baca4b",
   "metadata": {},
   "source": [
    "2. To access dictionary key value"
   ]
  },
  {
   "cell_type": "code",
   "execution_count": 17,
   "id": "86dbc694",
   "metadata": {},
   "outputs": [
    {
     "data": {
      "text/plain": [
       "(3+6j)"
      ]
     },
     "execution_count": 17,
     "metadata": {},
     "output_type": "execute_result"
    }
   ],
   "source": [
    "d['complex']"
   ]
  },
  {
   "cell_type": "code",
   "execution_count": 18,
   "id": "9455fd02",
   "metadata": {},
   "outputs": [
    {
     "data": {
      "text/plain": [
       "{5, 6, 8}"
      ]
     },
     "execution_count": 18,
     "metadata": {},
     "output_type": "execute_result"
    }
   ],
   "source": [
    "d['set']"
   ]
  },
  {
   "cell_type": "markdown",
   "id": "8ed5d493",
   "metadata": {},
   "source": [
    "3. To change or add key value"
   ]
  },
  {
   "cell_type": "code",
   "execution_count": 19,
   "id": "67a628a0",
   "metadata": {},
   "outputs": [],
   "source": [
    "d['name']='JOY'"
   ]
  },
  {
   "cell_type": "code",
   "execution_count": 20,
   "id": "90cdc9df",
   "metadata": {},
   "outputs": [
    {
     "data": {
      "text/plain": [
       "{'complex': (3+6j),\n",
       " 1234: [1, 5, 6],\n",
       " 'dic': {'hello': 'bye'},\n",
       " 'tuple': (1, 56),\n",
       " 'set': {5, 6, 8},\n",
       " 'name': 'JOY'}"
      ]
     },
     "execution_count": 20,
     "metadata": {},
     "output_type": "execute_result"
    }
   ],
   "source": [
    "d # name changed/replaced "
   ]
  },
  {
   "cell_type": "code",
   "execution_count": 21,
   "id": "2714eab7",
   "metadata": {},
   "outputs": [
    {
     "data": {
      "text/plain": [
       "{'complex': (3+6j),\n",
       " 1234: [1, 5, 6],\n",
       " 'dic': {'hello': 'bye'},\n",
       " 'tuple': (1, 56),\n",
       " 'set': {5, 6, 8},\n",
       " 'name': 'JOY',\n",
       " 'address': 'abc,pune'}"
      ]
     },
     "execution_count": 21,
     "metadata": {},
     "output_type": "execute_result"
    }
   ],
   "source": [
    "d['address']= 'abc,pune'  # address added at last only\n",
    "d"
   ]
  },
  {
   "cell_type": "markdown",
   "id": "67c675ca",
   "metadata": {},
   "source": [
    "4. d.get()\n",
    "To avoid error due to data not found in the dic use get function"
   ]
  },
  {
   "cell_type": "code",
   "execution_count": 22,
   "id": "dc7819a4",
   "metadata": {},
   "outputs": [
    {
     "ename": "KeyError",
     "evalue": "'name1'",
     "output_type": "error",
     "traceback": [
      "\u001b[1;31m---------------------------------------------------------------------------\u001b[0m",
      "\u001b[1;31mKeyError\u001b[0m                                  Traceback (most recent call last)",
      "Input \u001b[1;32mIn [22]\u001b[0m, in \u001b[0;36m<cell line: 1>\u001b[1;34m()\u001b[0m\n\u001b[1;32m----> 1\u001b[0m \u001b[43md\u001b[49m\u001b[43m[\u001b[49m\u001b[38;5;124;43m'\u001b[39;49m\u001b[38;5;124;43mname1\u001b[39;49m\u001b[38;5;124;43m'\u001b[39;49m\u001b[43m]\u001b[49m  \u001b[38;5;66;03m#here name1 is not defined so error found and code running stops\u001b[39;00m\n\u001b[0;32m      2\u001b[0m d\n",
      "\u001b[1;31mKeyError\u001b[0m: 'name1'"
     ]
    }
   ],
   "source": [
    "d['name1']  #here name1 is not defined so error found and code running stops\n",
    "d"
   ]
  },
  {
   "cell_type": "code",
   "execution_count": 23,
   "id": "94e8917b",
   "metadata": {},
   "outputs": [
    {
     "data": {
      "text/plain": [
       "'JOY'"
      ]
     },
     "execution_count": 23,
     "metadata": {},
     "output_type": "execute_result"
    }
   ],
   "source": [
    "d.get('name')"
   ]
  },
  {
   "cell_type": "code",
   "execution_count": 24,
   "id": "4f513663",
   "metadata": {},
   "outputs": [],
   "source": [
    "d.get('name1') # here code is running though name1 is not availble\n",
    "#code do not show error"
   ]
  },
  {
   "cell_type": "markdown",
   "id": "ac55fd32",
   "metadata": {},
   "source": [
    " 5. To search value in the dictionary"
   ]
  },
  {
   "cell_type": "code",
   "execution_count": 25,
   "id": "6889690d",
   "metadata": {},
   "outputs": [
    {
     "data": {
      "text/plain": [
       "False"
      ]
     },
     "execution_count": 25,
     "metadata": {},
     "output_type": "execute_result"
    }
   ],
   "source": [
    "'joy' in d['name']"
   ]
  },
  {
   "cell_type": "code",
   "execution_count": 26,
   "id": "c6af10ce",
   "metadata": {},
   "outputs": [
    {
     "data": {
      "text/plain": [
       "True"
      ]
     },
     "execution_count": 26,
     "metadata": {},
     "output_type": "execute_result"
    }
   ],
   "source": [
    "'JOY' in d['name']"
   ]
  },
  {
   "cell_type": "code",
   "execution_count": 27,
   "id": "017e05cc",
   "metadata": {},
   "outputs": [
    {
     "ename": "KeyError",
     "evalue": "'contact'",
     "output_type": "error",
     "traceback": [
      "\u001b[1;31m---------------------------------------------------------------------------\u001b[0m",
      "\u001b[1;31mKeyError\u001b[0m                                  Traceback (most recent call last)",
      "Input \u001b[1;32mIn [27]\u001b[0m, in \u001b[0;36m<cell line: 1>\u001b[1;34m()\u001b[0m\n\u001b[1;32m----> 1\u001b[0m \u001b[38;5;241m9764\u001b[39m \u001b[38;5;129;01min\u001b[39;00m \u001b[43md\u001b[49m\u001b[43m[\u001b[49m\u001b[38;5;124;43m'\u001b[39;49m\u001b[38;5;124;43mcontact\u001b[39;49m\u001b[38;5;124;43m'\u001b[39;49m\u001b[43m]\u001b[49m\n",
      "\u001b[1;31mKeyError\u001b[0m: 'contact'"
     ]
    }
   ],
   "source": [
    "9764 in d['contact']"
   ]
  },
  {
   "cell_type": "markdown",
   "id": "722d9611",
   "metadata": {},
   "source": [
    "6. List in value of dict"
   ]
  },
  {
   "cell_type": "code",
   "execution_count": 28,
   "id": "50c853a7",
   "metadata": {},
   "outputs": [],
   "source": [
    "d={'name': 'JOY',\n",
    " 'email': 'abc@gmail.com',\n",
    " 'contact': 9764,\n",
    " 'skills':['html','abc','python']}"
   ]
  },
  {
   "cell_type": "code",
   "execution_count": 29,
   "id": "730dfc0c",
   "metadata": {},
   "outputs": [
    {
     "data": {
      "text/plain": [
       "{'name': 'JOY',\n",
       " 'email': 'abc@gmail.com',\n",
       " 'contact': 9764,\n",
       " 'skills': ['html', 'abc', 'python']}"
      ]
     },
     "execution_count": 29,
     "metadata": {},
     "output_type": "execute_result"
    }
   ],
   "source": [
    "d #list is added to the dictionary"
   ]
  },
  {
   "cell_type": "code",
   "execution_count": 30,
   "id": "2996795a",
   "metadata": {},
   "outputs": [
    {
     "data": {
      "text/plain": [
       "'JOY'"
      ]
     },
     "execution_count": 30,
     "metadata": {},
     "output_type": "execute_result"
    }
   ],
   "source": [
    "d['name']"
   ]
  },
  {
   "cell_type": "code",
   "execution_count": 31,
   "id": "ec132c66",
   "metadata": {},
   "outputs": [
    {
     "data": {
      "text/plain": [
       "['html', 'abc', 'python']"
      ]
     },
     "execution_count": 31,
     "metadata": {},
     "output_type": "execute_result"
    }
   ],
   "source": [
    "d[\"skills\"]"
   ]
  },
  {
   "cell_type": "markdown",
   "id": "3ffe05a8",
   "metadata": {},
   "source": [
    "7. Creating dictionary inside dictionary"
   ]
  },
  {
   "cell_type": "code",
   "execution_count": 39,
   "id": "abe1c072",
   "metadata": {},
   "outputs": [],
   "source": [
    "d={'name': 'JOY',\n",
    " 'email': 'abc@gmail.com',\n",
    " 'contact': 9764,\n",
    " 'skills': {'ds':'data science','DSA':'algorothm','code':'python'}}"
   ]
  },
  {
   "cell_type": "code",
   "execution_count": 33,
   "id": "52f5b8c3",
   "metadata": {},
   "outputs": [
    {
     "data": {
      "text/plain": [
       "{'name': 'JOY',\n",
       " 'email': 'abc@gmail.com',\n",
       " 'contact': 9764,\n",
       " 'skills': {'ds': 'data science', 'DSA': 'algorothm', 'code': 'python'}}"
      ]
     },
     "execution_count": 33,
     "metadata": {},
     "output_type": "execute_result"
    }
   ],
   "source": [
    "#dic inside dict\n",
    "d"
   ]
  },
  {
   "cell_type": "code",
   "execution_count": 34,
   "id": "e4aa2706",
   "metadata": {},
   "outputs": [
    {
     "data": {
      "text/plain": [
       "{'ds': 'data science', 'DSA': 'algorothm', 'code': 'python'}"
      ]
     },
     "execution_count": 34,
     "metadata": {},
     "output_type": "execute_result"
    }
   ],
   "source": [
    "d['skills']"
   ]
  },
  {
   "cell_type": "code",
   "execution_count": 35,
   "id": "37b52beb",
   "metadata": {},
   "outputs": [
    {
     "data": {
      "text/plain": [
       "'data science'"
      ]
     },
     "execution_count": 35,
     "metadata": {},
     "output_type": "execute_result"
    }
   ],
   "source": [
    "d['skills']['ds'] # nested dictionary"
   ]
  },
  {
   "cell_type": "markdown",
   "id": "f933b1e1",
   "metadata": {},
   "source": [
    "8. Deleting key from dictionary"
   ]
  },
  {
   "cell_type": "code",
   "execution_count": 36,
   "id": "4c80c241",
   "metadata": {},
   "outputs": [],
   "source": [
    "del d['name']"
   ]
  },
  {
   "cell_type": "code",
   "execution_count": 37,
   "id": "d588d42a",
   "metadata": {},
   "outputs": [
    {
     "data": {
      "text/plain": [
       "{'email': 'abc@gmail.com',\n",
       " 'contact': 9764,\n",
       " 'skills': {'ds': 'data science', 'DSA': 'algorothm', 'code': 'python'}}"
      ]
     },
     "execution_count": 37,
     "metadata": {},
     "output_type": "execute_result"
    }
   ],
   "source": [
    "d"
   ]
  },
  {
   "cell_type": "markdown",
   "id": "048fb454",
   "metadata": {},
   "source": [
    "9. Pop function in dictionary\n",
    " 1.  in set 1st value remove\n",
    " 2.  in list last value removed by default\n",
    " 3.  in dict POP function removes which is mentioned inside bracket"
   ]
  },
  {
   "cell_type": "code",
   "execution_count": 40,
   "id": "905f5a03",
   "metadata": {},
   "outputs": [
    {
     "data": {
      "text/plain": [
       "{'name': 'JOY',\n",
       " 'email': 'abc@gmail.com',\n",
       " 'contact': 9764,\n",
       " 'skills': {'ds': 'data science', 'DSA': 'algorothm', 'code': 'python'}}"
      ]
     },
     "execution_count": 40,
     "metadata": {},
     "output_type": "execute_result"
    }
   ],
   "source": [
    "d"
   ]
  },
  {
   "cell_type": "code",
   "execution_count": 41,
   "id": "ce1efee0",
   "metadata": {},
   "outputs": [
    {
     "data": {
      "text/plain": [
       "'abc@gmail.com'"
      ]
     },
     "execution_count": 41,
     "metadata": {},
     "output_type": "execute_result"
    }
   ],
   "source": [
    "d.pop('email')"
   ]
  },
  {
   "cell_type": "code",
   "execution_count": 42,
   "id": "68621fe4",
   "metadata": {},
   "outputs": [
    {
     "data": {
      "text/plain": [
       "('skills', {'ds': 'data science', 'DSA': 'algorothm', 'code': 'python'})"
      ]
     },
     "execution_count": 42,
     "metadata": {},
     "output_type": "execute_result"
    }
   ],
   "source": [
    "d.popitem()\n",
    "#by default will remove last item of dictionary"
   ]
  },
  {
   "cell_type": "code",
   "execution_count": 43,
   "id": "c8cece98",
   "metadata": {},
   "outputs": [
    {
     "data": {
      "text/plain": [
       "{'name': 'JOY', 'contact': 9764}"
      ]
     },
     "execution_count": 43,
     "metadata": {},
     "output_type": "execute_result"
    }
   ],
   "source": [
    "d"
   ]
  },
  {
   "cell_type": "code",
   "execution_count": 44,
   "id": "7ef9131a",
   "metadata": {},
   "outputs": [],
   "source": [
    "d.clear()  #to clear whole dictionary"
   ]
  },
  {
   "cell_type": "code",
   "execution_count": 45,
   "id": "3bec1408",
   "metadata": {},
   "outputs": [
    {
     "data": {
      "text/plain": [
       "{}"
      ]
     },
     "execution_count": 45,
     "metadata": {},
     "output_type": "execute_result"
    }
   ],
   "source": [
    "d"
   ]
  },
  {
   "cell_type": "markdown",
   "id": "b98c461d",
   "metadata": {},
   "source": [
    "10. to check values of the dictionary"
   ]
  },
  {
   "cell_type": "code",
   "execution_count": 46,
   "id": "6db4cc9a",
   "metadata": {},
   "outputs": [],
   "source": [
    "d={'name': 'JOY',\n",
    " 'email': 'abc@gmail.com',\n",
    " 'contact': 9764,\n",
    " 'skills': {'ds': 'data science', 'DSA': 'algorothm', 'code': 'python'}}"
   ]
  },
  {
   "cell_type": "code",
   "execution_count": 47,
   "id": "5162a828",
   "metadata": {},
   "outputs": [
    {
     "data": {
      "text/plain": [
       "dict_values(['JOY', 'abc@gmail.com', 9764, {'ds': 'data science', 'DSA': 'algorothm', 'code': 'python'}])"
      ]
     },
     "execution_count": 47,
     "metadata": {},
     "output_type": "execute_result"
    }
   ],
   "source": [
    "d.values()\n"
   ]
  },
  {
   "cell_type": "code",
   "execution_count": 48,
   "id": "6d050669",
   "metadata": {},
   "outputs": [
    {
     "data": {
      "text/plain": [
       "dict_items([('name', 'JOY'), ('email', 'abc@gmail.com'), ('contact', 9764), ('skills', {'ds': 'data science', 'DSA': 'algorothm', 'code': 'python'})])"
      ]
     },
     "execution_count": 48,
     "metadata": {},
     "output_type": "execute_result"
    }
   ],
   "source": [
    "d.items() #IN tuple format  gives output both key and values"
   ]
  },
  {
   "cell_type": "markdown",
   "id": "ce0161b2",
   "metadata": {},
   "source": [
    "11.at the place of 'key'"
   ]
  },
  {
   "cell_type": "markdown",
   "id": "3e722e1c",
   "metadata": {},
   "source": [
    "{'key'} as string int  tuple  is possible check bellow list is not posible as a key\n",
    "value as a string int list tuple is possible"
   ]
  },
  {
   "cell_type": "code",
   "execution_count": 49,
   "id": "c934ade5",
   "metadata": {},
   "outputs": [],
   "source": [
    "x={15:'komal',15.5:'lol','ajs':'jsjx'} "
   ]
  },
  {
   "cell_type": "code",
   "execution_count": 50,
   "id": "846c9a8e",
   "metadata": {},
   "outputs": [
    {
     "ename": "TypeError",
     "evalue": "unhashable type: 'list'",
     "output_type": "error",
     "traceback": [
      "\u001b[1;31m---------------------------------------------------------------------------\u001b[0m",
      "\u001b[1;31mTypeError\u001b[0m                                 Traceback (most recent call last)",
      "Input \u001b[1;32mIn [50]\u001b[0m, in \u001b[0;36m<cell line: 1>\u001b[1;34m()\u001b[0m\n\u001b[1;32m----> 1\u001b[0m x1\u001b[38;5;241m=\u001b[39m{[\u001b[38;5;241m1\u001b[39m,\u001b[38;5;241m2\u001b[39m,\u001b[38;5;241m3\u001b[39m]:\u001b[38;5;124m'\u001b[39m\u001b[38;5;124mlol\u001b[39m\u001b[38;5;124m'\u001b[39m,\u001b[38;5;124m'\u001b[39m\u001b[38;5;124mkom\u001b[39m\u001b[38;5;124m'\u001b[39m:\u001b[38;5;241m152\u001b[39m}\n\u001b[0;32m      2\u001b[0m x1\n",
      "\u001b[1;31mTypeError\u001b[0m: unhashable type: 'list'"
     ]
    }
   ],
   "source": [
    "x1={[1,2,3]:'lol','kom':152}\n",
    "x1  # list as a key"
   ]
  },
  {
   "cell_type": "code",
   "execution_count": 51,
   "id": "26b0093e",
   "metadata": {},
   "outputs": [
    {
     "data": {
      "text/plain": [
       "{(1, 2, 3): 'lol', 'kom': 152}"
      ]
     },
     "execution_count": 51,
     "metadata": {},
     "output_type": "execute_result"
    }
   ],
   "source": [
    "x2={(1,2,3):'lol','kom':152}  #tuple as a key\n",
    "x2"
   ]
  },
  {
   "cell_type": "code",
   "execution_count": 52,
   "id": "338bde98",
   "metadata": {},
   "outputs": [
    {
     "data": {
      "text/plain": [
       "{15: 'komal', 15.5: 'lol', 'ajs': 'jsjx'}"
      ]
     },
     "execution_count": 52,
     "metadata": {},
     "output_type": "execute_result"
    }
   ],
   "source": [
    "x"
   ]
  },
  {
   "cell_type": "code",
   "execution_count": 53,
   "id": "3ea8332c",
   "metadata": {},
   "outputs": [
    {
     "data": {
      "text/plain": [
       "('ajs', 'jsjx')"
      ]
     },
     "execution_count": 53,
     "metadata": {},
     "output_type": "execute_result"
    }
   ],
   "source": [
    "x.popitem()"
   ]
  },
  {
   "cell_type": "code",
   "execution_count": 54,
   "id": "59f22d13",
   "metadata": {},
   "outputs": [
    {
     "data": {
      "text/plain": [
       "{15: 'komal', 15.5: 'lol'}"
      ]
     },
     "execution_count": 54,
     "metadata": {},
     "output_type": "execute_result"
    }
   ],
   "source": [
    "x"
   ]
  }
 ],
 "metadata": {
  "kernelspec": {
   "display_name": "Python 3 (ipykernel)",
   "language": "python",
   "name": "python3"
  },
  "language_info": {
   "codemirror_mode": {
    "name": "ipython",
    "version": 3
   },
   "file_extension": ".py",
   "mimetype": "text/x-python",
   "name": "python",
   "nbconvert_exporter": "python",
   "pygments_lexer": "ipython3",
   "version": "3.9.12"
  }
 },
 "nbformat": 4,
 "nbformat_minor": 5
}
