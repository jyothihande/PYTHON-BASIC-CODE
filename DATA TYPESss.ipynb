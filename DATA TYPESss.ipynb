{
 "cells": [
  {
   "cell_type": "raw",
   "id": "40edd991",
   "metadata": {},
   "source": [
    "DATA TYPES GIVEN BELOW :\n",
    "1.Integer\n",
    "2.String\n",
    "3.Float\n",
    "4.Boolean values True False\n",
    "5.complex numbers\n",
    "6.Set\n",
    "7.List\n",
    "8.Tuple\n",
    "9.Dictionary\n",
    "\n",
    "10.TYPE function is used to check type"
   ]
  },
  {
   "cell_type": "code",
   "execution_count": 5,
   "id": "cadb2a92",
   "metadata": {},
   "outputs": [
    {
     "data": {
      "text/plain": [
       "str"
      ]
     },
     "execution_count": 5,
     "metadata": {},
     "output_type": "execute_result"
    }
   ],
   "source": [
    "s=\"Welcome coders\"\n",
    "type(s)\n"
   ]
  },
  {
   "cell_type": "code",
   "execution_count": 6,
   "id": "22038438",
   "metadata": {},
   "outputs": [
    {
     "data": {
      "text/plain": [
       "str"
      ]
     },
     "execution_count": 6,
     "metadata": {},
     "output_type": "execute_result"
    }
   ],
   "source": [
    "p=\"Python is EASY\"\n",
    "type(p)"
   ]
  },
  {
   "cell_type": "code",
   "execution_count": 13,
   "id": "f9c2e94d",
   "metadata": {},
   "outputs": [
    {
     "data": {
      "text/plain": [
       "float"
      ]
     },
     "execution_count": 13,
     "metadata": {},
     "output_type": "execute_result"
    }
   ],
   "source": [
    "w=15.56\n",
    "type(w)\n",
    "# same type(15.56)"
   ]
  },
  {
   "cell_type": "code",
   "execution_count": 12,
   "id": "9fbfe682",
   "metadata": {},
   "outputs": [
    {
     "data": {
      "text/plain": [
       "float"
      ]
     },
     "execution_count": 12,
     "metadata": {},
     "output_type": "execute_result"
    }
   ],
   "source": [
    "type(15.56)"
   ]
  },
  {
   "cell_type": "raw",
   "id": "60ed33c2",
   "metadata": {},
   "source": [
    "COMPLES numbers is a=6+7j real number is 6 and img num is 7j"
   ]
  },
  {
   "cell_type": "code",
   "execution_count": 18,
   "id": "90750e07",
   "metadata": {},
   "outputs": [
    {
     "data": {
      "text/plain": [
       "complex"
      ]
     },
     "execution_count": 18,
     "metadata": {},
     "output_type": "execute_result"
    }
   ],
   "source": [
    "a=5+3j\n",
    "type(a)"
   ]
  },
  {
   "cell_type": "code",
   "execution_count": 19,
   "id": "71a6d5a9",
   "metadata": {},
   "outputs": [
    {
     "data": {
      "text/plain": [
       "3.0"
      ]
     },
     "execution_count": 19,
     "metadata": {},
     "output_type": "execute_result"
    }
   ],
   "source": [
    "a.imag   #to check imag number in equation"
   ]
  },
  {
   "cell_type": "code",
   "execution_count": 20,
   "id": "cd4f843f",
   "metadata": {},
   "outputs": [
    {
     "data": {
      "text/plain": [
       "5.0"
      ]
     },
     "execution_count": 20,
     "metadata": {},
     "output_type": "execute_result"
    }
   ],
   "source": [
    "a.real   #to check real number in equation"
   ]
  },
  {
   "cell_type": "markdown",
   "id": "f0967152",
   "metadata": {},
   "source": [
    "# LIST "
   ]
  },
  {
   "cell_type": "raw",
   "id": "a94b1040",
   "metadata": {},
   "source": [
    "List can have all data types integers ,string, float, boolean and complex number"
   ]
  },
  {
   "cell_type": "code",
   "execution_count": 31,
   "id": "aa6aefe4",
   "metadata": {},
   "outputs": [],
   "source": [
    "l=['jyothi',150,23.36,True,7+5j]"
   ]
  },
  {
   "cell_type": "code",
   "execution_count": 32,
   "id": "eda45ea8",
   "metadata": {},
   "outputs": [
    {
     "data": {
      "text/plain": [
       "['jyothi', 150, 23.36, True, (7+5j)]"
      ]
     },
     "execution_count": 32,
     "metadata": {},
     "output_type": "execute_result"
    }
   ],
   "source": [
    "l"
   ]
  },
  {
   "cell_type": "code",
   "execution_count": 33,
   "id": "170e9611",
   "metadata": {},
   "outputs": [
    {
     "data": {
      "text/plain": [
       "list"
      ]
     },
     "execution_count": 33,
     "metadata": {},
     "output_type": "execute_result"
    }
   ],
   "source": [
    "type(l)"
   ]
  },
  {
   "cell_type": "code",
   "execution_count": 34,
   "id": "f95f217c",
   "metadata": {},
   "outputs": [
    {
     "data": {
      "text/plain": [
       "5"
      ]
     },
     "execution_count": 34,
     "metadata": {},
     "output_type": "execute_result"
    }
   ],
   "source": [
    "len(l)"
   ]
  },
  {
   "cell_type": "code",
   "execution_count": 71,
   "id": "eb75eb88",
   "metadata": {},
   "outputs": [
    {
     "data": {
      "text/plain": [
       "('jyothi', 150, 23.36, True, (7+5j))"
      ]
     },
     "execution_count": 71,
     "metadata": {},
     "output_type": "execute_result"
    }
   ],
   "source": [
    "tuple(l) #convert"
   ]
  },
  {
   "cell_type": "markdown",
   "id": "059139fc",
   "metadata": {},
   "source": [
    "# TUPLE"
   ]
  },
  {
   "cell_type": "raw",
   "id": "4157fcca",
   "metadata": {},
   "source": [
    "bracket used for tuple () what kind of data can be stored in tuple\n",
    "1. diff bet LIST and TUPLE changes can be made into the list but not in tuple  data like blood group,finger print , adhar card number are stored in tuple so that they can not be changes later on.\n",
    "2. INDEXING is present\n",
    "3.Tuple can be converted into list"
   ]
  },
  {
   "cell_type": "code",
   "execution_count": 47,
   "id": "7be5c262",
   "metadata": {},
   "outputs": [],
   "source": [
    "t=(12,23.02,True,100,\"jyo\")"
   ]
  },
  {
   "cell_type": "code",
   "execution_count": 48,
   "id": "856628a9",
   "metadata": {},
   "outputs": [
    {
     "data": {
      "text/plain": [
       "(12, 23.02, True, 100, 'jyo')"
      ]
     },
     "execution_count": 48,
     "metadata": {},
     "output_type": "execute_result"
    }
   ],
   "source": [
    "t"
   ]
  },
  {
   "cell_type": "code",
   "execution_count": 70,
   "id": "884b3efd",
   "metadata": {},
   "outputs": [
    {
     "data": {
      "text/plain": [
       "[12, 23.02, True, 100, 'jyo']"
      ]
     },
     "execution_count": 70,
     "metadata": {},
     "output_type": "execute_result"
    }
   ],
   "source": [
    "list(t) #conversion"
   ]
  },
  {
   "cell_type": "code",
   "execution_count": 49,
   "id": "39dffb63",
   "metadata": {},
   "outputs": [
    {
     "data": {
      "text/plain": [
       "5"
      ]
     },
     "execution_count": 49,
     "metadata": {},
     "output_type": "execute_result"
    }
   ],
   "source": [
    "len(t)"
   ]
  },
  {
   "cell_type": "code",
   "execution_count": 40,
   "id": "85ac81b4",
   "metadata": {},
   "outputs": [
    {
     "data": {
      "text/plain": [
       "int"
      ]
     },
     "execution_count": 40,
     "metadata": {},
     "output_type": "execute_result"
    }
   ],
   "source": [
    "t=(5)  #this is not a tuple it is tuple created here type if t is int and not tuple\n",
    "type(t)"
   ]
  },
  {
   "cell_type": "code",
   "execution_count": 41,
   "id": "74532867",
   "metadata": {},
   "outputs": [
    {
     "data": {
      "text/plain": [
       "str"
      ]
     },
     "execution_count": 41,
     "metadata": {},
     "output_type": "execute_result"
    }
   ],
   "source": [
    "t=(\"jyo\")\n",
    "type(t)"
   ]
  },
  {
   "cell_type": "code",
   "execution_count": 42,
   "id": "c8a632d6",
   "metadata": {},
   "outputs": [
    {
     "data": {
      "text/plain": [
       "tuple"
      ]
     },
     "execution_count": 42,
     "metadata": {},
     "output_type": "execute_result"
    }
   ],
   "source": [
    "#one data with tuple can be created by adding , single coma after first data\n",
    "t=(\"jyo\",)\n",
    "type(t)"
   ]
  },
  {
   "cell_type": "code",
   "execution_count": 44,
   "id": "76cf3360",
   "metadata": {},
   "outputs": [
    {
     "data": {
      "text/plain": [
       "tuple"
      ]
     },
     "execution_count": 44,
     "metadata": {},
     "output_type": "execute_result"
    }
   ],
   "source": [
    "t=(\"jyo\",256) #type tuple with two data\n",
    "type(t)"
   ]
  },
  {
   "cell_type": "markdown",
   "id": "327a5594",
   "metadata": {},
   "source": [
    "# SET"
   ]
  },
  {
   "cell_type": "raw",
   "id": "f1e705b5",
   "metadata": {},
   "source": [
    "1.s={} int float string complex boolean\n",
    "2. NO indexing in SET \n",
    "3. set take ONLY unquie data repeated data is not shown again\n",
    "4. data is automaticalyy sorted like first int complex then at last string will be displayed\n",
    "5.{} same for dict also but blank set can not created blank dic is possible"
   ]
  },
  {
   "cell_type": "code",
   "execution_count": 67,
   "id": "3debd5ad",
   "metadata": {},
   "outputs": [],
   "source": [
    "s={12.3,56,1,12,True,'false',False,5+6j,12.3,56,True,'false',False,5+6j} #one false is string "
   ]
  },
  {
   "cell_type": "code",
   "execution_count": 68,
   "id": "3a66e94f",
   "metadata": {},
   "outputs": [
    {
     "data": {
      "text/plain": [
       "{(5+6j), 1, 12, 12.3, 56, False, 'false'}"
      ]
     },
     "execution_count": 68,
     "metadata": {},
     "output_type": "execute_result"
    }
   ],
   "source": [
    "s #repeated data is not displayed in set"
   ]
  },
  {
   "cell_type": "code",
   "execution_count": 65,
   "id": "4c34b3ee",
   "metadata": {},
   "outputs": [
    {
     "data": {
      "text/plain": [
       "set"
      ]
     },
     "execution_count": 65,
     "metadata": {},
     "output_type": "execute_result"
    }
   ],
   "source": [
    "type(s)\n"
   ]
  },
  {
   "cell_type": "code",
   "execution_count": 69,
   "id": "65592182",
   "metadata": {},
   "outputs": [
    {
     "data": {
      "text/plain": [
       "7"
      ]
     },
     "execution_count": 69,
     "metadata": {},
     "output_type": "execute_result"
    }
   ],
   "source": [
    "len(s)"
   ]
  },
  {
   "cell_type": "code",
   "execution_count": 80,
   "id": "83f286b9",
   "metadata": {},
   "outputs": [
    {
     "data": {
      "text/plain": [
       "{'A', 'B', 'C', 'a', 'd', 'e', 'h', 'i', 'j', 'n', 'o', 't', 'y'}"
      ]
     },
     "execution_count": 80,
     "metadata": {},
     "output_type": "execute_result"
    }
   ],
   "source": [
    "#interview ques\n",
    "s1=\"jyothiABChande\"\n",
    "#from above string only unquie data needed as some alphabets are repeated\n",
    "set(s1) # this gives only unquie output"
   ]
  },
  {
   "cell_type": "markdown",
   "id": "e01849c2",
   "metadata": {},
   "source": [
    "# DICTIONARY\n"
   ]
  },
  {
   "cell_type": "raw",
   "id": "d1d1a107",
   "metadata": {},
   "source": [
    "{'key':'value'} key name has to be unqiue but value can be same\n",
    "1.d={} same for dict also but blank set={} can not created blank dic is possible\\\n",
    "2.Tuple and list can be created in thE dictionary"
   ]
  },
  {
   "cell_type": "code",
   "execution_count": 87,
   "id": "16e6ebef",
   "metadata": {},
   "outputs": [
    {
     "data": {
      "text/plain": [
       "dict"
      ]
     },
     "execution_count": 87,
     "metadata": {},
     "output_type": "execute_result"
    }
   ],
   "source": [
    "d={} # blank dic can be created  but blank sset is not possible\n",
    "type(d)"
   ]
  },
  {
   "cell_type": "code",
   "execution_count": 88,
   "id": "2d412beb",
   "metadata": {},
   "outputs": [
    {
     "data": {
      "text/plain": [
       "dict"
      ]
     },
     "execution_count": 88,
     "metadata": {},
     "output_type": "execute_result"
    }
   ],
   "source": [
    "s={}\n",
    "type(s) #where s is set"
   ]
  },
  {
   "cell_type": "code",
   "execution_count": 85,
   "id": "88553e91",
   "metadata": {},
   "outputs": [
    {
     "data": {
      "text/plain": [
       "list"
      ]
     },
     "execution_count": 85,
     "metadata": {},
     "output_type": "execute_result"
    }
   ],
   "source": [
    "d=[]\n",
    "type(d)"
   ]
  },
  {
   "cell_type": "code",
   "execution_count": 86,
   "id": "33c369ac",
   "metadata": {},
   "outputs": [
    {
     "data": {
      "text/plain": [
       "tuple"
      ]
     },
     "execution_count": 86,
     "metadata": {},
     "output_type": "execute_result"
    }
   ],
   "source": [
    "d=()\n",
    "type(d)"
   ]
  },
  {
   "cell_type": "code",
   "execution_count": 111,
   "id": "a967d9d8",
   "metadata": {},
   "outputs": [
    {
     "data": {
      "text/plain": [
       "{'key': 'value',\n",
       " 'name': 'JYOTHI',\n",
       " 'contact': 97658,\n",
       " 'boolean': True,\n",
       " 'tax': 15.2,\n",
       " 'l': [1, 1, 52],\n",
       " 't': (2, 1)}"
      ]
     },
     "execution_count": 111,
     "metadata": {},
     "output_type": "execute_result"
    }
   ],
   "source": [
    "d={'key':'value','name':'JYOTHI','contact':97658,'boolean':True ,'tax':15.2,'l':[1,1,52],'t':(2,1)}\n",
    "d "
   ]
  },
  {
   "cell_type": "code",
   "execution_count": 100,
   "id": "60d324ac",
   "metadata": {},
   "outputs": [
    {
     "data": {
      "text/plain": [
       "dict"
      ]
     },
     "execution_count": 100,
     "metadata": {},
     "output_type": "execute_result"
    }
   ],
   "source": [
    "type(d)"
   ]
  },
  {
   "cell_type": "code",
   "execution_count": 103,
   "id": "a5d2a07d",
   "metadata": {},
   "outputs": [
    {
     "data": {
      "text/plain": [
       "7"
      ]
     },
     "execution_count": 103,
     "metadata": {},
     "output_type": "execute_result"
    }
   ],
   "source": [
    "len(d)"
   ]
  },
  {
   "cell_type": "code",
   "execution_count": 108,
   "id": "4f9ce170",
   "metadata": {},
   "outputs": [
    {
     "data": {
      "text/plain": [
       "{'s': {1, 2, 5}, 'name': 'JYOTHI', 'name1': 'JYOTHI'}"
      ]
     },
     "execution_count": 108,
     "metadata": {},
     "output_type": "execute_result"
    }
   ],
   "source": [
    "d1={'s':{1,2,5},'name':'JYOTHI','name1':'JYOTHI'}\n",
    "d1"
   ]
  },
  {
   "cell_type": "code",
   "execution_count": 114,
   "id": "a6bfb03d",
   "metadata": {},
   "outputs": [
    {
     "data": {
      "text/plain": [
       "['s', 'name', 'name1']"
      ]
     },
     "execution_count": 114,
     "metadata": {},
     "output_type": "execute_result"
    }
   ],
   "source": [
    "list(d1)"
   ]
  },
  {
   "cell_type": "code",
   "execution_count": 113,
   "id": "c8935def",
   "metadata": {},
   "outputs": [
    {
     "data": {
      "text/plain": [
       "['key', 'name', 'contact', 'boolean', 'tax', 'l', 't']"
      ]
     },
     "execution_count": 113,
     "metadata": {},
     "output_type": "execute_result"
    }
   ],
   "source": [
    "list(d) #dictionary can not be converted into list or tuple or set only shows keys"
   ]
  },
  {
   "cell_type": "code",
   "execution_count": null,
   "id": "11acce44",
   "metadata": {},
   "outputs": [],
   "source": []
  }
 ],
 "metadata": {
  "kernelspec": {
   "display_name": "Python 3 (ipykernel)",
   "language": "python",
   "name": "python3"
  },
  "language_info": {
   "codemirror_mode": {
    "name": "ipython",
    "version": 3
   },
   "file_extension": ".py",
   "mimetype": "text/x-python",
   "name": "python",
   "nbconvert_exporter": "python",
   "pygments_lexer": "ipython3",
   "version": "3.9.12"
  }
 },
 "nbformat": 4,
 "nbformat_minor": 5
}
