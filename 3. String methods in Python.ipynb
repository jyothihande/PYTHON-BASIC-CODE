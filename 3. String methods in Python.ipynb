{
 "cells": [
  {
   "cell_type": "markdown",
   "id": "678778f0",
   "metadata": {},
   "source": [
    "# STRING METHODS\n"
   ]
  },
  {
   "cell_type": "code",
   "execution_count": 1,
   "id": "eac6b0d0",
   "metadata": {},
   "outputs": [
    {
     "data": {
      "text/plain": [
       "str"
      ]
     },
     "execution_count": 1,
     "metadata": {},
     "output_type": "execute_result"
    }
   ],
   "source": [
    "s=\"Python is easy for all.\"\n",
    "type(s)"
   ]
  },
  {
   "cell_type": "code",
   "execution_count": 2,
   "id": "1ef5cde3",
   "metadata": {},
   "outputs": [
    {
     "data": {
      "text/plain": [
       "'Python is easy for all.'"
      ]
     },
     "execution_count": 2,
     "metadata": {},
     "output_type": "execute_result"
    }
   ],
   "source": [
    "s"
   ]
  },
  {
   "cell_type": "code",
   "execution_count": 146,
   "id": "8323a235",
   "metadata": {},
   "outputs": [
    {
     "data": {
      "text/plain": [
       "23"
      ]
     },
     "execution_count": 146,
     "metadata": {},
     "output_type": "execute_result"
    }
   ],
   "source": [
    "len(s) \n",
    "#including space also starts from 0 from left, starts from -1 from end right\n",
    "# here 0+22=23,, at -1 is . full stop"
   ]
  },
  {
   "cell_type": "markdown",
   "id": "0668ce35",
   "metadata": {},
   "source": [
    "1. Indexing  and  Slicing operation\n",
    "   In string includes space also and indexing starts from 0 from left, starts from -1 from end right.\n",
    "\n",
    "2. Slicing  with direction and value is important  [start:end:step]\n",
    "   [4:0] incorrect and [0:4] correct"
   ]
  },
  {
   "cell_type": "code",
   "execution_count": 3,
   "id": "f44a1562",
   "metadata": {},
   "outputs": [
    {
     "data": {
      "text/plain": [
       "'Python is easy for all.'"
      ]
     },
     "execution_count": 3,
     "metadata": {},
     "output_type": "execute_result"
    }
   ],
   "source": [
    "s"
   ]
  },
  {
   "cell_type": "code",
   "execution_count": 4,
   "id": "0d6190e8",
   "metadata": {},
   "outputs": [
    {
     "data": {
      "text/plain": [
       "23"
      ]
     },
     "execution_count": 4,
     "metadata": {},
     "output_type": "execute_result"
    }
   ],
   "source": [
    "len(s)"
   ]
  },
  {
   "cell_type": "code",
   "execution_count": 5,
   "id": "4389e1f9",
   "metadata": {},
   "outputs": [
    {
     "name": "stdout",
     "output_type": "stream",
     "text": [
      "<class 'str'>\n"
     ]
    }
   ],
   "source": [
    " try:\n",
    "    print(type(s))\n",
    "except Exception as e:\n",
    "    print(e)"
   ]
  },
  {
   "cell_type": "code",
   "execution_count": 6,
   "id": "491e923e",
   "metadata": {},
   "outputs": [
    {
     "data": {
      "text/plain": [
       "'Pyth'"
      ]
     },
     "execution_count": 6,
     "metadata": {},
     "output_type": "execute_result"
    }
   ],
   "source": [
    "s[0:4]"
   ]
  },
  {
   "cell_type": "code",
   "execution_count": 7,
   "id": "6edffe52",
   "metadata": {},
   "outputs": [
    {
     "data": {
      "text/plain": [
       "'l'"
      ]
     },
     "execution_count": 7,
     "metadata": {},
     "output_type": "execute_result"
    }
   ],
   "source": [
    "s[-2]"
   ]
  },
  {
   "cell_type": "code",
   "execution_count": 8,
   "id": "ca2a14b7",
   "metadata": {},
   "outputs": [
    {
     "data": {
      "text/plain": [
       "'P'"
      ]
     },
     "execution_count": 8,
     "metadata": {},
     "output_type": "execute_result"
    }
   ],
   "source": [
    "s[0]"
   ]
  },
  {
   "cell_type": "code",
   "execution_count": 9,
   "id": "d322137d",
   "metadata": {},
   "outputs": [
    {
     "data": {
      "text/plain": [
       "'n is ea'"
      ]
     },
     "execution_count": 9,
     "metadata": {},
     "output_type": "execute_result"
    }
   ],
   "source": [
    "s[5:12] # including space and here step is by default 1."
   ]
  },
  {
   "cell_type": "code",
   "execution_count": 10,
   "id": "391d308a",
   "metadata": {},
   "outputs": [
    {
     "data": {
      "text/plain": [
       "'Python is easy for all.'"
      ]
     },
     "execution_count": 10,
     "metadata": {},
     "output_type": "execute_result"
    }
   ],
   "source": [
    "s[0:23:1]"
   ]
  },
  {
   "cell_type": "code",
   "execution_count": 11,
   "id": "e8eb6c75",
   "metadata": {},
   "outputs": [
    {
     "data": {
      "text/plain": [
       "'Pto ses o l.'"
      ]
     },
     "execution_count": 11,
     "metadata": {},
     "output_type": "execute_result"
    }
   ],
   "source": [
    "s[0:23:2] # step = 2 skips one in between"
   ]
  },
  {
   "cell_type": "code",
   "execution_count": 12,
   "id": "4ec37665",
   "metadata": {},
   "outputs": [
    {
     "data": {
      "text/plain": [
       "'Pto'"
      ]
     },
     "execution_count": 12,
     "metadata": {},
     "output_type": "execute_result"
    }
   ],
   "source": [
    "s[0:5:2]  # step=2 skips one value "
   ]
  },
  {
   "cell_type": "code",
   "execution_count": 13,
   "id": "f6b61aab",
   "metadata": {},
   "outputs": [
    {
     "data": {
      "text/plain": [
       "'Pto ses o l.'"
      ]
     },
     "execution_count": 13,
     "metadata": {},
     "output_type": "execute_result"
    }
   ],
   "source": [
    "s[0:100:2] #end=100"
   ]
  },
  {
   "cell_type": "code",
   "execution_count": 14,
   "id": "172add75",
   "metadata": {},
   "outputs": [
    {
     "data": {
      "text/plain": [
       "'s o l'"
      ]
     },
     "execution_count": 14,
     "metadata": {},
     "output_type": "execute_result"
    }
   ],
   "source": [
    "s[12:21:2]"
   ]
  },
  {
   "cell_type": "code",
   "execution_count": 15,
   "id": "e3369de8",
   "metadata": {},
   "outputs": [
    {
     "data": {
      "text/plain": [
       "'Python is easy for all.'"
      ]
     },
     "execution_count": 15,
     "metadata": {},
     "output_type": "execute_result"
    }
   ],
   "source": [
    "s[0:]"
   ]
  },
  {
   "cell_type": "code",
   "execution_count": 16,
   "id": "3ae58e15",
   "metadata": {},
   "outputs": [
    {
     "data": {
      "text/plain": [
       "'Python is easy for all.'"
      ]
     },
     "execution_count": 16,
     "metadata": {},
     "output_type": "execute_result"
    }
   ],
   "source": [
    "s[:] # default start = 0 and step =1 here"
   ]
  },
  {
   "cell_type": "code",
   "execution_count": 18,
   "id": "02eb6e11",
   "metadata": {},
   "outputs": [
    {
     "data": {
      "text/plain": [
       "'Python is easy for all.'"
      ]
     },
     "execution_count": 18,
     "metadata": {},
     "output_type": "execute_result"
    }
   ],
   "source": [
    "s[::1]"
   ]
  },
  {
   "cell_type": "code",
   "execution_count": 17,
   "id": "0e3a0ee4",
   "metadata": {},
   "outputs": [
    {
     "data": {
      "text/plain": [
       "'.lla rof ysae si nohtyP'"
      ]
     },
     "execution_count": 17,
     "metadata": {},
     "output_type": "execute_result"
    }
   ],
   "source": [
    "s[::-1]"
   ]
  },
  {
   "cell_type": "code",
   "execution_count": 19,
   "id": "8b8b0b04",
   "metadata": {},
   "outputs": [
    {
     "data": {
      "text/plain": [
       "''"
      ]
     },
     "execution_count": 19,
     "metadata": {},
     "output_type": "execute_result"
    }
   ],
   "source": [
    "s[0:23:-1]   # no output bec direction is opposite here"
   ]
  },
  {
   "cell_type": "code",
   "execution_count": 21,
   "id": "a4454b23",
   "metadata": {},
   "outputs": [
    {
     "data": {
      "text/plain": [
       "'.lla rof ysae '"
      ]
     },
     "execution_count": 21,
     "metadata": {},
     "output_type": "execute_result"
    }
   ],
   "source": [
    "s[-1:-15:-1] #same direction "
   ]
  },
  {
   "cell_type": "code",
   "execution_count": 22,
   "id": "bc7a215d",
   "metadata": {},
   "outputs": [
    {
     "data": {
      "text/plain": [
       "'.l o ses otP'"
      ]
     },
     "execution_count": 22,
     "metadata": {},
     "output_type": "execute_result"
    }
   ],
   "source": [
    "s[-1:-24:-2]"
   ]
  },
  {
   "cell_type": "code",
   "execution_count": 23,
   "id": "e1d76b28",
   "metadata": {},
   "outputs": [],
   "source": [
    "p=\"learning-python\""
   ]
  },
  {
   "cell_type": "code",
   "execution_count": 24,
   "id": "085434cb",
   "metadata": {},
   "outputs": [
    {
     "data": {
      "text/plain": [
       "'learning-python'"
      ]
     },
     "execution_count": 24,
     "metadata": {},
     "output_type": "execute_result"
    }
   ],
   "source": [
    "p"
   ]
  },
  {
   "cell_type": "code",
   "execution_count": 25,
   "id": "58594444",
   "metadata": {},
   "outputs": [
    {
     "data": {
      "text/plain": [
       "15"
      ]
     },
     "execution_count": 25,
     "metadata": {},
     "output_type": "execute_result"
    }
   ],
   "source": [
    "len(p)"
   ]
  },
  {
   "cell_type": "code",
   "execution_count": 26,
   "id": "09e9abdd",
   "metadata": {},
   "outputs": [
    {
     "data": {
      "text/plain": [
       "'ohtyp-gn'"
      ]
     },
     "execution_count": 26,
     "metadata": {},
     "output_type": "execute_result"
    }
   ],
   "source": [
    "p[-2:-10:-1]"
   ]
  },
  {
   "cell_type": "code",
   "execution_count": 27,
   "id": "8765b4bc",
   "metadata": {},
   "outputs": [
    {
     "data": {
      "text/plain": [
       "'pgi'"
      ]
     },
     "execution_count": 27,
     "metadata": {},
     "output_type": "execute_result"
    }
   ],
   "source": [
    "p[9:4:-2]"
   ]
  },
  {
   "cell_type": "code",
   "execution_count": 28,
   "id": "fb89768b",
   "metadata": {},
   "outputs": [
    {
     "data": {
      "text/plain": [
       "'learning-python'"
      ]
     },
     "execution_count": 28,
     "metadata": {},
     "output_type": "execute_result"
    }
   ],
   "source": [
    "p[::]"
   ]
  },
  {
   "cell_type": "code",
   "execution_count": 29,
   "id": "de361c55",
   "metadata": {},
   "outputs": [
    {
     "data": {
      "text/plain": [
       "'learning-python'"
      ]
     },
     "execution_count": 29,
     "metadata": {},
     "output_type": "execute_result"
    }
   ],
   "source": [
    "p[:]"
   ]
  },
  {
   "cell_type": "code",
   "execution_count": 30,
   "id": "6470260f",
   "metadata": {},
   "outputs": [
    {
     "data": {
      "text/plain": [
       "'learning-python'"
      ]
     },
     "execution_count": 30,
     "metadata": {},
     "output_type": "execute_result"
    }
   ],
   "source": [
    "p[0:]"
   ]
  },
  {
   "cell_type": "code",
   "execution_count": 31,
   "id": "17c61611",
   "metadata": {},
   "outputs": [
    {
     "data": {
      "text/plain": [
       "'learning-python'"
      ]
     },
     "execution_count": 31,
     "metadata": {},
     "output_type": "execute_result"
    }
   ],
   "source": [
    "p[0:100:]"
   ]
  },
  {
   "cell_type": "markdown",
   "id": "20fbbf7c",
   "metadata": {},
   "source": [
    "2. Concatination and Multplication of String available"
   ]
  },
  {
   "cell_type": "code",
   "execution_count": 32,
   "id": "bcfc8dab",
   "metadata": {},
   "outputs": [
    {
     "data": {
      "text/plain": [
       "'Python is easy for all.learning-python Thank you'"
      ]
     },
     "execution_count": 32,
     "metadata": {},
     "output_type": "execute_result"
    }
   ],
   "source": [
    "s+ p +\" Thank you\" # concatation of two strings s and p"
   ]
  },
  {
   "cell_type": "code",
   "execution_count": 33,
   "id": "784f7741",
   "metadata": {},
   "outputs": [
    {
     "data": {
      "text/plain": [
       "'learning-pythonlearning-pythonlearning-python'"
      ]
     },
     "execution_count": 33,
     "metadata": {},
     "output_type": "execute_result"
    }
   ],
   "source": [
    "p*3           #printing string P multiple times"
   ]
  },
  {
   "cell_type": "code",
   "execution_count": 12,
   "id": "73168c71",
   "metadata": {},
   "outputs": [],
   "source": [
    "s1=\"  Welcome  \""
   ]
  },
  {
   "cell_type": "code",
   "execution_count": 38,
   "id": "311ef056",
   "metadata": {},
   "outputs": [
    {
     "data": {
      "text/plain": [
       "'  Welcome  '"
      ]
     },
     "execution_count": 38,
     "metadata": {},
     "output_type": "execute_result"
    }
   ],
   "source": [
    "s1"
   ]
  },
  {
   "cell_type": "code",
   "execution_count": 39,
   "id": "2445178d",
   "metadata": {},
   "outputs": [
    {
     "data": {
      "text/plain": [
       "11"
      ]
     },
     "execution_count": 39,
     "metadata": {},
     "output_type": "execute_result"
    }
   ],
   "source": [
    "len(s1) #here space are also counted in the length"
   ]
  },
  {
   "cell_type": "markdown",
   "id": "4c34ff86",
   "metadata": {},
   "source": [
    "2. REMOVE  function : to remove space from right and left of the string."
   ]
  },
  {
   "cell_type": "code",
   "execution_count": 40,
   "id": "9818d7af",
   "metadata": {},
   "outputs": [
    {
     "data": {
      "text/plain": [
       "'Welcome  '"
      ]
     },
     "execution_count": 40,
     "metadata": {},
     "output_type": "execute_result"
    }
   ],
   "source": [
    "# remove space from left side\n",
    "s1.lstrip()"
   ]
  },
  {
   "cell_type": "code",
   "execution_count": 41,
   "id": "130b84cd",
   "metadata": {},
   "outputs": [
    {
     "data": {
      "text/plain": [
       "'  Welcome'"
      ]
     },
     "execution_count": 41,
     "metadata": {},
     "output_type": "execute_result"
    }
   ],
   "source": [
    "#remove space from right side\n",
    "s1.rstrip()"
   ]
  },
  {
   "cell_type": "code",
   "execution_count": 42,
   "id": "666dcf92",
   "metadata": {},
   "outputs": [
    {
     "data": {
      "text/plain": [
       "'Welcome'"
      ]
     },
     "execution_count": 42,
     "metadata": {},
     "output_type": "execute_result"
    }
   ],
   "source": [
    "#remove space from both the sides\n",
    "#add this func by default at start of the code to remove space and to avoid error\n",
    "s1.strip()"
   ]
  },
  {
   "cell_type": "code",
   "execution_count": 43,
   "id": "f9373e77",
   "metadata": {},
   "outputs": [
    {
     "data": {
      "text/plain": [
       "str"
      ]
     },
     "execution_count": 43,
     "metadata": {},
     "output_type": "execute_result"
    }
   ],
   "source": [
    "type(s1.strip())"
   ]
  },
  {
   "cell_type": "markdown",
   "id": "9653810e",
   "metadata": {},
   "source": [
    "BY default string INPUT function has String data type output. "
   ]
  },
  {
   "cell_type": "code",
   "execution_count": 3,
   "id": "6505c969",
   "metadata": {},
   "outputs": [
    {
     "name": "stdout",
     "output_type": "stream",
     "text": [
      "enter your name: Jhonny\n"
     ]
    }
   ],
   "source": [
    "name=input(\"enter your name: \")"
   ]
  },
  {
   "cell_type": "code",
   "execution_count": 2,
   "id": "ee708d2f",
   "metadata": {},
   "outputs": [
    {
     "name": "stdout",
     "output_type": "stream",
     "text": [
      "enter your age: 25\n"
     ]
    }
   ],
   "source": [
    "age=int(input(\"enter your age: \"))"
   ]
  },
  {
   "cell_type": "code",
   "execution_count": 4,
   "id": "87eb5784",
   "metadata": {},
   "outputs": [
    {
     "name": "stdout",
     "output_type": "stream",
     "text": [
      "enter monthly salary: 26.652\n"
     ]
    }
   ],
   "source": [
    "salary=float(input(\"enter monthly salary: \"))"
   ]
  },
  {
   "cell_type": "markdown",
   "id": "bcd2a4f7",
   "metadata": {},
   "source": [
    "3. Find method: to find index of the element of string "
   ]
  },
  {
   "cell_type": "code",
   "execution_count": 5,
   "id": "f63bd5ee",
   "metadata": {},
   "outputs": [],
   "source": [
    "s2=\"PythondatalearningPythondatalearningPythondatalearning\""
   ]
  },
  {
   "cell_type": "code",
   "execution_count": 6,
   "id": "6e47c5c5",
   "metadata": {},
   "outputs": [
    {
     "data": {
      "text/plain": [
       "7"
      ]
     },
     "execution_count": 6,
     "metadata": {},
     "output_type": "execute_result"
    }
   ],
   "source": [
    "s2.find(\"ata\") #shows ata at which index it is "
   ]
  },
  {
   "cell_type": "code",
   "execution_count": 7,
   "id": "084f43e5",
   "metadata": {},
   "outputs": [
    {
     "data": {
      "text/plain": [
       "-1"
      ]
     },
     "execution_count": 7,
     "metadata": {},
     "output_type": "execute_result"
    }
   ],
   "source": [
    "s2.find(\"abc\") #gives output -1 as abc is not present/availble"
   ]
  },
  {
   "cell_type": "markdown",
   "id": "385523cd",
   "metadata": {},
   "source": [
    "4.Count Method: to show how many times an element is present in a string."
   ]
  },
  {
   "cell_type": "code",
   "execution_count": 8,
   "id": "e3c27545",
   "metadata": {},
   "outputs": [
    {
     "data": {
      "text/plain": [
       "3"
      ]
     },
     "execution_count": 8,
     "metadata": {},
     "output_type": "execute_result"
    }
   ],
   "source": [
    "s2.count(\"ata\")"
   ]
  },
  {
   "cell_type": "code",
   "execution_count": 9,
   "id": "386c4c10",
   "metadata": {},
   "outputs": [
    {
     "data": {
      "text/plain": [
       "int"
      ]
     },
     "execution_count": 9,
     "metadata": {},
     "output_type": "execute_result"
    }
   ],
   "source": [
    "type(s2.count(\"ata\"))"
   ]
  },
  {
   "cell_type": "markdown",
   "id": "9fcdaefc",
   "metadata": {},
   "source": [
    "4. split method\n",
    "   -- remember output of this split function is in list"
   ]
  },
  {
   "cell_type": "code",
   "execution_count": 38,
   "id": "c7a020d0",
   "metadata": {},
   "outputs": [],
   "source": [
    "s=\"wel come coders\""
   ]
  },
  {
   "cell_type": "code",
   "execution_count": 39,
   "id": "cc9dcb44",
   "metadata": {},
   "outputs": [
    {
     "data": {
      "text/plain": [
       "['wel come coders']"
      ]
     },
     "execution_count": 39,
     "metadata": {},
     "output_type": "execute_result"
    }
   ],
   "source": [
    "s.split(\"  \")  # split s1 with space \"  \""
   ]
  },
  {
   "cell_type": "code",
   "execution_count": 41,
   "id": "c511cefe",
   "metadata": {},
   "outputs": [
    {
     "data": {
      "text/plain": [
       "['wel come coders']"
      ]
     },
     "execution_count": 41,
     "metadata": {},
     "output_type": "execute_result"
    }
   ],
   "source": [
    "s.split(\" * \")"
   ]
  },
  {
   "cell_type": "code",
   "execution_count": 42,
   "id": "7292bb34",
   "metadata": {},
   "outputs": [],
   "source": [
    "s3=\"jyothi hande jyothi hande\""
   ]
  },
  {
   "cell_type": "code",
   "execution_count": 43,
   "id": "5a882ff1",
   "metadata": {},
   "outputs": [
    {
     "data": {
      "text/plain": [
       "['jyothi', 'hande', 'jyothi', 'hande']"
      ]
     },
     "execution_count": 43,
     "metadata": {},
     "output_type": "execute_result"
    }
   ],
   "source": [
    "s3.split(\" \")"
   ]
  },
  {
   "cell_type": "code",
   "execution_count": 44,
   "id": "9cfc2310",
   "metadata": {},
   "outputs": [
    {
     "data": {
      "text/plain": [
       "list"
      ]
     },
     "execution_count": 44,
     "metadata": {},
     "output_type": "execute_result"
    }
   ],
   "source": [
    "type(s3.split(\" \")) # type of split output is list"
   ]
  },
  {
   "cell_type": "markdown",
   "id": "dca373c5",
   "metadata": {},
   "source": [
    "5. Replace function "
   ]
  },
  {
   "cell_type": "code",
   "execution_count": 54,
   "id": "d008887e",
   "metadata": {},
   "outputs": [
    {
     "data": {
      "text/plain": [
       "'python is easy'"
      ]
     },
     "execution_count": 54,
     "metadata": {},
     "output_type": "execute_result"
    }
   ],
   "source": [
    "s=\"python is easy\"\n",
    "s"
   ]
  },
  {
   "cell_type": "code",
   "execution_count": 55,
   "id": "32a9e928",
   "metadata": {},
   "outputs": [],
   "source": [
    "n=\"hard\""
   ]
  },
  {
   "cell_type": "code",
   "execution_count": 58,
   "id": "18776831",
   "metadata": {},
   "outputs": [
    {
     "data": {
      "text/plain": [
       "'c is easy'"
      ]
     },
     "execution_count": 58,
     "metadata": {},
     "output_type": "execute_result"
    }
   ],
   "source": [
    "s1=s.replace(\"python\",\"c\")\n",
    "s1"
   ]
  },
  {
   "cell_type": "code",
   "execution_count": 57,
   "id": "4a5e51fb",
   "metadata": {},
   "outputs": [
    {
     "data": {
      "text/plain": [
       "'python is hard'"
      ]
     },
     "execution_count": 57,
     "metadata": {},
     "output_type": "execute_result"
    }
   ],
   "source": [
    "s.replace(\"easy\",n)"
   ]
  },
  {
   "cell_type": "markdown",
   "id": "b53f7509",
   "metadata": {},
   "source": [
    "6. Join method of a string"
   ]
  },
  {
   "cell_type": "code",
   "execution_count": 59,
   "id": "9c52963d",
   "metadata": {},
   "outputs": [],
   "source": [
    "s5 = (\"Python\",\"is\",\"easy\",\"for\",\"all\",\"45\") #tuple created"
   ]
  },
  {
   "cell_type": "code",
   "execution_count": 60,
   "id": "1d8dab4b",
   "metadata": {},
   "outputs": [],
   "source": [
    "t  =\"  \".join(s5) #joined with space"
   ]
  },
  {
   "cell_type": "code",
   "execution_count": 61,
   "id": "f966a8cf",
   "metadata": {},
   "outputs": [
    {
     "data": {
      "text/plain": [
       "'Python  is  easy  for  all  45'"
      ]
     },
     "execution_count": 61,
     "metadata": {},
     "output_type": "execute_result"
    }
   ],
   "source": [
    "t"
   ]
  },
  {
   "cell_type": "code",
   "execution_count": 62,
   "id": "2a73a86b",
   "metadata": {},
   "outputs": [],
   "source": [
    "t  =\" A \".join(s5)"
   ]
  },
  {
   "cell_type": "code",
   "execution_count": 63,
   "id": "bf80ad43",
   "metadata": {},
   "outputs": [
    {
     "data": {
      "text/plain": [
       "'Python A is A easy A for A all A 45'"
      ]
     },
     "execution_count": 63,
     "metadata": {},
     "output_type": "execute_result"
    }
   ],
   "source": [
    "t"
   ]
  },
  {
   "cell_type": "code",
   "execution_count": 64,
   "id": "3f818a3f",
   "metadata": {},
   "outputs": [
    {
     "data": {
      "text/plain": [
       "'Python * is * easy * for * all * 45'"
      ]
     },
     "execution_count": 64,
     "metadata": {},
     "output_type": "execute_result"
    }
   ],
   "source": [
    "t  =\" * \".join(s5)\n",
    "t"
   ]
  },
  {
   "cell_type": "markdown",
   "id": "132aec0a",
   "metadata": {},
   "source": [
    "7. LOWER/UPPER function for string"
   ]
  },
  {
   "cell_type": "code",
   "execution_count": 65,
   "id": "8ddc0b7e",
   "metadata": {},
   "outputs": [],
   "source": [
    "a=\"We are Learning PYTHON\""
   ]
  },
  {
   "cell_type": "code",
   "execution_count": 66,
   "id": "e9a1b658",
   "metadata": {},
   "outputs": [
    {
     "data": {
      "text/plain": [
       "'we are learning python'"
      ]
     },
     "execution_count": 66,
     "metadata": {},
     "output_type": "execute_result"
    }
   ],
   "source": [
    "a.lower()"
   ]
  },
  {
   "cell_type": "code",
   "execution_count": 67,
   "id": "bed47ed2",
   "metadata": {},
   "outputs": [
    {
     "data": {
      "text/plain": [
       "'WE ARE LEARNING PYTHON'"
      ]
     },
     "execution_count": 67,
     "metadata": {},
     "output_type": "execute_result"
    }
   ],
   "source": [
    "a.upper()"
   ]
  },
  {
   "cell_type": "code",
   "execution_count": 68,
   "id": "edcca91f",
   "metadata": {},
   "outputs": [
    {
     "data": {
      "text/plain": [
       "'We Are Learning Python'"
      ]
     },
     "execution_count": 68,
     "metadata": {},
     "output_type": "execute_result"
    }
   ],
   "source": [
    "a.title() #first alphabet becomes upper case"
   ]
  },
  {
   "cell_type": "code",
   "execution_count": 69,
   "id": "003a8a3b",
   "metadata": {},
   "outputs": [
    {
     "data": {
      "text/plain": [
       "'We are learning python'"
      ]
     },
     "execution_count": 69,
     "metadata": {},
     "output_type": "execute_result"
    }
   ],
   "source": [
    "a.capitalize() # only first letter becomes upper case"
   ]
  },
  {
   "cell_type": "code",
   "execution_count": 70,
   "id": "ddf63305",
   "metadata": {},
   "outputs": [
    {
     "data": {
      "text/plain": [
       "'wE ARE lEARNING python'"
      ]
     },
     "execution_count": 70,
     "metadata": {},
     "output_type": "execute_result"
    }
   ],
   "source": [
    "a.swapcase()  # captital becomes small and vice versa"
   ]
  },
  {
   "cell_type": "markdown",
   "id": "f9fb27e4",
   "metadata": {},
   "source": [
    "8. Center method : Finds CENTER OF THE STRING"
   ]
  },
  {
   "cell_type": "code",
   "execution_count": 71,
   "id": "7eb66fe0",
   "metadata": {},
   "outputs": [],
   "source": [
    "b=\"python\""
   ]
  },
  {
   "cell_type": "code",
   "execution_count": 72,
   "id": "6067a351",
   "metadata": {},
   "outputs": [
    {
     "data": {
      "text/plain": [
       "'*****python****'"
      ]
     },
     "execution_count": 72,
     "metadata": {},
     "output_type": "execute_result"
    }
   ],
   "source": [
    "b.center(15,\"*\")"
   ]
  },
  {
   "cell_type": "markdown",
   "id": "6ab8e1aa",
   "metadata": {},
   "source": [
    "9. to verify string input by customer is upper or lower case.\n",
    "   output is T or F"
   ]
  },
  {
   "cell_type": "code",
   "execution_count": 73,
   "id": "76f4f7db",
   "metadata": {},
   "outputs": [
    {
     "data": {
      "text/plain": [
       "'python'"
      ]
     },
     "execution_count": 73,
     "metadata": {},
     "output_type": "execute_result"
    }
   ],
   "source": [
    "b"
   ]
  },
  {
   "cell_type": "code",
   "execution_count": 74,
   "id": "8cc53ae2",
   "metadata": {},
   "outputs": [
    {
     "data": {
      "text/plain": [
       "False"
      ]
     },
     "execution_count": 74,
     "metadata": {},
     "output_type": "execute_result"
    }
   ],
   "source": [
    "b.isupper()   # b=python is upper case /lower case or not"
   ]
  },
  {
   "cell_type": "code",
   "execution_count": 75,
   "id": "a9b59f6d",
   "metadata": {},
   "outputs": [
    {
     "data": {
      "text/plain": [
       "True"
      ]
     },
     "execution_count": 75,
     "metadata": {},
     "output_type": "execute_result"
    }
   ],
   "source": [
    "b.islower()  # b=python is upper case /lower case or not"
   ]
  },
  {
   "cell_type": "code",
   "execution_count": 76,
   "id": "e8a1f654",
   "metadata": {},
   "outputs": [
    {
     "data": {
      "text/plain": [
       "False"
      ]
     },
     "execution_count": 76,
     "metadata": {},
     "output_type": "execute_result"
    }
   ],
   "source": [
    "b.istitle() # title starts with upper case"
   ]
  },
  {
   "cell_type": "code",
   "execution_count": 77,
   "id": "f7b34e69",
   "metadata": {},
   "outputs": [
    {
     "ename": "AttributeError",
     "evalue": "'str' object has no attribute 'iscapitalize'",
     "output_type": "error",
     "traceback": [
      "\u001b[1;31m---------------------------------------------------------------------------\u001b[0m",
      "\u001b[1;31mAttributeError\u001b[0m                            Traceback (most recent call last)",
      "Input \u001b[1;32mIn [77]\u001b[0m, in \u001b[0;36m<cell line: 1>\u001b[1;34m()\u001b[0m\n\u001b[1;32m----> 1\u001b[0m \u001b[43mb\u001b[49m\u001b[38;5;241;43m.\u001b[39;49m\u001b[43miscapitalize\u001b[49m()\n",
      "\u001b[1;31mAttributeError\u001b[0m: 'str' object has no attribute 'iscapitalize'"
     ]
    }
   ],
   "source": [
    "b.iscapitalize()   # is capitalize do not support in string"
   ]
  },
  {
   "cell_type": "code",
   "execution_count": 79,
   "id": "16475844",
   "metadata": {},
   "outputs": [
    {
     "data": {
      "text/plain": [
       "True"
      ]
     },
     "execution_count": 79,
     "metadata": {},
     "output_type": "execute_result"
    }
   ],
   "source": [
    "b.isalpha()  # b =python is alphabetical string or not"
   ]
  },
  {
   "cell_type": "code",
   "execution_count": 80,
   "id": "aab37ddd",
   "metadata": {},
   "outputs": [
    {
     "data": {
      "text/plain": [
       "True"
      ]
     },
     "execution_count": 80,
     "metadata": {},
     "output_type": "execute_result"
    }
   ],
   "source": [
    "b.isalnum() # b python has numeric value or not"
   ]
  },
  {
   "cell_type": "code",
   "execution_count": 81,
   "id": "beb448c0",
   "metadata": {},
   "outputs": [
    {
     "data": {
      "text/plain": [
       "False"
      ]
     },
     "execution_count": 81,
     "metadata": {},
     "output_type": "execute_result"
    }
   ],
   "source": [
    "b.isspace() # b=python has space or not"
   ]
  },
  {
   "cell_type": "code",
   "execution_count": 82,
   "id": "70e780fb",
   "metadata": {},
   "outputs": [
    {
     "data": {
      "text/plain": [
       "False"
      ]
     },
     "execution_count": 82,
     "metadata": {},
     "output_type": "execute_result"
    }
   ],
   "source": [
    "b.isdigit()  # is b value is numeric or not"
   ]
  },
  {
   "cell_type": "code",
   "execution_count": 92,
   "id": "5317da1e",
   "metadata": {},
   "outputs": [
    {
     "data": {
      "text/plain": [
       "'python is easy'"
      ]
     },
     "execution_count": 92,
     "metadata": {},
     "output_type": "execute_result"
    }
   ],
   "source": [
    "s4"
   ]
  },
  {
   "cell_type": "code",
   "execution_count": 83,
   "id": "7042b3c7",
   "metadata": {},
   "outputs": [
    {
     "data": {
      "text/plain": [
       "True"
      ]
     },
     "execution_count": 83,
     "metadata": {},
     "output_type": "execute_result"
    }
   ],
   "source": [
    "\"python\" in s4    # method in helps to check element is available or not in string s4"
   ]
  },
  {
   "cell_type": "code",
   "execution_count": 94,
   "id": "4a13a034",
   "metadata": {},
   "outputs": [
    {
     "data": {
      "text/plain": [
       "True"
      ]
     },
     "execution_count": 94,
     "metadata": {},
     "output_type": "execute_result"
    }
   ],
   "source": [
    "\"hello\" not in s4"
   ]
  },
  {
   "cell_type": "code",
   "execution_count": 95,
   "id": "5d5a6af2",
   "metadata": {},
   "outputs": [
    {
     "data": {
      "text/plain": [
       "'python'"
      ]
     },
     "execution_count": 95,
     "metadata": {},
     "output_type": "execute_result"
    }
   ],
   "source": [
    "b"
   ]
  },
  {
   "cell_type": "code",
   "execution_count": 96,
   "id": "e22fa545",
   "metadata": {},
   "outputs": [
    {
     "data": {
      "text/plain": [
       "True"
      ]
     },
     "execution_count": 96,
     "metadata": {},
     "output_type": "execute_result"
    }
   ],
   "source": [
    "b.startswith('p')"
   ]
  },
  {
   "cell_type": "code",
   "execution_count": 98,
   "id": "ce87ada3",
   "metadata": {},
   "outputs": [
    {
     "data": {
      "text/plain": [
       "'PythondatalearningPythondatalearningPythondatalearning'"
      ]
     },
     "execution_count": 98,
     "metadata": {},
     "output_type": "execute_result"
    }
   ],
   "source": [
    "s2"
   ]
  },
  {
   "cell_type": "code",
   "execution_count": 97,
   "id": "4021813f",
   "metadata": {},
   "outputs": [
    {
     "data": {
      "text/plain": [
       "True"
      ]
     },
     "execution_count": 97,
     "metadata": {},
     "output_type": "execute_result"
    }
   ],
   "source": [
    "s2.startswith(\"Python\")"
   ]
  },
  {
   "cell_type": "code",
   "execution_count": 99,
   "id": "6f403ded",
   "metadata": {},
   "outputs": [
    {
     "data": {
      "text/plain": [
       "True"
      ]
     },
     "execution_count": 99,
     "metadata": {},
     "output_type": "execute_result"
    }
   ],
   "source": [
    "k=\"abc@gmail.com\"\n",
    "k.endswith(\".com\")"
   ]
  }
 ],
 "metadata": {
  "kernelspec": {
   "display_name": "Python 3 (ipykernel)",
   "language": "python",
   "name": "python3"
  },
  "language_info": {
   "codemirror_mode": {
    "name": "ipython",
    "version": 3
   },
   "file_extension": ".py",
   "mimetype": "text/x-python",
   "name": "python",
   "nbconvert_exporter": "python",
   "pygments_lexer": "ipython3",
   "version": "3.9.12"
  }
 },
 "nbformat": 4,
 "nbformat_minor": 5
}
