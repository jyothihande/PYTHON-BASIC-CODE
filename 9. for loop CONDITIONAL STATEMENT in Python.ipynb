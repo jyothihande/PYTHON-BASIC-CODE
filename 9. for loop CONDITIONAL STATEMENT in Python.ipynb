{
 "cells": [
  {
   "cell_type": "markdown",
   "id": "f0cfc945",
   "metadata": {},
   "source": [
    "# FOR LOOP IN PYTHON"
   ]
  },
  {
   "cell_type": "markdown",
   "id": "0b666259",
   "metadata": {},
   "source": [
    "1. for loop is used for n number of execution.\n",
    "2. if else gives one output\n",
    "3. Break continue is used in for loop"
   ]
  },
  {
   "cell_type": "markdown",
   "id": "e128d2a7",
   "metadata": {},
   "source": [
    "Here each element is executed using for loop"
   ]
  },
  {
   "cell_type": "markdown",
   "id": "9f246e14",
   "metadata": {},
   "source": [
    "1. for items in collection:\n",
    "   print(items)\n",
    "\n",
    "2. for i in l:\n",
    "   print(i)\n",
    "    \n",
    "3. for list_samples in list1:\n",
    "   print(list_samples)"
   ]
  },
  {
   "cell_type": "code",
   "execution_count": 1,
   "id": "edac0205",
   "metadata": {},
   "outputs": [],
   "source": [
    "l=[12,1,58,154,9,2,3,6,7,99,601]"
   ]
  },
  {
   "cell_type": "code",
   "execution_count": 2,
   "id": "06ff82f5",
   "metadata": {},
   "outputs": [
    {
     "data": {
      "text/plain": [
       "2"
      ]
     },
     "execution_count": 2,
     "metadata": {},
     "output_type": "execute_result"
    }
   ],
   "source": [
    "l[5]  #each time coder can not search for each index so use loop and it saves time"
   ]
  },
  {
   "cell_type": "code",
   "execution_count": 3,
   "id": "74b419b3",
   "metadata": {},
   "outputs": [
    {
     "data": {
      "text/plain": [
       "58"
      ]
     },
     "execution_count": 3,
     "metadata": {},
     "output_type": "execute_result"
    }
   ],
   "source": [
    "l[2]"
   ]
  },
  {
   "cell_type": "code",
   "execution_count": 4,
   "id": "da828ae0",
   "metadata": {
    "scrolled": true
   },
   "outputs": [
    {
     "name": "stdout",
     "output_type": "stream",
     "text": [
      "12\n",
      "1\n",
      "58\n",
      "154\n",
      "9\n",
      "2\n",
      "3\n",
      "6\n",
      "7\n",
      "99\n",
      "601\n"
     ]
    }
   ],
   "source": [
    "for i in l:\n",
    "    print(i)"
   ]
  },
  {
   "cell_type": "markdown",
   "id": "e56ce0b5",
   "metadata": {},
   "source": [
    "# PRACTICE QUESTION"
   ]
  },
  {
   "cell_type": "code",
   "execution_count": 7,
   "id": "98149cae",
   "metadata": {},
   "outputs": [],
   "source": [
    "d={1,2,3}"
   ]
  },
  {
   "cell_type": "code",
   "execution_count": 8,
   "id": "e23f03b9",
   "metadata": {
    "scrolled": true
   },
   "outputs": [
    {
     "name": "stdout",
     "output_type": "stream",
     "text": [
      "{1, 2, 3}\n",
      "{1, 2, 3}\n",
      "{1, 2, 3}\n"
     ]
    }
   ],
   "source": [
    "for i in d:\n",
    "    print(d)"
   ]
  },
  {
   "cell_type": "markdown",
   "id": "01cc8337",
   "metadata": {},
   "source": [
    "    *******    AND    ******"
   ]
  },
  {
   "cell_type": "code",
   "execution_count": 15,
   "id": "36bd4cf8",
   "metadata": {},
   "outputs": [
    {
     "name": "stdout",
     "output_type": "stream",
     "text": [
      "1\n",
      "2\n",
      "3\n"
     ]
    }
   ],
   "source": [
    "for i in d:\n",
    "    print(i,)"
   ]
  },
  {
   "cell_type": "markdown",
   "id": "63414330",
   "metadata": {},
   "source": [
    "# CHECK CODE"
   ]
  },
  {
   "cell_type": "code",
   "execution_count": 16,
   "id": "bb09f6fa",
   "metadata": {},
   "outputs": [],
   "source": [
    "list1=[12,56,89,41,1,58,154,99,601]"
   ]
  },
  {
   "cell_type": "code",
   "execution_count": 17,
   "id": "1a6c7ead",
   "metadata": {},
   "outputs": [
    {
     "name": "stdout",
     "output_type": "stream",
     "text": [
      "12\n",
      "56\n",
      "89\n",
      "41\n",
      "1\n",
      "58\n",
      "154\n",
      "99\n",
      "601\n"
     ]
    }
   ],
   "source": [
    "for list_samples in list1:\n",
    "    print(list_samples)"
   ]
  },
  {
   "cell_type": "code",
   "execution_count": 18,
   "id": "dbfdac2b",
   "metadata": {},
   "outputs": [
    {
     "name": "stdout",
     "output_type": "stream",
     "text": [
      "12 56 89 41 1 58 154 99 601 "
     ]
    }
   ],
   "source": [
    "for list_samples in list1:\n",
    "    print(list_samples,end=(\" \"))  # end=\" \" gives output in a single line     "
   ]
  },
  {
   "cell_type": "markdown",
   "id": "906131f0",
   "metadata": {},
   "source": [
    "# Break continue is used in for loop"
   ]
  },
  {
   "cell_type": "code",
   "execution_count": 19,
   "id": "f33f7efd",
   "metadata": {},
   "outputs": [
    {
     "data": {
      "text/plain": [
       "[12, 1, 58, 154, 9, 2, 3, 6, 7, 99, 601]"
      ]
     },
     "execution_count": 19,
     "metadata": {},
     "output_type": "execute_result"
    }
   ],
   "source": [
    "l"
   ]
  },
  {
   "cell_type": "code",
   "execution_count": 20,
   "id": "bf3adc6b",
   "metadata": {},
   "outputs": [
    {
     "name": "stdout",
     "output_type": "stream",
     "text": [
      "12 1 58 154 9 2 "
     ]
    }
   ],
   "source": [
    "for i in l:\n",
    "    print(i,end=(\" \"))\n",
    "    if i==2:\n",
    "        break  #output till 2 only"
   ]
  },
  {
   "cell_type": "markdown",
   "id": "1ce6fd1f",
   "metadata": {},
   "source": [
    "# for else code:"
   ]
  },
  {
   "cell_type": "code",
   "execution_count": 21,
   "id": "86610cf5",
   "metadata": {},
   "outputs": [
    {
     "name": "stdout",
     "output_type": "stream",
     "text": [
      "12\n",
      "1\n",
      "58\n",
      "154\n",
      "9\n",
      "2\n",
      "3\n",
      "6\n",
      "7\n",
      "99\n",
      "601\n",
      " execute list once \n"
     ]
    }
   ],
   "source": [
    "for i in l:\n",
    "    print(i)\n",
    "else:\n",
    "    print(\" execute list once \")"
   ]
  },
  {
   "cell_type": "code",
   "execution_count": 22,
   "id": "277d86f2",
   "metadata": {},
   "outputs": [
    {
     "name": "stdout",
     "output_type": "stream",
     "text": [
      "12\n",
      "1\n",
      "58\n",
      "154\n",
      "9\n",
      "2\n"
     ]
    }
   ],
   "source": [
    "for i in l:\n",
    "    print(i)\n",
    "    if i==2:\n",
    "        break\n",
    "else:\n",
    "    print(\" execute list once \")"
   ]
  },
  {
   "cell_type": "code",
   "execution_count": 23,
   "id": "cb2fc37d",
   "metadata": {},
   "outputs": [
    {
     "name": "stdout",
     "output_type": "stream",
     "text": [
      "1 2 5 6 8 4 8 "
     ]
    }
   ],
   "source": [
    "s='1256848' #string\n",
    "for i in s:\n",
    "    print(i,end=\" \")"
   ]
  },
  {
   "cell_type": "code",
   "execution_count": 24,
   "id": "bc671ad1",
   "metadata": {},
   "outputs": [
    {
     "name": "stdout",
     "output_type": "stream",
     "text": [
      "65 1 4 6 9 15 19 23 "
     ]
    }
   ],
   "source": [
    "n={15,65,9,19,1,23,4,6}\n",
    "for i in n:\n",
    "    print(i,end=\" \")"
   ]
  },
  {
   "cell_type": "markdown",
   "id": "bad9b105",
   "metadata": {},
   "source": [
    "# dictionary using for:"
   ]
  },
  {
   "cell_type": "code",
   "execution_count": 25,
   "id": "19406fdd",
   "metadata": {},
   "outputs": [],
   "source": [
    "d={'key':'value','name':'jyothi','contact':'9784612566'}"
   ]
  },
  {
   "cell_type": "code",
   "execution_count": 26,
   "id": "7828ef98",
   "metadata": {},
   "outputs": [
    {
     "data": {
      "text/plain": [
       "'jyothi'"
      ]
     },
     "execution_count": 26,
     "metadata": {},
     "output_type": "execute_result"
    }
   ],
   "source": [
    "d['name']"
   ]
  },
  {
   "cell_type": "code",
   "execution_count": 27,
   "id": "adf3ced2",
   "metadata": {},
   "outputs": [
    {
     "name": "stdout",
     "output_type": "stream",
     "text": [
      "key\n",
      "name\n",
      "contact\n"
     ]
    }
   ],
   "source": [
    "for i in d:\n",
    "    print(i)"
   ]
  },
  {
   "cell_type": "code",
   "execution_count": 28,
   "id": "e9a287bd",
   "metadata": {},
   "outputs": [
    {
     "name": "stdout",
     "output_type": "stream",
     "text": [
      "key : value\n",
      "name : jyothi\n",
      "contact : 9784612566\n"
     ]
    }
   ],
   "source": [
    "for i in d:\n",
    "    print(i,\":\",d[i])"
   ]
  },
  {
   "cell_type": "markdown",
   "id": "a49aefca",
   "metadata": {},
   "source": [
    "# RANGE FUNCTION IN FOR LOOP"
   ]
  },
  {
   "cell_type": "markdown",
   "id": "4674cb09",
   "metadata": {},
   "source": [
    "range function   (start:end:stop)"
   ]
  },
  {
   "cell_type": "code",
   "execution_count": 29,
   "id": "39770687",
   "metadata": {},
   "outputs": [
    {
     "data": {
      "text/plain": [
       "[12, 1, 58, 154, 9, 2, 3, 6, 7, 99, 601]"
      ]
     },
     "execution_count": 29,
     "metadata": {},
     "output_type": "execute_result"
    }
   ],
   "source": [
    "l"
   ]
  },
  {
   "cell_type": "code",
   "execution_count": 30,
   "id": "b6df01dd",
   "metadata": {},
   "outputs": [
    {
     "name": "stdout",
     "output_type": "stream",
     "text": [
      "1 2 3 4 5 6 7 8 9 10 11 12 13 14 "
     ]
    }
   ],
   "source": [
    "for i in range (1,15):\n",
    "    print(i,end=\" \")\n"
   ]
  },
  {
   "cell_type": "code",
   "execution_count": 31,
   "id": "c35505a7",
   "metadata": {},
   "outputs": [
    {
     "name": "stdout",
     "output_type": "stream",
     "text": [
      "0 1 2 3 4 5 6 7 8 9 10 11 "
     ]
    }
   ],
   "source": [
    "for i in range(12):\n",
    "    print(i,end=' ')"
   ]
  },
  {
   "cell_type": "code",
   "execution_count": 32,
   "id": "b35e93e6",
   "metadata": {},
   "outputs": [
    {
     "name": "stdout",
     "output_type": "stream",
     "text": [
      "1 3 5 7 9 11 13 15 17 19 21 23 "
     ]
    }
   ],
   "source": [
    "for i in range(1,25,2):\n",
    "    print(i,end=\" \")"
   ]
  },
  {
   "cell_type": "markdown",
   "id": "ecad7cdc",
   "metadata": {},
   "source": [
    "# To check index value in list"
   ]
  },
  {
   "cell_type": "code",
   "execution_count": 33,
   "id": "f64658dd",
   "metadata": {},
   "outputs": [
    {
     "data": {
      "text/plain": [
       "[12, 1, 58, 154, 9, 2, 3, 6, 7, 99, 601]"
      ]
     },
     "execution_count": 33,
     "metadata": {},
     "output_type": "execute_result"
    }
   ],
   "source": [
    "l"
   ]
  },
  {
   "cell_type": "code",
   "execution_count": 34,
   "id": "dd59a951",
   "metadata": {},
   "outputs": [
    {
     "name": "stdout",
     "output_type": "stream",
     "text": [
      "0 = 12\n",
      "1 = 1\n",
      "2 = 58\n",
      "3 = 154\n",
      "4 = 9\n",
      "5 = 2\n",
      "6 = 3\n",
      "7 = 6\n",
      "8 = 7\n",
      "9 = 99\n",
      "10 = 601\n"
     ]
    }
   ],
   "source": [
    "for i in range(11):\n",
    "    print(i,\"=\",l[i])"
   ]
  },
  {
   "cell_type": "markdown",
   "id": "eba4a1e2",
   "metadata": {},
   "source": [
    "# STRING indexing using RANGE :"
   ]
  },
  {
   "cell_type": "code",
   "execution_count": 35,
   "id": "27004c49",
   "metadata": {},
   "outputs": [],
   "source": [
    "s=\"jyothi Hande\""
   ]
  },
  {
   "cell_type": "code",
   "execution_count": 36,
   "id": "c0f9d4ee",
   "metadata": {},
   "outputs": [
    {
     "name": "stdout",
     "output_type": "stream",
     "text": [
      "0 = j\n",
      "1 = y\n",
      "2 = o\n",
      "3 = t\n",
      "4 = h\n",
      "5 = i\n",
      "6 =  \n",
      "7 = H\n",
      "8 = a\n",
      "9 = n\n",
      "10 = d\n",
      "11 = e\n"
     ]
    }
   ],
   "source": [
    "for i in range(len(s)):\n",
    "    print(i,\"=\",s[i])"
   ]
  },
  {
   "cell_type": "code",
   "execution_count": 37,
   "id": "d2361b63",
   "metadata": {},
   "outputs": [
    {
     "ename": "TypeError",
     "evalue": "'str' object cannot be interpreted as an integer",
     "output_type": "error",
     "traceback": [
      "\u001b[1;31m---------------------------------------------------------------------------\u001b[0m",
      "\u001b[1;31mTypeError\u001b[0m                                 Traceback (most recent call last)",
      "Input \u001b[1;32mIn [37]\u001b[0m, in \u001b[0;36m<cell line: 1>\u001b[1;34m()\u001b[0m\n\u001b[1;32m----> 1\u001b[0m \u001b[38;5;28;01mfor\u001b[39;00m i \u001b[38;5;129;01min\u001b[39;00m \u001b[38;5;28;43mrange\u001b[39;49m\u001b[43m(\u001b[49m\u001b[43ms\u001b[49m\u001b[43m)\u001b[49m:\n\u001b[0;32m      2\u001b[0m     \u001b[38;5;28mprint\u001b[39m(i,\u001b[38;5;124m\"\u001b[39m\u001b[38;5;124m=\u001b[39m\u001b[38;5;124m\"\u001b[39m,s[i])\n\u001b[0;32m      3\u001b[0m     \u001b[38;5;28;01mpass\u001b[39;00m\n",
      "\u001b[1;31mTypeError\u001b[0m: 'str' object cannot be interpreted as an integer"
     ]
    }
   ],
   "source": [
    "for i in range(s):\n",
    "    print(i,\"=\",s[i])\n",
    "    pass    # string do not support pass"
   ]
  },
  {
   "cell_type": "markdown",
   "id": "c858e5ad",
   "metadata": {},
   "source": [
    "# TABLE OF 3 USING RANGE:"
   ]
  },
  {
   "cell_type": "code",
   "execution_count": 38,
   "id": "cd8a9d7e",
   "metadata": {},
   "outputs": [
    {
     "name": "stdout",
     "output_type": "stream",
     "text": [
      "3 * 1 = 3\n",
      "3 * 2 = 6\n",
      "3 * 3 = 9\n",
      "3 * 4 = 12\n",
      "3 * 5 = 15\n",
      "3 * 6 = 18\n",
      "3 * 7 = 21\n",
      "3 * 8 = 24\n",
      "3 * 9 = 27\n",
      "3 * 10 = 30\n"
     ]
    }
   ],
   "source": [
    "for i in range(1,11):\n",
    "    print(3,\"*\",i,\"=\",i*3)"
   ]
  },
  {
   "cell_type": "code",
   "execution_count": 39,
   "id": "192ff2c1",
   "metadata": {},
   "outputs": [
    {
     "name": "stdout",
     "output_type": "stream",
     "text": [
      "7 * 1 = 7\n",
      "7 * 2 = 14\n",
      "7 * 3 = 21\n",
      "7 * 4 = 28\n",
      "7 * 5 = 35\n",
      "7 * 6 = 42\n",
      "7 * 7 = 49\n",
      "7 * 8 = 56\n",
      "7 * 9 = 63\n",
      "7 * 10 = 70\n"
     ]
    }
   ],
   "source": [
    "for i in range(1,11):\n",
    "    print(7,\"*\",i,\"=\",i*7)"
   ]
  },
  {
   "cell_type": "code",
   "execution_count": 40,
   "id": "1bbfd894",
   "metadata": {},
   "outputs": [
    {
     "name": "stdout",
     "output_type": "stream",
     "text": [
      "enter number for multiplication: 7\n",
      "7 * 1 = 7\n",
      "7 * 2 = 14\n",
      "7 * 3 = 21\n",
      "7 * 4 = 28\n",
      "7 * 5 = 35\n",
      "7 * 6 = 42\n",
      "7 * 7 = 49\n",
      "7 * 8 = 56\n",
      "7 * 9 = 63\n",
      "7 * 10 = 70\n"
     ]
    }
   ],
   "source": [
    "s=int(input(\"enter number for multiplication: \"))\n",
    "for i in range(1,11):\n",
    "    print(s,\"*\",i,\"=\",i*s)"
   ]
  },
  {
   "cell_type": "markdown",
   "id": "3528e8ae",
   "metadata": {},
   "source": [
    "# find in string how many times a is there in STRING "
   ]
  },
  {
   "cell_type": "code",
   "execution_count": 41,
   "id": "a39fcbc5",
   "metadata": {},
   "outputs": [],
   "source": [
    "y=\"aaaaakkkkkkjjshshlllooo\""
   ]
  },
  {
   "cell_type": "code",
   "execution_count": 42,
   "id": "66a66899",
   "metadata": {},
   "outputs": [
    {
     "name": "stdout",
     "output_type": "stream",
     "text": [
      "a : 5\n",
      "a : 5\n",
      "a : 5\n",
      "a : 5\n",
      "a : 5\n",
      "k : 6\n",
      "k : 6\n",
      "k : 6\n",
      "k : 6\n",
      "k : 6\n",
      "k : 6\n",
      "j : 2\n",
      "j : 2\n",
      "s : 2\n",
      "h : 2\n",
      "s : 2\n",
      "h : 2\n",
      "l : 3\n",
      "l : 3\n",
      "l : 3\n",
      "o : 3\n",
      "o : 3\n",
      "o : 3\n"
     ]
    }
   ],
   "source": [
    "for i in y:\n",
    "    print(i,\":\",y.count(i))\n",
    "    "
   ]
  },
  {
   "cell_type": "code",
   "execution_count": 43,
   "id": "1d5dba33",
   "metadata": {},
   "outputs": [
    {
     "data": {
      "text/plain": [
       "'aaaaakkkkkkjjshshlllooo'"
      ]
     },
     "execution_count": 43,
     "metadata": {},
     "output_type": "execute_result"
    }
   ],
   "source": [
    "y"
   ]
  },
  {
   "cell_type": "code",
   "execution_count": 44,
   "id": "116ba8cb",
   "metadata": {},
   "outputs": [
    {
     "data": {
      "text/plain": [
       "{'a', 'h', 'j', 'k', 'l', 'o', 's'}"
      ]
     },
     "execution_count": 44,
     "metadata": {},
     "output_type": "execute_result"
    }
   ],
   "source": [
    "set(y)"
   ]
  },
  {
   "cell_type": "code",
   "execution_count": 45,
   "id": "b83807bb",
   "metadata": {},
   "outputs": [],
   "source": [
    "k=set(y)"
   ]
  },
  {
   "cell_type": "code",
   "execution_count": 46,
   "id": "d40f8958",
   "metadata": {},
   "outputs": [
    {
     "data": {
      "text/plain": [
       "{'a', 'h', 'j', 'k', 'l', 'o', 's'}"
      ]
     },
     "execution_count": 46,
     "metadata": {},
     "output_type": "execute_result"
    }
   ],
   "source": [
    "k"
   ]
  },
  {
   "cell_type": "code",
   "execution_count": 47,
   "id": "cf5b7b0b",
   "metadata": {},
   "outputs": [
    {
     "name": "stdout",
     "output_type": "stream",
     "text": [
      "s : 2\n",
      "l : 3\n",
      "o : 3\n",
      "a : 5\n",
      "j : 2\n",
      "k : 6\n",
      "h : 2\n"
     ]
    }
   ],
   "source": [
    "for i in k:\n",
    "    print(i,\":\",y.count(i))\n",
    "    "
   ]
  },
  {
   "cell_type": "code",
   "execution_count": 48,
   "id": "f173b6dd",
   "metadata": {},
   "outputs": [],
   "source": [
    "a=\"LearningPythonDS\""
   ]
  },
  {
   "cell_type": "code",
   "execution_count": 49,
   "id": "d88b2903",
   "metadata": {},
   "outputs": [],
   "source": [
    "#print only upper case using a for loop"
   ]
  },
  {
   "cell_type": "code",
   "execution_count": 50,
   "id": "99bd0d6c",
   "metadata": {},
   "outputs": [
    {
     "name": "stdout",
     "output_type": "stream",
     "text": [
      "e\n",
      "a\n",
      "r\n",
      "n\n",
      "i\n",
      "n\n",
      "g\n",
      "y\n",
      "t\n",
      "h\n",
      "o\n",
      "n\n"
     ]
    }
   ],
   "source": [
    "for i in a:\n",
    "    if i.islower() == True:\n",
    "        print(i)\n",
    "    #output only capital letters"
   ]
  },
  {
   "cell_type": "code",
   "execution_count": 51,
   "id": "2bbae873",
   "metadata": {},
   "outputs": [
    {
     "name": "stdout",
     "output_type": "stream",
     "text": [
      "try again\n",
      "o\n",
      "try again\n",
      "a\n",
      "try again\n",
      "h\n",
      "try again\n",
      "n\n",
      "try again\n",
      "e\n"
     ]
    }
   ],
   "source": [
    "x=\"KoMaLhAnDe\"\n",
    "for i in x:\n",
    "    if i.islower()==True:\n",
    "        print(i)\n",
    "    else:\n",
    "        print(\"try again\")"
   ]
  },
  {
   "cell_type": "code",
   "execution_count": 52,
   "id": "930bf10a",
   "metadata": {},
   "outputs": [
    {
     "name": "stdout",
     "output_type": "stream",
     "text": [
      "K\n",
      "M\n",
      "L\n",
      "A\n",
      "D\n"
     ]
    }
   ],
   "source": [
    "x=\"KoMaLhAnDe\"\n",
    "for i in x:\n",
    "    if i.islower()!=True:\n",
    "        print(i)\n"
   ]
  },
  {
   "cell_type": "markdown",
   "id": "fd78f335",
   "metadata": {},
   "source": [
    "# FACTORIAL of a number n!=n x (n-1)x (n-2) x(n-3)\n",
    "4=1*2*3*4\n",
    " =24"
   ]
  },
  {
   "cell_type": "code",
   "execution_count": 54,
   "id": "6ffc15ad",
   "metadata": {},
   "outputs": [
    {
     "name": "stdout",
     "output_type": "stream",
     "text": [
      "enter the number for factorial: 5\n",
      "24\n"
     ]
    }
   ],
   "source": [
    "n=int(input(\"enter the number for factorial: \"))\n",
    "fact = 1\n",
    "for i in range(1,n):\n",
    "    fact = fact*i\n",
    "print(fact)"
   ]
  },
  {
   "cell_type": "code",
   "execution_count": 55,
   "id": "7257f2b3",
   "metadata": {},
   "outputs": [
    {
     "name": "stdout",
     "output_type": "stream",
     "text": [
      "enter the number for factorial: 6\n",
      "720\n"
     ]
    }
   ],
   "source": [
    "e=int(input(\"enter the number for factorial: \"))\n",
    "fact=1\n",
    "\n",
    "for i in range(1,e+1):\n",
    "    fact=fact*i\n",
    "print(fact)"
   ]
  }
 ],
 "metadata": {
  "kernelspec": {
   "display_name": "Python 3 (ipykernel)",
   "language": "python",
   "name": "python3"
  },
  "language_info": {
   "codemirror_mode": {
    "name": "ipython",
    "version": 3
   },
   "file_extension": ".py",
   "mimetype": "text/x-python",
   "name": "python",
   "nbconvert_exporter": "python",
   "pygments_lexer": "ipython3",
   "version": "3.9.12"
  }
 },
 "nbformat": 4,
 "nbformat_minor": 5
}
