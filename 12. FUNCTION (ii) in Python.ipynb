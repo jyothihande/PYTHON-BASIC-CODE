{
 "cells": [
  {
   "cell_type": "markdown",
   "id": "9d2aced6",
   "metadata": {},
   "source": [
    "# USE OF FUNCTION :"
   ]
  },
  {
   "cell_type": "code",
   "execution_count": null,
   "id": "409a6bb0",
   "metadata": {},
   "outputs": [],
   "source": [
    "Code for getting factorial of a number using Function:"
   ]
  },
  {
   "cell_type": "code",
   "execution_count": 1,
   "id": "f931e8cd",
   "metadata": {},
   "outputs": [
    {
     "name": "stdout",
     "output_type": "stream",
     "text": [
      "Enter a number for factorial = 6\n",
      "720\n"
     ]
    }
   ],
   "source": [
    "a=int(input(\"Enter a number for factorial = \"))\n",
    "def fact_number(n):  \n",
    "    fact = 1\n",
    "    for i in range(1,n+1):\n",
    "        fact = fact*i\n",
    "    print(fact)\n",
    "fact_number(a)   # funtion created to find factorial"
   ]
  },
  {
   "cell_type": "code",
   "execution_count": 2,
   "id": "c280ed1d",
   "metadata": {},
   "outputs": [
    {
     "name": "stdout",
     "output_type": "stream",
     "text": [
      "120\n"
     ]
    }
   ],
   "source": [
    "fact_number(5)  # fcat_number is a function now"
   ]
  },
  {
   "cell_type": "code",
   "execution_count": null,
   "id": "514d72c4",
   "metadata": {},
   "outputs": [],
   "source": [
    "Code using fuction to check entered number is odd or even:"
   ]
  },
  {
   "cell_type": "code",
   "execution_count": 4,
   "id": "15413e93",
   "metadata": {},
   "outputs": [],
   "source": [
    "def odd_even(n):\n",
    "    if n%2==0:\n",
    "        print(n,\"is even number\")\n",
    "    else:\n",
    "        print(n,\"is odd number\")    "
   ]
  },
  {
   "cell_type": "code",
   "execution_count": 5,
   "id": "15327e52",
   "metadata": {},
   "outputs": [
    {
     "name": "stdout",
     "output_type": "stream",
     "text": [
      "5 is odd number\n"
     ]
    }
   ],
   "source": [
    "odd_even(5)"
   ]
  },
  {
   "cell_type": "code",
   "execution_count": null,
   "id": "ad3422cf",
   "metadata": {},
   "outputs": [],
   "source": [
    "CODE FOR CHECKING PRIME NUMBER USING FUNCTION.using break statement"
   ]
  },
  {
   "cell_type": "code",
   "execution_count": 7,
   "id": "49896042",
   "metadata": {},
   "outputs": [
    {
     "name": "stdout",
     "output_type": "stream",
     "text": [
      "enter number to check prime number: 5\n",
      "5 number is prime\n"
     ]
    },
    {
     "data": {
      "text/plain": [
       "5"
      ]
     },
     "execution_count": 7,
     "metadata": {},
     "output_type": "execute_result"
    }
   ],
   "source": [
    "#n=int(input(\"enter number to check prime number: \"))\n",
    "def prime_number(n):\n",
    "    for i in range(2,n+1):\n",
    "        if n%i==0:\n",
    "            print(\"try again\")\n",
    "        else:\n",
    "            print(n,\"number is prime\")\n",
    "            break\n",
    "    return(n)\n",
    "prime_number(n=int(input(\"enter number to check prime number: \")))"
   ]
  },
  {
   "cell_type": "code",
   "execution_count": 8,
   "id": "8e939b9a",
   "metadata": {},
   "outputs": [
    {
     "name": "stdout",
     "output_type": "stream",
     "text": [
      "7 number is prime\n"
     ]
    },
    {
     "data": {
      "text/plain": [
       "7"
      ]
     },
     "execution_count": 8,
     "metadata": {},
     "output_type": "execute_result"
    }
   ],
   "source": [
    "prime_number(7)"
   ]
  },
  {
   "cell_type": "markdown",
   "id": "acb8791c",
   "metadata": {},
   "source": [
    "# LAMBDA FUNCTION :"
   ]
  },
  {
   "cell_type": "code",
   "execution_count": null,
   "id": "af86f0b6",
   "metadata": {},
   "outputs": [],
   "source": [
    "USE of lambda function for execution n number of times but only one time function execution \n",
    "--can take 'n' number of arguments, but can have only one expression."
   ]
  },
  {
   "cell_type": "code",
   "execution_count": 9,
   "id": "dc20c378",
   "metadata": {},
   "outputs": [],
   "source": [
    "x= lambda a,b : a+b"
   ]
  },
  {
   "cell_type": "code",
   "execution_count": 10,
   "id": "dea6f0d5",
   "metadata": {},
   "outputs": [
    {
     "data": {
      "text/plain": [
       "8.3"
      ]
     },
     "execution_count": 10,
     "metadata": {},
     "output_type": "execute_result"
    }
   ],
   "source": [
    "x(2,6.3)"
   ]
  },
  {
   "cell_type": "code",
   "execution_count": 11,
   "id": "2082c0fd",
   "metadata": {},
   "outputs": [
    {
     "data": {
      "text/plain": [
       "16"
      ]
     },
     "execution_count": 11,
     "metadata": {},
     "output_type": "execute_result"
    }
   ],
   "source": [
    "2**4  #square of 4 is 16"
   ]
  },
  {
   "cell_type": "code",
   "execution_count": 12,
   "id": "c1d6495f",
   "metadata": {},
   "outputs": [],
   "source": [
    "a=lambda m:m**2"
   ]
  },
  {
   "cell_type": "code",
   "execution_count": 13,
   "id": "ad1f1628",
   "metadata": {},
   "outputs": [
    {
     "data": {
      "text/plain": [
       "25"
      ]
     },
     "execution_count": 13,
     "metadata": {},
     "output_type": "execute_result"
    }
   ],
   "source": [
    "a(5)"
   ]
  },
  {
   "cell_type": "markdown",
   "id": "59546d49",
   "metadata": {},
   "source": [
    "# LIST COMPREHENSION:\n",
    "    "
   ]
  },
  {
   "cell_type": "code",
   "execution_count": 14,
   "id": "3c5673f3",
   "metadata": {},
   "outputs": [
    {
     "data": {
      "text/plain": [
       "(1, 85, 4.3, 56, 2, 15, 73)"
      ]
     },
     "execution_count": 14,
     "metadata": {},
     "output_type": "execute_result"
    }
   ],
   "source": [
    "t=(1,85,4.3,56,2,15,73)\n",
    "t"
   ]
  },
  {
   "cell_type": "code",
   "execution_count": 15,
   "id": "f5059ca8",
   "metadata": {},
   "outputs": [
    {
     "data": {
      "text/plain": [
       "tuple"
      ]
     },
     "execution_count": 15,
     "metadata": {},
     "output_type": "execute_result"
    }
   ],
   "source": [
    "type(t)"
   ]
  },
  {
   "cell_type": "code",
   "execution_count": 16,
   "id": "39ead6c3",
   "metadata": {},
   "outputs": [],
   "source": [
    "l=[]"
   ]
  },
  {
   "cell_type": "code",
   "execution_count": 17,
   "id": "13e20cd8",
   "metadata": {},
   "outputs": [
    {
     "data": {
      "text/plain": [
       "[1, 2, 5, 85, 4.3, 56, 2, 15, 155]"
      ]
     },
     "execution_count": 17,
     "metadata": {},
     "output_type": "execute_result"
    }
   ],
   "source": [
    "t=(1,2,5,85,4.3,56,2,15,155)\n",
    "for i in t:\n",
    "    l.append(i)\n",
    "l"
   ]
  },
  {
   "cell_type": "code",
   "execution_count": 18,
   "id": "24c87319",
   "metadata": {},
   "outputs": [
    {
     "data": {
      "text/plain": [
       "[1, 2, 5, 85, 4.3, 56, 2, 15, 155]"
      ]
     },
     "execution_count": 18,
     "metadata": {},
     "output_type": "execute_result"
    }
   ],
   "source": [
    "l"
   ]
  },
  {
   "cell_type": "code",
   "execution_count": 19,
   "id": "4ec59d1c",
   "metadata": {},
   "outputs": [
    {
     "data": {
      "text/plain": [
       "[1, 2, 5, 85, 4.3, 56, 2, 15, 155, 1, 2, 5, 85, 4.3, 56, 2, 15, 155]"
      ]
     },
     "execution_count": 19,
     "metadata": {},
     "output_type": "execute_result"
    }
   ],
   "source": [
    "l*2 # two times print l"
   ]
  },
  {
   "cell_type": "markdown",
   "id": "b8718b60",
   "metadata": {},
   "source": [
    " ************   OR     *********"
   ]
  },
  {
   "cell_type": "code",
   "execution_count": 20,
   "id": "a3f9550a",
   "metadata": {},
   "outputs": [
    {
     "data": {
      "text/plain": [
       "[1, 2, 5, 85, 4.3, 56, 2, 15, 155]"
      ]
     },
     "execution_count": 20,
     "metadata": {},
     "output_type": "execute_result"
    }
   ],
   "source": [
    "[i for i in t]  # List comprehension"
   ]
  },
  {
   "cell_type": "code",
   "execution_count": 21,
   "id": "3e8d32aa",
   "metadata": {},
   "outputs": [
    {
     "data": {
      "text/plain": [
       "[1, 4, 25, 7225, 18.49, 3136, 4, 225, 24025]"
      ]
     },
     "execution_count": 21,
     "metadata": {},
     "output_type": "execute_result"
    }
   ],
   "source": [
    "[i**2 for i in t] # square of each item in list"
   ]
  },
  {
   "cell_type": "code",
   "execution_count": 22,
   "id": "0e7cf2ac",
   "metadata": {},
   "outputs": [],
   "source": [
    "x=lambda *a:[i for i in t]\n"
   ]
  },
  {
   "cell_type": "code",
   "execution_count": 23,
   "id": "8313e79e",
   "metadata": {},
   "outputs": [
    {
     "data": {
      "text/plain": [
       "[1, 2, 5, 85, 4.3, 56, 2, 15, 155]"
      ]
     },
     "execution_count": 23,
     "metadata": {},
     "output_type": "execute_result"
    }
   ],
   "source": [
    "x(52,69,3)"
   ]
  },
  {
   "cell_type": "code",
   "execution_count": 24,
   "id": "9b0724cd",
   "metadata": {},
   "outputs": [],
   "source": [
    "m=lambda *a:[i**2 for i in t]  # *a means multiple inputs"
   ]
  },
  {
   "cell_type": "code",
   "execution_count": 25,
   "id": "d61f1bc6",
   "metadata": {},
   "outputs": [
    {
     "data": {
      "text/plain": [
       "[1, 4, 25, 7225, 18.49, 3136, 4, 225, 24025]"
      ]
     },
     "execution_count": 25,
     "metadata": {},
     "output_type": "execute_result"
    }
   ],
   "source": [
    "m(1, 2, 5, 85, 4.3, 56, 2, 15, 155)"
   ]
  }
 ],
 "metadata": {
  "kernelspec": {
   "display_name": "Python 3 (ipykernel)",
   "language": "python",
   "name": "python3"
  },
  "language_info": {
   "codemirror_mode": {
    "name": "ipython",
    "version": 3
   },
   "file_extension": ".py",
   "mimetype": "text/x-python",
   "name": "python",
   "nbconvert_exporter": "python",
   "pygments_lexer": "ipython3",
   "version": "3.9.12"
  }
 },
 "nbformat": 4,
 "nbformat_minor": 5
}
