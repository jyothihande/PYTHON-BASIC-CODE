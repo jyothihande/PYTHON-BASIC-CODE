{
 "cells": [
  {
   "cell_type": "code",
   "execution_count": null,
   "id": "96aa5190",
   "metadata": {},
   "outputs": [],
   "source": [
    "** File handling module of python is used to Store information from outside file for future use.\n",
    "** Two types of file: txt file and binary file.\n",
    "** File handling function doesnot know extention of file created by coder \n",
    "   so abc.jyo is also correct for file-handling function.\n",
    "** By default file is in read mode only f=open('abc.txt') here file is by default read mode.\n",
    " "
   ]
  },
  {
   "cell_type": "code",
   "execution_count": null,
   "id": "205f4702",
   "metadata": {},
   "outputs": [],
   "source": [
    "** 4 MODEs of file handling:\n",
    "    1.Read mode  'r'\n",
    "    2.Write mode  'w'\n",
    "    3.append mode  'a'\n",
    "    4.create mode  'x'\n",
    "    'rt'means read txt file\n",
    "    'rb'means read binary file"
   ]
  },
  {
   "cell_type": "raw",
   "id": "40c09d12",
   "metadata": {},
   "source": [
    "('abc.txt','r') -- if available it will open or else it create error\n",
    "('abc.txt','w') -- if available it will open or else it create new file of same name \n",
    "('abc.txt','a') -- if available it will open or else it create new file \n",
    "('abc.txt','x') -- if file is alreaday availble then it will create error.\n"
   ]
  },
  {
   "cell_type": "markdown",
   "id": "cee7cfad",
   "metadata": {},
   "source": [
    "# 1.READ MODE  'r': gives error when file is not available."
   ]
  },
  {
   "cell_type": "code",
   "execution_count": 1,
   "id": "894f6d4f",
   "metadata": {},
   "outputs": [
    {
     "ename": "FileNotFoundError",
     "evalue": "[Errno 2] No such file or directory: 'abc.txt'",
     "output_type": "error",
     "traceback": [
      "\u001b[1;31m---------------------------------------------------------------------------\u001b[0m",
      "\u001b[1;31mFileNotFoundError\u001b[0m                         Traceback (most recent call last)",
      "Input \u001b[1;32mIn [1]\u001b[0m, in \u001b[0;36m<cell line: 1>\u001b[1;34m()\u001b[0m\n\u001b[1;32m----> 1\u001b[0m f\u001b[38;5;241m=\u001b[39m\u001b[38;5;28;43mopen\u001b[39;49m\u001b[43m(\u001b[49m\u001b[38;5;124;43m'\u001b[39;49m\u001b[38;5;124;43mabc.txt\u001b[39;49m\u001b[38;5;124;43m'\u001b[39;49m\u001b[43m,\u001b[49m\u001b[38;5;124;43m'\u001b[39;49m\u001b[38;5;124;43mr\u001b[39;49m\u001b[38;5;124;43m'\u001b[39;49m\u001b[43m)\u001b[49m\n",
      "\u001b[1;31mFileNotFoundError\u001b[0m: [Errno 2] No such file or directory: 'abc.txt'"
     ]
    }
   ],
   "source": [
    "f=open('abc.txt','r')  #  error becz file not found"
   ]
  },
  {
   "cell_type": "markdown",
   "id": "9e9f9f71",
   "metadata": {},
   "source": [
    "# 2. WRITE MODE  'w' : automaticly open if file is availble but if file is not then new file is created "
   ]
  },
  {
   "cell_type": "code",
   "execution_count": 2,
   "id": "8942bdfa",
   "metadata": {},
   "outputs": [],
   "source": [
    "f=open(\"abc.txt\",'w') # check in folder file is created"
   ]
  },
  {
   "cell_type": "code",
   "execution_count": 3,
   "id": "27699cac",
   "metadata": {},
   "outputs": [],
   "source": [
    "f=open('abc.txt','r') # no error bec file is already created using'w' function"
   ]
  },
  {
   "cell_type": "markdown",
   "id": "0d6b0f12",
   "metadata": {},
   "source": [
    "# 3.CREATE MODE 'c':creats new file but gives error when file is already present."
   ]
  },
  {
   "cell_type": "code",
   "execution_count": 4,
   "id": "58719c26",
   "metadata": {},
   "outputs": [
    {
     "ename": "FileExistsError",
     "evalue": "[Errno 17] File exists: 'abc.txt'",
     "output_type": "error",
     "traceback": [
      "\u001b[1;31m---------------------------------------------------------------------------\u001b[0m",
      "\u001b[1;31mFileExistsError\u001b[0m                           Traceback (most recent call last)",
      "Input \u001b[1;32mIn [4]\u001b[0m, in \u001b[0;36m<cell line: 1>\u001b[1;34m()\u001b[0m\n\u001b[1;32m----> 1\u001b[0m f\u001b[38;5;241m=\u001b[39m\u001b[38;5;28;43mopen\u001b[39;49m\u001b[43m(\u001b[49m\u001b[38;5;124;43m'\u001b[39;49m\u001b[38;5;124;43mabc.txt\u001b[39;49m\u001b[38;5;124;43m'\u001b[39;49m\u001b[43m,\u001b[49m\u001b[38;5;124;43m'\u001b[39;49m\u001b[38;5;124;43mx\u001b[39;49m\u001b[38;5;124;43m'\u001b[39;49m\u001b[43m)\u001b[49m\n",
      "\u001b[1;31mFileExistsError\u001b[0m: [Errno 17] File exists: 'abc.txt'"
     ]
    }
   ],
   "source": [
    "f=open('abc.txt','x') # error bec file already exits"
   ]
  },
  {
   "cell_type": "code",
   "execution_count": 5,
   "id": "fb39b85d",
   "metadata": {},
   "outputs": [],
   "source": [
    "f=open('abc1.txt','x')\n",
    "# check file is created"
   ]
  },
  {
   "cell_type": "markdown",
   "id": "1985051d",
   "metadata": {},
   "source": [
    "# 4. WRITE mode takes only string input"
   ]
  },
  {
   "cell_type": "code",
   "execution_count": 6,
   "id": "955f87b6",
   "metadata": {},
   "outputs": [
    {
     "ename": "UnsupportedOperation",
     "evalue": "not writable",
     "output_type": "error",
     "traceback": [
      "\u001b[1;31m---------------------------------------------------------------------------\u001b[0m",
      "\u001b[1;31mUnsupportedOperation\u001b[0m                      Traceback (most recent call last)",
      "Input \u001b[1;32mIn [6]\u001b[0m, in \u001b[0;36m<cell line: 2>\u001b[1;34m()\u001b[0m\n\u001b[0;32m      1\u001b[0m f\u001b[38;5;241m=\u001b[39m\u001b[38;5;28mopen\u001b[39m(\u001b[38;5;124m\"\u001b[39m\u001b[38;5;124mabc.txt\u001b[39m\u001b[38;5;124m\"\u001b[39m,\u001b[38;5;124m'\u001b[39m\u001b[38;5;124mr\u001b[39m\u001b[38;5;124m'\u001b[39m) \u001b[38;5;66;03m# r i used\u001b[39;00m\n\u001b[1;32m----> 2\u001b[0m \u001b[43mf\u001b[49m\u001b[38;5;241;43m.\u001b[39;49m\u001b[43mwrite\u001b[49m\u001b[43m(\u001b[49m\u001b[38;5;124;43m\"\u001b[39;49m\u001b[38;5;124;43m this is \u001b[39;49m\u001b[38;5;124;43m\"\u001b[39;49m\u001b[43m)\u001b[49m\n",
      "\u001b[1;31mUnsupportedOperation\u001b[0m: not writable"
     ]
    }
   ],
   "source": [
    "f=open(\"abc.txt\",'r') # r i used\n",
    "f.write(\" this is \") # check error\"r\" mode is  not writable"
   ]
  },
  {
   "cell_type": "code",
   "execution_count": 7,
   "id": "d7c2436a",
   "metadata": {},
   "outputs": [
    {
     "data": {
      "text/plain": [
       "31"
      ]
     },
     "execution_count": 7,
     "metadata": {},
     "output_type": "execute_result"
    }
   ],
   "source": [
    "f=open(\"abc1.txt\",'w') # 'w' is used\n",
    "f.write(\"welcome learning python is easy\") # 10 is bites of memory stored"
   ]
  },
  {
   "cell_type": "code",
   "execution_count": 8,
   "id": "74459bc1",
   "metadata": {},
   "outputs": [],
   "source": [
    "f.close() # first close file and then only txt file will open"
   ]
  },
  {
   "cell_type": "code",
   "execution_count": 9,
   "id": "cfc32250",
   "metadata": {},
   "outputs": [
    {
     "ename": "ValueError",
     "evalue": "I/O operation on closed file.",
     "output_type": "error",
     "traceback": [
      "\u001b[1;31m---------------------------------------------------------------------------\u001b[0m",
      "\u001b[1;31mValueError\u001b[0m                                Traceback (most recent call last)",
      "Input \u001b[1;32mIn [9]\u001b[0m, in \u001b[0;36m<cell line: 1>\u001b[1;34m()\u001b[0m\n\u001b[1;32m----> 1\u001b[0m \u001b[43mf\u001b[49m\u001b[38;5;241;43m.\u001b[39;49m\u001b[43mwrite\u001b[49m\u001b[43m(\u001b[49m\u001b[38;5;124;43m\"\u001b[39;49m\u001b[38;5;124;43mhello coders...\u001b[39;49m\u001b[38;5;124;43m\"\u001b[39;49m\u001b[43m)\u001b[49m\n",
      "\u001b[1;31mValueError\u001b[0m: I/O operation on closed file."
     ]
    }
   ],
   "source": [
    "f.write(\"hello coders...\") # check output"
   ]
  },
  {
   "cell_type": "code",
   "execution_count": 10,
   "id": "b98d198e",
   "metadata": {},
   "outputs": [
    {
     "data": {
      "text/plain": [
       "15"
      ]
     },
     "execution_count": 10,
     "metadata": {},
     "output_type": "execute_result"
    }
   ],
   "source": [
    "f=open('abc1.txt','w')\n",
    "f.write(\"welcome learning python is easy\") # 10 is bites of memory stored\n",
    "f.write(\"hello coders...\") # it replaces all earlier part and gives new part"
   ]
  },
  {
   "cell_type": "code",
   "execution_count": 11,
   "id": "c6fa4910",
   "metadata": {},
   "outputs": [],
   "source": [
    "f.close()"
   ]
  },
  {
   "cell_type": "code",
   "execution_count": 12,
   "id": "f2cc83f9",
   "metadata": {},
   "outputs": [],
   "source": [
    "f=open('abc.txt','w')\n",
    "f.write(\"hello00\")\n",
    "f.close()"
   ]
  },
  {
   "cell_type": "markdown",
   "id": "436918c6",
   "metadata": {},
   "source": [
    "# 5.APPEND mode  \"a\"\n",
    "('abc.txt','a') -- if available it will open or else it create new file of same name\n"
   ]
  },
  {
   "cell_type": "code",
   "execution_count": 13,
   "id": "fac8aa6c",
   "metadata": {},
   "outputs": [],
   "source": [
    "f=open('xyz.txt','a')# as file was not present function created  as xyz\n",
    "f.write(\"hello welcome coders\")\n",
    "f.close()"
   ]
  },
  {
   "cell_type": "code",
   "execution_count": 14,
   "id": "d87dc793",
   "metadata": {},
   "outputs": [],
   "source": [
    "f=open('xyz.txt','a')# as file was not present function created  as xyz\n",
    "f.write(\"hello welcome coders\\n\")\n",
    "f.write('bye take care\\n')\n",
    "f.write(\"see you later\\n \")\n",
    "f.close()"
   ]
  },
  {
   "cell_type": "markdown",
   "id": "47f181d5",
   "metadata": {},
   "source": [
    "--file handling function does not know extention of file created by coder so abc.jyo is also correct for filehandling function."
   ]
  },
  {
   "cell_type": "code",
   "execution_count": 15,
   "id": "c737df7f",
   "metadata": {},
   "outputs": [],
   "source": [
    "f=open('python.phg','x') # no error means file is created without extention knowing"
   ]
  },
  {
   "cell_type": "code",
   "execution_count": null,
   "id": "a03f1f0d",
   "metadata": {},
   "outputs": [],
   "source": [
    "-- by default file is in read mode only f=open('abc.txt') here file is by default read mode"
   ]
  },
  {
   "cell_type": "code",
   "execution_count": 16,
   "id": "0a26ef77",
   "metadata": {},
   "outputs": [
    {
     "ename": "UnsupportedOperation",
     "evalue": "not writable",
     "output_type": "error",
     "traceback": [
      "\u001b[1;31m---------------------------------------------------------------------------\u001b[0m",
      "\u001b[1;31mUnsupportedOperation\u001b[0m                      Traceback (most recent call last)",
      "Input \u001b[1;32mIn [16]\u001b[0m, in \u001b[0;36m<cell line: 2>\u001b[1;34m()\u001b[0m\n\u001b[0;32m      1\u001b[0m f\u001b[38;5;241m=\u001b[39m\u001b[38;5;28mopen\u001b[39m(\u001b[38;5;124m\"\u001b[39m\u001b[38;5;124mabc.txt\u001b[39m\u001b[38;5;124m\"\u001b[39m) \u001b[38;5;66;03m# default read mode\u001b[39;00m\n\u001b[1;32m----> 2\u001b[0m \u001b[43mf\u001b[49m\u001b[38;5;241;43m.\u001b[39;49m\u001b[43mwrite\u001b[49m\u001b[43m(\u001b[49m\u001b[38;5;124;43m\"\u001b[39;49m\u001b[38;5;124;43mhello whats up?..\u001b[39;49m\u001b[38;5;124;43m\"\u001b[39;49m\u001b[43m)\u001b[49m\n",
      "\u001b[1;31mUnsupportedOperation\u001b[0m: not writable"
     ]
    }
   ],
   "source": [
    "f=open(\"abc.txt\") # default read mode thats why error\n",
    "f.write(\"hello whats up?..\")"
   ]
  },
  {
   "cell_type": "markdown",
   "id": "8043898f",
   "metadata": {},
   "source": [
    "# PRACTICE QUESTION"
   ]
  },
  {
   "cell_type": "code",
   "execution_count": 20,
   "id": "a84e2b86",
   "metadata": {},
   "outputs": [],
   "source": [
    "l=[1,2,3,4,5]\n",
    "l1=l*2"
   ]
  },
  {
   "cell_type": "code",
   "execution_count": 21,
   "id": "8b4735de",
   "metadata": {},
   "outputs": [
    {
     "data": {
      "text/plain": [
       "[1, 2, 3, 4, 5, 1, 2, 3, 4, 5]"
      ]
     },
     "execution_count": 21,
     "metadata": {},
     "output_type": "execute_result"
    }
   ],
   "source": [
    "l1"
   ]
  },
  {
   "cell_type": "code",
   "execution_count": 22,
   "id": "dd3aa215",
   "metadata": {
    "scrolled": true
   },
   "outputs": [
    {
     "ename": "TypeError",
     "evalue": "write() argument must be str, not list",
     "output_type": "error",
     "traceback": [
      "\u001b[1;31m---------------------------------------------------------------------------\u001b[0m",
      "\u001b[1;31mTypeError\u001b[0m                                 Traceback (most recent call last)",
      "Input \u001b[1;32mIn [22]\u001b[0m, in \u001b[0;36m<cell line: 3>\u001b[1;34m()\u001b[0m\n\u001b[0;32m      1\u001b[0m f1\u001b[38;5;241m=\u001b[39m\u001b[38;5;28mopen\u001b[39m(\u001b[38;5;124m'\u001b[39m\u001b[38;5;124mdemo.txt\u001b[39m\u001b[38;5;124m'\u001b[39m,\u001b[38;5;124m'\u001b[39m\u001b[38;5;124ma\u001b[39m\u001b[38;5;124m'\u001b[39m)\n\u001b[0;32m      2\u001b[0m f1\u001b[38;5;241m.\u001b[39mwrite(\u001b[38;5;124m'\u001b[39m\u001b[38;5;124minput info: \u001b[39m\u001b[38;5;124m'\u001b[39m)\n\u001b[1;32m----> 3\u001b[0m \u001b[43mf1\u001b[49m\u001b[38;5;241;43m.\u001b[39;49m\u001b[43mwrite\u001b[49m\u001b[43m(\u001b[49m\u001b[43ml\u001b[49m\u001b[43m)\u001b[49m\n\u001b[0;32m      4\u001b[0m f1\u001b[38;5;241m.\u001b[39mwrite(\u001b[38;5;124m\"\u001b[39m\u001b[38;5;130;01m\\n\u001b[39;00m\u001b[38;5;124m input info: \u001b[39m\u001b[38;5;124m\"\u001b[39m)\n\u001b[0;32m      5\u001b[0m f1\u001b[38;5;241m.\u001b[39mwrite(l1)\n",
      "\u001b[1;31mTypeError\u001b[0m: write() argument must be str, not list"
     ]
    }
   ],
   "source": [
    "f1=open('demo.txt','a')\n",
    "f1.write('input info: ')\n",
    "f1.write(l)\n",
    "f1.write(\"\\n input info: \")\n",
    "f1.write(l1)\n",
    "f1.write('\\n completed')\n",
    "f1.close()\n",
    "\n"
   ]
  },
  {
   "cell_type": "markdown",
   "id": "6f79aad1",
   "metadata": {},
   "source": [
    "# error because write mode takes only string as input"
   ]
  },
  {
   "cell_type": "code",
   "execution_count": 23,
   "id": "2e23ce47",
   "metadata": {},
   "outputs": [],
   "source": [
    "f1=open('demo.txt','a')\n",
    "f1.write('input info: ')\n",
    "f1.write(str(l))\n",
    "f1.write(\"\\n input info: \")\n",
    "f1.write(str(l1))\n",
    "f1.write('\\n completed')\n",
    "f1.close()\n",
    "# check output"
   ]
  },
  {
   "cell_type": "markdown",
   "id": "c5a94d2b",
   "metadata": {},
   "source": [
    "# --To print file what is written"
   ]
  },
  {
   "cell_type": "code",
   "execution_count": 24,
   "id": "fea96172",
   "metadata": {},
   "outputs": [],
   "source": [
    "f=open('abc.txt','r')"
   ]
  },
  {
   "cell_type": "code",
   "execution_count": 25,
   "id": "1a8ff821",
   "metadata": {},
   "outputs": [
    {
     "name": "stdout",
     "output_type": "stream",
     "text": [
      "<_io.TextIOWrapper name='abc.txt' mode='r' encoding='cp1252'>\n"
     ]
    }
   ],
   "source": [
    "print(f)"
   ]
  },
  {
   "cell_type": "code",
   "execution_count": 26,
   "id": "47495a50",
   "metadata": {},
   "outputs": [
    {
     "data": {
      "text/plain": [
       "'hello00'"
      ]
     },
     "execution_count": 26,
     "metadata": {},
     "output_type": "execute_result"
    }
   ],
   "source": [
    "f.read()"
   ]
  },
  {
   "cell_type": "code",
   "execution_count": 27,
   "id": "50909af0",
   "metadata": {},
   "outputs": [],
   "source": [
    "f1=open('demo.txt','r')"
   ]
  },
  {
   "cell_type": "code",
   "execution_count": 28,
   "id": "ab5ab6ec",
   "metadata": {},
   "outputs": [
    {
     "name": "stdout",
     "output_type": "stream",
     "text": [
      "<_io.TextIOWrapper name='demo.txt' mode='r' encoding='cp1252'>\n"
     ]
    }
   ],
   "source": [
    "print(f1)"
   ]
  },
  {
   "cell_type": "code",
   "execution_count": 29,
   "id": "af7902b9",
   "metadata": {},
   "outputs": [
    {
     "data": {
      "text/plain": [
       "'input info: input info: [1, 2, 3, 4, 5]\\n input info: [1, 2, 3, 4, 5, 1, 2, 3, 4, 5]\\n completed'"
      ]
     },
     "execution_count": 29,
     "metadata": {},
     "output_type": "execute_result"
    }
   ],
   "source": [
    "f1.read()"
   ]
  },
  {
   "cell_type": "code",
   "execution_count": 30,
   "id": "3f08110e",
   "metadata": {},
   "outputs": [
    {
     "data": {
      "text/plain": [
       "96"
      ]
     },
     "execution_count": 30,
     "metadata": {},
     "output_type": "execute_result"
    }
   ],
   "source": [
    "f1.tell() # shows where is the cursor"
   ]
  },
  {
   "cell_type": "code",
   "execution_count": 31,
   "id": "a572940b",
   "metadata": {},
   "outputs": [
    {
     "data": {
      "text/plain": [
       "0"
      ]
     },
     "execution_count": 31,
     "metadata": {},
     "output_type": "execute_result"
    }
   ],
   "source": [
    "f1.seek(0) # to move the cursor position"
   ]
  },
  {
   "cell_type": "code",
   "execution_count": 32,
   "id": "d215c754",
   "metadata": {},
   "outputs": [
    {
     "data": {
      "text/plain": [
       "25"
      ]
     },
     "execution_count": 32,
     "metadata": {},
     "output_type": "execute_result"
    }
   ],
   "source": [
    "f1.seek(25)"
   ]
  },
  {
   "cell_type": "code",
   "execution_count": 33,
   "id": "c12669a9",
   "metadata": {},
   "outputs": [
    {
     "data": {
      "text/plain": [
       "['1, 2, 3, 4, 5]\\n',\n",
       " ' input info: [1, 2, 3, 4, 5, 1, 2, 3, 4, 5]\\n',\n",
       " ' completed']"
      ]
     },
     "execution_count": 33,
     "metadata": {},
     "output_type": "execute_result"
    }
   ],
   "source": [
    "f1.readlines() # list output"
   ]
  },
  {
   "cell_type": "code",
   "execution_count": 34,
   "id": "4fc0ef16",
   "metadata": {},
   "outputs": [
    {
     "data": {
      "text/plain": [
       "''"
      ]
     },
     "execution_count": 34,
     "metadata": {},
     "output_type": "execute_result"
    }
   ],
   "source": [
    "f1.readline() # single line"
   ]
  },
  {
   "cell_type": "code",
   "execution_count": 35,
   "id": "1d504dfd",
   "metadata": {},
   "outputs": [
    {
     "data": {
      "text/plain": [
       "''"
      ]
     },
     "execution_count": 35,
     "metadata": {},
     "output_type": "execute_result"
    }
   ],
   "source": [
    "f1.read() # because curse is at last index"
   ]
  },
  {
   "cell_type": "code",
   "execution_count": 36,
   "id": "cffd6789",
   "metadata": {},
   "outputs": [
    {
     "data": {
      "text/plain": [
       "0"
      ]
     },
     "execution_count": 36,
     "metadata": {},
     "output_type": "execute_result"
    }
   ],
   "source": [
    "f1.seek(0)"
   ]
  },
  {
   "cell_type": "code",
   "execution_count": 37,
   "id": "b4c1d3a0",
   "metadata": {},
   "outputs": [
    {
     "data": {
      "text/plain": [
       "53"
      ]
     },
     "execution_count": 37,
     "metadata": {},
     "output_type": "execute_result"
    }
   ],
   "source": [
    "f1.seek(53)"
   ]
  },
  {
   "cell_type": "code",
   "execution_count": 38,
   "id": "c570837c",
   "metadata": {},
   "outputs": [
    {
     "data": {
      "text/plain": [
       "' [1, 2, 3, 4, 5, 1, 2, 3, 4, 5]\\n completed'"
      ]
     },
     "execution_count": 38,
     "metadata": {},
     "output_type": "execute_result"
    }
   ],
   "source": [
    "f1.read()"
   ]
  },
  {
   "cell_type": "code",
   "execution_count": 39,
   "id": "eb0099de",
   "metadata": {},
   "outputs": [
    {
     "data": {
      "text/plain": [
       "''"
      ]
     },
     "execution_count": 39,
     "metadata": {},
     "output_type": "execute_result"
    }
   ],
   "source": [
    "f1.readline()"
   ]
  }
 ],
 "metadata": {
  "kernelspec": {
   "display_name": "Python 3 (ipykernel)",
   "language": "python",
   "name": "python3"
  },
  "language_info": {
   "codemirror_mode": {
    "name": "ipython",
    "version": 3
   },
   "file_extension": ".py",
   "mimetype": "text/x-python",
   "name": "python",
   "nbconvert_exporter": "python",
   "pygments_lexer": "ipython3",
   "version": "3.9.12"
  }
 },
 "nbformat": 4,
 "nbformat_minor": 5
}
