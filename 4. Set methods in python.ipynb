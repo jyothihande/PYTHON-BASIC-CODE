{
 "cells": [
  {
   "cell_type": "markdown",
   "id": "c0115f49",
   "metadata": {},
   "source": [
    "# SETS"
   ]
  },
  {
   "cell_type": "markdown",
   "id": "eb474bab",
   "metadata": {},
   "source": [
    "1. s={}  set is represented by {} curly brackets.\n",
    "2. set can not be empty and empty set={} is dictionary.\n",
    "3. set accepts data types int,str,float,boolean,tuple ONLY AND set do not accept list and sub set\n",
    "4. no repeated element at output is shown.\n",
    "5. automatically sorting takes place in a set.\n",
    "6. set is used for getting unique element from string. \n",
    "7. indexing is not present in set and alot random positions to elements."
   ]
  },
  {
   "cell_type": "markdown",
   "id": "c4320a98",
   "metadata": {},
   "source": [
    "1. s={}  set is represented by {} curly brackets.\n",
    "2. set can not be empty and empty set={} is dictionary."
   ]
  },
  {
   "cell_type": "code",
   "execution_count": 5,
   "id": "df0de64d",
   "metadata": {},
   "outputs": [
    {
     "data": {
      "text/plain": [
       "dict"
      ]
     },
     "execution_count": 5,
     "metadata": {},
     "output_type": "execute_result"
    }
   ],
   "source": [
    "s1={}\n",
    "type(s1)"
   ]
  },
  {
   "cell_type": "code",
   "execution_count": 6,
   "id": "5b861de5",
   "metadata": {},
   "outputs": [
    {
     "data": {
      "text/plain": [
       "set"
      ]
     },
     "execution_count": 6,
     "metadata": {},
     "output_type": "execute_result"
    }
   ],
   "source": [
    "s={1}\n",
    "type(s)"
   ]
  },
  {
   "cell_type": "markdown",
   "id": "ba52c537",
   "metadata": {},
   "source": [
    "3. Set accepts data types int,str,float,boolean,tuple ONLY AND set do not accept list and sub set\n"
   ]
  },
  {
   "cell_type": "code",
   "execution_count": 9,
   "id": "3e8bf874",
   "metadata": {},
   "outputs": [
    {
     "data": {
      "text/plain": [
       "{(1, 2, 3), (8+3j), 12, 63.1, 'Python', True}"
      ]
     },
     "execution_count": 9,
     "metadata": {},
     "output_type": "execute_result"
    }
   ],
   "source": [
    "s={True,12,63.1,8+3j,\"Python\",(1,2,3)}\n",
    "s"
   ]
  },
  {
   "cell_type": "markdown",
   "id": "4650c2ed",
   "metadata": {},
   "source": [
    "4. INDEXing is not allowed in set methods\n",
    "   #indexing does not work in sets.sets get automatically sorted so index changes."
   ]
  },
  {
   "cell_type": "code",
   "execution_count": 11,
   "id": "a126ace8",
   "metadata": {
    "scrolled": true
   },
   "outputs": [
    {
     "ename": "TypeError",
     "evalue": "'set' object is not subscriptable",
     "output_type": "error",
     "traceback": [
      "\u001b[1;31m---------------------------------------------------------------------------\u001b[0m",
      "\u001b[1;31mTypeError\u001b[0m                                 Traceback (most recent call last)",
      "Input \u001b[1;32mIn [11]\u001b[0m, in \u001b[0;36m<cell line: 1>\u001b[1;34m()\u001b[0m\n\u001b[1;32m----> 1\u001b[0m \u001b[43ms\u001b[49m\u001b[43m[\u001b[49m\u001b[38;5;241;43m4\u001b[39;49m\u001b[43m]\u001b[49m\n",
      "\u001b[1;31mTypeError\u001b[0m: 'set' object is not subscriptable"
     ]
    }
   ],
   "source": [
    "s[4]"
   ]
  },
  {
   "cell_type": "markdown",
   "id": "fe07f754",
   "metadata": {},
   "source": [
    "5. Set shows only unique elements and no repeated element at output."
   ]
  },
  {
   "cell_type": "code",
   "execution_count": 21,
   "id": "9424ac46",
   "metadata": {},
   "outputs": [
    {
     "data": {
      "text/plain": [
       "{(3+6j), 1, 2, 3, 'hello', 'python'}"
      ]
     },
     "execution_count": 21,
     "metadata": {},
     "output_type": "execute_result"
    }
   ],
   "source": [
    "s={\"hello\",1,2,3,1,2,3,3+6j,\"python\",\"python\",True}\n",
    "s         # set shows only unique element only string at last first numbers"
   ]
  },
  {
   "cell_type": "markdown",
   "id": "99fd663e",
   "metadata": {},
   "source": [
    "6. Add somthing to the set s.add()\n",
    "   s.add can add only one element at a time."
   ]
  },
  {
   "cell_type": "code",
   "execution_count": 14,
   "id": "1c0bc64d",
   "metadata": {},
   "outputs": [
    {
     "data": {
      "text/plain": [
       "{(3+6j), 1, 1100, 2, 3, 'hello', 'python'}"
      ]
     },
     "execution_count": 14,
     "metadata": {},
     "output_type": "execute_result"
    }
   ],
   "source": [
    "s.add(1100) # alotted at random location\n",
    "s"
   ]
  },
  {
   "cell_type": "code",
   "execution_count": 15,
   "id": "afa7ca04",
   "metadata": {},
   "outputs": [
    {
     "ename": "TypeError",
     "evalue": "set.add() takes exactly one argument (2 given)",
     "output_type": "error",
     "traceback": [
      "\u001b[1;31m---------------------------------------------------------------------------\u001b[0m",
      "\u001b[1;31mTypeError\u001b[0m                                 Traceback (most recent call last)",
      "Input \u001b[1;32mIn [15]\u001b[0m, in \u001b[0;36m<cell line: 1>\u001b[1;34m()\u001b[0m\n\u001b[1;32m----> 1\u001b[0m \u001b[43ms\u001b[49m\u001b[38;5;241;43m.\u001b[39;49m\u001b[43madd\u001b[49m\u001b[43m(\u001b[49m\u001b[38;5;241;43m999\u001b[39;49m\u001b[43m,\u001b[49m\u001b[38;5;241;43m6\u001b[39;49m\u001b[43m)\u001b[49m\n",
      "\u001b[1;31mTypeError\u001b[0m: set.add() takes exactly one argument (2 given)"
     ]
    }
   ],
   "source": [
    "s.add(999,6) # two elements cant be added at a time"
   ]
  },
  {
   "cell_type": "code",
   "execution_count": 22,
   "id": "945b38e4",
   "metadata": {},
   "outputs": [
    {
     "data": {
      "text/plain": [
       "{('java', 9.19, 6), (3+6j), 1, 2, 3, 'hello', 'python'}"
      ]
     },
     "execution_count": 22,
     "metadata": {},
     "output_type": "execute_result"
    }
   ],
   "source": [
    "s1=(\"java\",9.19,6)  #tuple can be added to the set\n",
    "s.add(s1)\n",
    "s"
   ]
  },
  {
   "cell_type": "code",
   "execution_count": 23,
   "id": "922af9a6",
   "metadata": {},
   "outputs": [
    {
     "ename": "TypeError",
     "evalue": "unhashable type: 'list'",
     "output_type": "error",
     "traceback": [
      "\u001b[1;31m---------------------------------------------------------------------------\u001b[0m",
      "\u001b[1;31mTypeError\u001b[0m                                 Traceback (most recent call last)",
      "Input \u001b[1;32mIn [23]\u001b[0m, in \u001b[0;36m<cell line: 2>\u001b[1;34m()\u001b[0m\n\u001b[0;32m      1\u001b[0m s2\u001b[38;5;241m=\u001b[39m[\u001b[38;5;124m'\u001b[39m\u001b[38;5;124mlol\u001b[39m\u001b[38;5;124m'\u001b[39m,\u001b[38;5;241m7\u001b[39m]        \u001b[38;5;66;03m#list can not be added.\u001b[39;00m\n\u001b[1;32m----> 2\u001b[0m \u001b[43ms\u001b[49m\u001b[38;5;241;43m.\u001b[39;49m\u001b[43madd\u001b[49m\u001b[43m(\u001b[49m\u001b[43ms2\u001b[49m\u001b[43m)\u001b[49m\n\u001b[0;32m      3\u001b[0m s\n",
      "\u001b[1;31mTypeError\u001b[0m: unhashable type: 'list'"
     ]
    }
   ],
   "source": [
    "s2=['lol',7]        #list can not be added.\n",
    "s.add(s2)\n",
    "s "
   ]
  },
  {
   "cell_type": "code",
   "execution_count": 24,
   "id": "ba6bba59",
   "metadata": {},
   "outputs": [
    {
     "ename": "TypeError",
     "evalue": "unhashable type: 'set'",
     "output_type": "error",
     "traceback": [
      "\u001b[1;31m---------------------------------------------------------------------------\u001b[0m",
      "\u001b[1;31mTypeError\u001b[0m                                 Traceback (most recent call last)",
      "Input \u001b[1;32mIn [24]\u001b[0m, in \u001b[0;36m<cell line: 2>\u001b[1;34m()\u001b[0m\n\u001b[0;32m      1\u001b[0m s3\u001b[38;5;241m=\u001b[39m{\u001b[38;5;124m\"\u001b[39m\u001b[38;5;124mhello\u001b[39m\u001b[38;5;124m\"\u001b[39m,\u001b[38;5;28;01mTrue\u001b[39;00m}    \u001b[38;5;66;03m#set can not added into a set\u001b[39;00m\n\u001b[1;32m----> 2\u001b[0m \u001b[43ms\u001b[49m\u001b[38;5;241;43m.\u001b[39;49m\u001b[43madd\u001b[49m\u001b[43m(\u001b[49m\u001b[43ms3\u001b[49m\u001b[43m)\u001b[49m\n\u001b[0;32m      3\u001b[0m s\n",
      "\u001b[1;31mTypeError\u001b[0m: unhashable type: 'set'"
     ]
    }
   ],
   "source": [
    "s3={\"hello\",True}    #set can not added into a set\n",
    "s.add(s3)\n",
    "s"
   ]
  },
  {
   "cell_type": "code",
   "execution_count": 25,
   "id": "e8e17c30",
   "metadata": {
    "scrolled": true
   },
   "outputs": [
    {
     "ename": "TypeError",
     "evalue": "unhashable type: 'dict'",
     "output_type": "error",
     "traceback": [
      "\u001b[1;31m---------------------------------------------------------------------------\u001b[0m",
      "\u001b[1;31mTypeError\u001b[0m                                 Traceback (most recent call last)",
      "Input \u001b[1;32mIn [25]\u001b[0m, in \u001b[0;36m<cell line: 2>\u001b[1;34m()\u001b[0m\n\u001b[0;32m      1\u001b[0m s4\u001b[38;5;241m=\u001b[39m{\u001b[38;5;124m'\u001b[39m\u001b[38;5;124mkey\u001b[39m\u001b[38;5;124m'\u001b[39m:\u001b[38;5;124m'\u001b[39m\u001b[38;5;124mvalue\u001b[39m\u001b[38;5;124m'\u001b[39m,\u001b[38;5;124m'\u001b[39m\u001b[38;5;124mname\u001b[39m\u001b[38;5;124m'\u001b[39m:\u001b[38;5;124m'\u001b[39m\u001b[38;5;124mJYOTHI\u001b[39m\u001b[38;5;124m'\u001b[39m}    \u001b[38;5;66;03m#dict also can not added to the set\u001b[39;00m\n\u001b[1;32m----> 2\u001b[0m \u001b[43ms\u001b[49m\u001b[38;5;241;43m.\u001b[39;49m\u001b[43madd\u001b[49m\u001b[43m(\u001b[49m\u001b[43ms4\u001b[49m\u001b[43m)\u001b[49m\n\u001b[0;32m      3\u001b[0m s\n",
      "\u001b[1;31mTypeError\u001b[0m: unhashable type: 'dict'"
     ]
    }
   ],
   "source": [
    "s4={'key':'value','name':'JYOTHI'}    #dict also can not added to the set\n",
    "s.add(s4)\n",
    "s"
   ]
  },
  {
   "cell_type": "markdown",
   "id": "0dfc8959",
   "metadata": {},
   "source": [
    "# ONLY TUPLE ,integer,float,boolean, string can be added to the set "
   ]
  },
  {
   "cell_type": "markdown",
   "id": "a8a8d5dc",
   "metadata": {},
   "source": [
    "7. UPDATE method : to add element but without brackets use s.update() more than one element can be     added and with s.add()  only one element can be added to the set.\n"
   ]
  },
  {
   "cell_type": "code",
   "execution_count": 26,
   "id": "a64209ac",
   "metadata": {},
   "outputs": [
    {
     "data": {
      "text/plain": [
       "{1.99, 54.23, 550, 85, False, 'TATA', True, 'lol'}"
      ]
     },
     "execution_count": 26,
     "metadata": {},
     "output_type": "execute_result"
    }
   ],
   "source": [
    "a={\"lol\",85,54.23,True}  #a is set added to another set a1\n",
    "a1={\"TATA\",1.99,550,False}\n",
    "a.update(a1)   # elements of a1 si added to a without brackets\n",
    "a"
   ]
  },
  {
   "cell_type": "code",
   "execution_count": 27,
   "id": "200f0c4c",
   "metadata": {},
   "outputs": [
    {
     "data": {
      "text/plain": [
       "{(6+2j), 1.99, 54.23, 550, 85, False, 'TATA', True, 'lol'}"
      ]
     },
     "execution_count": 27,
     "metadata": {},
     "output_type": "execute_result"
    }
   ],
   "source": [
    "a2=(6+2j,True)  # tuple is added to another set\n",
    "a.update(a2)\n",
    "a"
   ]
  },
  {
   "cell_type": "code",
   "execution_count": 28,
   "id": "ee384caf",
   "metadata": {},
   "outputs": [
    {
     "data": {
      "text/plain": [
       "{2.3, 5.5, 800, False, True, 'bye'}"
      ]
     },
     "execution_count": 28,
     "metadata": {},
     "output_type": "execute_result"
    }
   ],
   "source": [
    "b1=[True,2.3,\"bye\"]  #list can be updated with set\n",
    "b={5.5,800,False}\n",
    "b.update(b1)\n",
    "b "
   ]
  },
  {
   "cell_type": "code",
   "execution_count": 32,
   "id": "a8dc7e75",
   "metadata": {},
   "outputs": [
    {
     "data": {
      "text/plain": [
       "{1.99, 2.3, 5.5, 550, 800, False, 'TATA', True, 'bye'}"
      ]
     },
     "execution_count": 32,
     "metadata": {},
     "output_type": "execute_result"
    }
   ],
   "source": [
    "a1.update(b)  #single element cantbe added like s.add(9) update takes more than one element\n",
    "a1 #single int string float cant be updated"
   ]
  },
  {
   "cell_type": "markdown",
   "id": "4f462938",
   "metadata": {},
   "source": [
    "8. COPY method in SET"
   ]
  },
  {
   "cell_type": "code",
   "execution_count": 33,
   "id": "aa415e4b",
   "metadata": {},
   "outputs": [
    {
     "data": {
      "text/plain": [
       "{5.3, 5655, True, 'none'}"
      ]
     },
     "execution_count": 33,
     "metadata": {},
     "output_type": "execute_result"
    }
   ],
   "source": [
    "x={True , \"none\",5.3,5655} #copy  x into y\n",
    "y=x.copy()\n",
    "y"
   ]
  },
  {
   "cell_type": "markdown",
   "id": "a4a88f13",
   "metadata": {},
   "source": [
    "9. POP function in set removes First element by default"
   ]
  },
  {
   "cell_type": "code",
   "execution_count": 40,
   "id": "095bbd21",
   "metadata": {},
   "outputs": [
    {
     "data": {
      "text/plain": [
       "{1, 15, 2.3, 31, 'cat', 'pet'}"
      ]
     },
     "execution_count": 40,
     "metadata": {},
     "output_type": "execute_result"
    }
   ],
   "source": [
    "f={31,15,1,2.3,True,\"pet\",\"cat\"}\n",
    "f"
   ]
  },
  {
   "cell_type": "code",
   "execution_count": 41,
   "id": "fb987f1c",
   "metadata": {},
   "outputs": [
    {
     "data": {
      "text/plain": [
       "{15, 2.3, 31, 'cat', 'pet'}"
      ]
     },
     "execution_count": 41,
     "metadata": {},
     "output_type": "execute_result"
    }
   ],
   "source": [
    "f.pop()  #removes first element of a set\n",
    "f"
   ]
  },
  {
   "cell_type": "markdown",
   "id": "b52aa1d2",
   "metadata": {},
   "source": [
    "10. REMOVE FUNCTION s.remove() in set removes element as per coder.\n",
    "    HERE pop function is removing the first element by default but its not removing the element which     user wanted. so here  S.REMOVE() FUNCTION IS used."
   ]
  },
  {
   "cell_type": "code",
   "execution_count": 42,
   "id": "18920f02",
   "metadata": {},
   "outputs": [
    {
     "data": {
      "text/plain": [
       "{15, 2.3, 31, 'cat', 'pet'}"
      ]
     },
     "execution_count": 42,
     "metadata": {},
     "output_type": "execute_result"
    }
   ],
   "source": [
    "f"
   ]
  },
  {
   "cell_type": "code",
   "execution_count": 43,
   "id": "43a9938c",
   "metadata": {},
   "outputs": [
    {
     "data": {
      "text/plain": [
       "{15, 31, 'cat', 'pet'}"
      ]
     },
     "execution_count": 43,
     "metadata": {},
     "output_type": "execute_result"
    }
   ],
   "source": [
    "f.remove(2.3) #remove function removes the element which i want randomly\n",
    "f"
   ]
  },
  {
   "cell_type": "code",
   "execution_count": 44,
   "id": "1a6f9e1b",
   "metadata": {},
   "outputs": [
    {
     "ename": "TypeError",
     "evalue": "set.remove() takes exactly one argument (2 given)",
     "output_type": "error",
     "traceback": [
      "\u001b[1;31m---------------------------------------------------------------------------\u001b[0m",
      "\u001b[1;31mTypeError\u001b[0m                                 Traceback (most recent call last)",
      "Input \u001b[1;32mIn [44]\u001b[0m, in \u001b[0;36m<cell line: 1>\u001b[1;34m()\u001b[0m\n\u001b[1;32m----> 1\u001b[0m \u001b[43mf\u001b[49m\u001b[38;5;241;43m.\u001b[39;49m\u001b[43mremove\u001b[49m\u001b[43m(\u001b[49m\u001b[38;5;241;43m888\u001b[39;49m\u001b[43m,\u001b[49m\u001b[38;5;241;43m500\u001b[39;49m\u001b[43m)\u001b[49m\n",
      "\u001b[1;31mTypeError\u001b[0m: set.remove() takes exactly one argument (2 given)"
     ]
    }
   ],
   "source": [
    "f.remove(888,500) #s.remove() : one element can be removed at a time."
   ]
  },
  {
   "cell_type": "markdown",
   "id": "5e4ed271",
   "metadata": {},
   "source": [
    " ## s.remove() shows error when element is not present.\n",
    " ## s.remove(): one element can be removed at a time."
   ]
  },
  {
   "cell_type": "markdown",
   "id": "ad16f003",
   "metadata": {},
   "source": [
    "## as s.remove() funct gives error when element is not present in the set\n",
    "11. To avoid error s.DISCARD() function is used and code is not stopped"
   ]
  },
  {
   "cell_type": "code",
   "execution_count": 45,
   "id": "8e134236",
   "metadata": {},
   "outputs": [
    {
     "data": {
      "text/plain": [
       "{('java', 9.19, 6), (3+6j), 1, 2, 3, 'hello', 'python'}"
      ]
     },
     "execution_count": 45,
     "metadata": {},
     "output_type": "execute_result"
    }
   ],
   "source": [
    "s"
   ]
  },
  {
   "cell_type": "code",
   "execution_count": 48,
   "id": "98ebdec9",
   "metadata": {},
   "outputs": [
    {
     "data": {
      "text/plain": [
       "{('java', 9.19, 6), (3+6j), 1, 2, 3, 'python'}"
      ]
     },
     "execution_count": 48,
     "metadata": {},
     "output_type": "execute_result"
    }
   ],
   "source": [
    "s.discard('hello')\n",
    "s"
   ]
  },
  {
   "cell_type": "code",
   "execution_count": 49,
   "id": "0c4fa8a3",
   "metadata": {},
   "outputs": [],
   "source": [
    "s.discard(100000)   #cell runs but doesnot show error if element is not present."
   ]
  },
  {
   "cell_type": "code",
   "execution_count": 50,
   "id": "4f8e3e61",
   "metadata": {
    "scrolled": true
   },
   "outputs": [
    {
     "ename": "TypeError",
     "evalue": "set.discard() takes exactly one argument (2 given)",
     "output_type": "error",
     "traceback": [
      "\u001b[1;31m---------------------------------------------------------------------------\u001b[0m",
      "\u001b[1;31mTypeError\u001b[0m                                 Traceback (most recent call last)",
      "Input \u001b[1;32mIn [50]\u001b[0m, in \u001b[0;36m<cell line: 1>\u001b[1;34m()\u001b[0m\n\u001b[1;32m----> 1\u001b[0m \u001b[43ms\u001b[49m\u001b[38;5;241;43m.\u001b[39;49m\u001b[43mdiscard\u001b[49m\u001b[43m(\u001b[49m\u001b[38;5;241;43m1000000\u001b[39;49m\u001b[43m,\u001b[49m\u001b[38;5;241;43m2.3\u001b[39;49m\u001b[43m)\u001b[49m\n\u001b[0;32m      2\u001b[0m s\n",
      "\u001b[1;31mTypeError\u001b[0m: set.discard() takes exactly one argument (2 given)"
     ]
    }
   ],
   "source": [
    "s.discard(1000000,2.3)\n",
    "s      #at a time only one element can be discarded"
   ]
  },
  {
   "cell_type": "markdown",
   "id": "9161e03e",
   "metadata": {},
   "source": [
    "12. Clear method : To clear whole set\n",
    "s.clear()"
   ]
  },
  {
   "cell_type": "code",
   "execution_count": 51,
   "id": "edd192c9",
   "metadata": {},
   "outputs": [
    {
     "data": {
      "text/plain": [
       "{(6+2j),\n",
       " 1.99,\n",
       " 2.3,\n",
       " 5.5,\n",
       " 54.23,\n",
       " 550,\n",
       " 800,\n",
       " 85,\n",
       " False,\n",
       " 'TATA',\n",
       " True,\n",
       " 'bye',\n",
       " 'lol'}"
      ]
     },
     "execution_count": 51,
     "metadata": {},
     "output_type": "execute_result"
    }
   ],
   "source": [
    "a"
   ]
  },
  {
   "cell_type": "code",
   "execution_count": 52,
   "id": "d30ea759",
   "metadata": {},
   "outputs": [
    {
     "data": {
      "text/plain": [
       "set()"
      ]
     },
     "execution_count": 52,
     "metadata": {},
     "output_type": "execute_result"
    }
   ],
   "source": [
    "a.clear() # here check output set() not as set cant  not be empty\n",
    "a"
   ]
  },
  {
   "cell_type": "markdown",
   "id": "6ee15999",
   "metadata": {},
   "source": [
    "13. To convert tuple , list into set"
   ]
  },
  {
   "cell_type": "code",
   "execution_count": 55,
   "id": "4b31f6fd",
   "metadata": {},
   "outputs": [
    {
     "data": {
      "text/plain": [
       "{200, 5.2, 5489, 'yellow'}"
      ]
     },
     "execution_count": 55,
     "metadata": {},
     "output_type": "execute_result"
    }
   ],
   "source": [
    "l=[5.2,200,5489,\"yellow\"]\n",
    "set(l)"
   ]
  },
  {
   "cell_type": "code",
   "execution_count": 56,
   "id": "1e317514",
   "metadata": {},
   "outputs": [
    {
     "data": {
      "text/plain": [
       "{200, 5.2, 5489, 'yellow'}"
      ]
     },
     "execution_count": 56,
     "metadata": {},
     "output_type": "execute_result"
    }
   ],
   "source": [
    "t=(5.2,200,5489,\"yellow\")\n",
    "set(t)"
   ]
  },
  {
   "cell_type": "markdown",
   "id": "1f5eea19",
   "metadata": {},
   "source": [
    "Question asked to convert tuple list into set"
   ]
  },
  {
   "cell_type": "code",
   "execution_count": 57,
   "id": "3583c721",
   "metadata": {},
   "outputs": [
    {
     "data": {
      "text/plain": [
       "{10, 11, 12, 13, 14, 2.55, 501, True, 'bye'}"
      ]
     },
     "execution_count": 57,
     "metadata": {},
     "output_type": "execute_result"
    }
   ],
   "source": [
    "t=(501,2.55,\"bye\",True,10,11,12,13,14)\n",
    "set(t)"
   ]
  },
  {
   "cell_type": "raw",
   "id": "32eb12c5",
   "metadata": {},
   "source": [
    "# Convert string into set find unique elements."
   ]
  },
  {
   "cell_type": "code",
   "execution_count": 58,
   "id": "12a7b7c8",
   "metadata": {},
   "outputs": [
    {
     "data": {
      "text/plain": [
       "{'P', 'a', 'c', 'h', 'm', 'n', 'o', 'p', 'r', 't', 'y'}"
      ]
     },
     "execution_count": 58,
     "metadata": {},
     "output_type": "execute_result"
    }
   ],
   "source": [
    "q=\"Pycharmpython\"\n",
    "set(q)"
   ]
  },
  {
   "cell_type": "raw",
   "id": "b5010c2e",
   "metadata": {},
   "source": [
    "### Reverse and keep some elements as it is of the string \n",
    "s=\"pythonpycharm\" \n",
    "s=\"pythonmrahcyp\" output like this"
   ]
  },
  {
   "cell_type": "code",
   "execution_count": 59,
   "id": "0829a2ff",
   "metadata": {},
   "outputs": [
    {
     "data": {
      "text/plain": [
       "'python'"
      ]
     },
     "execution_count": 59,
     "metadata": {},
     "output_type": "execute_result"
    }
   ],
   "source": [
    "p=\"pythonpycharm\"\n",
    "p1=p[0:6]\n",
    "p1"
   ]
  },
  {
   "cell_type": "code",
   "execution_count": 60,
   "id": "9313945f",
   "metadata": {},
   "outputs": [
    {
     "data": {
      "text/plain": [
       "'pycharm'"
      ]
     },
     "execution_count": 60,
     "metadata": {},
     "output_type": "execute_result"
    }
   ],
   "source": [
    "p2=p[6:13]\n",
    "p2"
   ]
  },
  {
   "cell_type": "code",
   "execution_count": 61,
   "id": "78da16c8",
   "metadata": {},
   "outputs": [
    {
     "data": {
      "text/plain": [
       "'mrahcyp'"
      ]
     },
     "execution_count": 61,
     "metadata": {},
     "output_type": "execute_result"
    }
   ],
   "source": [
    "p2[::-1]"
   ]
  },
  {
   "cell_type": "code",
   "execution_count": 62,
   "id": "c94769e2",
   "metadata": {},
   "outputs": [
    {
     "data": {
      "text/plain": [
       "'mrahcyp'"
      ]
     },
     "execution_count": 62,
     "metadata": {},
     "output_type": "execute_result"
    }
   ],
   "source": [
    "p3=p2[::-1]\n",
    "p3"
   ]
  },
  {
   "cell_type": "code",
   "execution_count": 63,
   "id": "6242f25a",
   "metadata": {},
   "outputs": [],
   "source": [
    "p=p1+p3"
   ]
  },
  {
   "cell_type": "code",
   "execution_count": 64,
   "id": "d1bbe4a5",
   "metadata": {},
   "outputs": [
    {
     "data": {
      "text/plain": [
       "'pythonmrahcyp'"
      ]
     },
     "execution_count": 64,
     "metadata": {},
     "output_type": "execute_result"
    }
   ],
   "source": [
    "p"
   ]
  },
  {
   "cell_type": "markdown",
   "id": "630f73e3",
   "metadata": {},
   "source": [
    "14. Convert dictinary into set"
   ]
  },
  {
   "cell_type": "code",
   "execution_count": 65,
   "id": "2fc0022b",
   "metadata": {},
   "outputs": [
    {
     "data": {
      "text/plain": [
       "{'B', 'aa', 'b', 'key'}"
      ]
     },
     "execution_count": 65,
     "metadata": {},
     "output_type": "execute_result"
    }
   ],
   "source": [
    "d={\"key\":\"value\",\"aa\":True,\"b\":5.4,\"B\":8,\"b\":\"why\"}\n",
    "set(d) # shows only unquie keys"
   ]
  },
  {
   "cell_type": "markdown",
   "id": "39654a3a",
   "metadata": {},
   "source": [
    "15. To check intersection of sets given"
   ]
  },
  {
   "cell_type": "code",
   "execution_count": 66,
   "id": "fae0287e",
   "metadata": {},
   "outputs": [
    {
     "data": {
      "text/plain": [
       "{11, 12, 13, 14}"
      ]
     },
     "execution_count": 66,
     "metadata": {},
     "output_type": "execute_result"
    }
   ],
   "source": [
    "a={501,2.55,\"bye\",True,10,11,12,13,14,10}\n",
    "a1={\"YELLOW\",11,12,13,14}\n",
    "a.intersection(a1)  # shows only common things of both sets"
   ]
  },
  {
   "cell_type": "code",
   "execution_count": 67,
   "id": "e88806f8",
   "metadata": {},
   "outputs": [
    {
     "data": {
      "text/plain": [
       "{10, 11, 12, 13, 14, 2.55, 501, True, 'YELLOW', 'bye'}"
      ]
     },
     "execution_count": 67,
     "metadata": {},
     "output_type": "execute_result"
    }
   ],
   "source": [
    "a.union(a1)"
   ]
  },
  {
   "cell_type": "code",
   "execution_count": 68,
   "id": "90cb51a7",
   "metadata": {},
   "outputs": [
    {
     "data": {
      "text/plain": [
       "{10, 2.55, 501, True, 'YELLOW', 'bye'}"
      ]
     },
     "execution_count": 68,
     "metadata": {},
     "output_type": "execute_result"
    }
   ],
   "source": [
    "a.symmetric_difference(a1) # shows which is no common in both in both,\n",
    "#union - intersection is symm deff"
   ]
  },
  {
   "cell_type": "code",
   "execution_count": 69,
   "id": "1ff91947",
   "metadata": {},
   "outputs": [
    {
     "data": {
      "text/plain": [
       "{10, 2.55, 501, True, 'bye'}"
      ]
     },
     "execution_count": 69,
     "metadata": {},
     "output_type": "execute_result"
    }
   ],
   "source": [
    "a.difference(a1)"
   ]
  },
  {
   "cell_type": "code",
   "execution_count": 70,
   "id": "a370e086",
   "metadata": {},
   "outputs": [
    {
     "data": {
      "text/plain": [
       "{25, 98, 1000}"
      ]
     },
     "execution_count": 70,
     "metadata": {},
     "output_type": "execute_result"
    }
   ],
   "source": [
    "s={1,2.3,25,1000,8,98}\n",
    "s1={1,2.3,True , 8,\"lol\"}\n",
    "s.difference(s1) # shows all that which is not there in s1"
   ]
  },
  {
   "cell_type": "raw",
   "id": "e68cab89",
   "metadata": {},
   "source": [
    "16. To check membership"
   ]
  },
  {
   "cell_type": "code",
   "execution_count": 71,
   "id": "78f7933c",
   "metadata": {},
   "outputs": [
    {
     "data": {
      "text/plain": [
       "{1, 2.3, 8, 25, 98, 1000}"
      ]
     },
     "execution_count": 71,
     "metadata": {},
     "output_type": "execute_result"
    }
   ],
   "source": [
    "s"
   ]
  },
  {
   "cell_type": "code",
   "execution_count": 72,
   "id": "620b4070",
   "metadata": {},
   "outputs": [
    {
     "data": {
      "text/plain": [
       "True"
      ]
     },
     "execution_count": 72,
     "metadata": {},
     "output_type": "execute_result"
    }
   ],
   "source": [
    "8 in s"
   ]
  },
  {
   "cell_type": "code",
   "execution_count": 73,
   "id": "2edf0474",
   "metadata": {},
   "outputs": [
    {
     "data": {
      "text/plain": [
       "False"
      ]
     },
     "execution_count": 73,
     "metadata": {},
     "output_type": "execute_result"
    }
   ],
   "source": [
    "2.5 in s"
   ]
  },
  {
   "cell_type": "code",
   "execution_count": 74,
   "id": "0cbee29e",
   "metadata": {},
   "outputs": [
    {
     "data": {
      "text/plain": [
       "True"
      ]
     },
     "execution_count": 74,
     "metadata": {},
     "output_type": "execute_result"
    }
   ],
   "source": [
    "2.5 not in s"
   ]
  }
 ],
 "metadata": {
  "kernelspec": {
   "display_name": "Python 3 (ipykernel)",
   "language": "python",
   "name": "python3"
  },
  "language_info": {
   "codemirror_mode": {
    "name": "ipython",
    "version": 3
   },
   "file_extension": ".py",
   "mimetype": "text/x-python",
   "name": "python",
   "nbconvert_exporter": "python",
   "pygments_lexer": "ipython3",
   "version": "3.9.12"
  }
 },
 "nbformat": 4,
 "nbformat_minor": 5
}
