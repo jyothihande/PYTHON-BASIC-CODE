{
 "cells": [
  {
   "cell_type": "markdown",
   "id": "0a2a087f",
   "metadata": {},
   "source": [
    "# LIST METHODS\n"
   ]
  },
  {
   "cell_type": "markdown",
   "id": "81ecae46",
   "metadata": {},
   "source": [
    "1. List is represneted by l[] with square brackets.\n",
    "2. List accpets all types of data types that are int,boolean,str,float,tuple,set,dict.\n",
    "3. List has Indexing "
   ]
  },
  {
   "cell_type": "markdown",
   "id": "a7d6d26b",
   "metadata": {},
   "source": [
    "1. List accpets all types of data that are int,str,complex,boolean,float,tuple,set,dict."
   ]
  },
  {
   "cell_type": "code",
   "execution_count": 2,
   "id": "05cfd485",
   "metadata": {},
   "outputs": [],
   "source": [
    "l=[True,\"false\",100,9.9,3+6j,(36,13.5),[71,2],{'a',56},{\"key\":\"Value\",985:\"contact\"}]"
   ]
  },
  {
   "cell_type": "code",
   "execution_count": 3,
   "id": "fc403346",
   "metadata": {},
   "outputs": [
    {
     "data": {
      "text/plain": [
       "[True,\n",
       " 'false',\n",
       " 100,\n",
       " 9.9,\n",
       " (3+6j),\n",
       " (36, 13.5),\n",
       " [71, 2],\n",
       " {56, 'a'},\n",
       " {'key': 'Value', 985: 'contact'}]"
      ]
     },
     "execution_count": 3,
     "metadata": {},
     "output_type": "execute_result"
    }
   ],
   "source": [
    "l # indexing do not change in output of list as in set indexing changes"
   ]
  },
  {
   "cell_type": "markdown",
   "id": "4e58771c",
   "metadata": {},
   "source": [
    "2. To check lenth of the list"
   ]
  },
  {
   "cell_type": "code",
   "execution_count": 4,
   "id": "a5e9e884",
   "metadata": {},
   "outputs": [
    {
     "data": {
      "text/plain": [
       "9"
      ]
     },
     "execution_count": 4,
     "metadata": {},
     "output_type": "execute_result"
    }
   ],
   "source": [
    "len(l)"
   ]
  },
  {
   "cell_type": "markdown",
   "id": "ca09ed0e",
   "metadata": {},
   "source": [
    "3. Indexing in list"
   ]
  },
  {
   "cell_type": "code",
   "execution_count": 5,
   "id": "2ba5890c",
   "metadata": {},
   "outputs": [
    {
     "data": {
      "text/plain": [
       "[True,\n",
       " 'false',\n",
       " 100,\n",
       " 9.9,\n",
       " (3+6j),\n",
       " (36, 13.5),\n",
       " [71, 2],\n",
       " {56, 'a'},\n",
       " {'key': 'Value', 985: 'contact'}]"
      ]
     },
     "execution_count": 5,
     "metadata": {},
     "output_type": "execute_result"
    }
   ],
   "source": [
    "l"
   ]
  },
  {
   "cell_type": "code",
   "execution_count": 6,
   "id": "6d7eaa53",
   "metadata": {},
   "outputs": [
    {
     "data": {
      "text/plain": [
       "(36, 13.5)"
      ]
     },
     "execution_count": 6,
     "metadata": {},
     "output_type": "execute_result"
    }
   ],
   "source": [
    "l[5]   # at index 5 it is Tuple(36,13.5)"
   ]
  },
  {
   "cell_type": "code",
   "execution_count": 7,
   "id": "82c004c3",
   "metadata": {},
   "outputs": [
    {
     "data": {
      "text/plain": [
       "[True, 'false', 100, 9.9, (3+6j)]"
      ]
     },
     "execution_count": 7,
     "metadata": {},
     "output_type": "execute_result"
    }
   ],
   "source": [
    "l[0:5] #0 1 2 3 4"
   ]
  },
  {
   "cell_type": "code",
   "execution_count": 8,
   "id": "c468ff50",
   "metadata": {},
   "outputs": [
    {
     "data": {
      "text/plain": [
       "[{'key': 'Value', 985: 'contact'},\n",
       " {56, 'a'},\n",
       " [71, 2],\n",
       " (36, 13.5),\n",
       " (3+6j),\n",
       " 9.9,\n",
       " 100,\n",
       " 'false',\n",
       " True]"
      ]
     },
     "execution_count": 8,
     "metadata": {},
     "output_type": "execute_result"
    }
   ],
   "source": [
    "l[::-1]   # reverse of list"
   ]
  },
  {
   "cell_type": "code",
   "execution_count": 9,
   "id": "68b8d993",
   "metadata": {},
   "outputs": [
    {
     "data": {
      "text/plain": [
       "[]"
      ]
     },
     "execution_count": 9,
     "metadata": {},
     "output_type": "execute_result"
    }
   ],
   "source": [
    "l[0:5:-1] # no output direction is opposite"
   ]
  },
  {
   "cell_type": "code",
   "execution_count": 10,
   "id": "4deb5fc7",
   "metadata": {},
   "outputs": [
    {
     "ename": "IndexError",
     "evalue": "list index out of range",
     "output_type": "error",
     "traceback": [
      "\u001b[1;31m---------------------------------------------------------------------------\u001b[0m",
      "\u001b[1;31mIndexError\u001b[0m                                Traceback (most recent call last)",
      "Input \u001b[1;32mIn [10]\u001b[0m, in \u001b[0;36m<cell line: 1>\u001b[1;34m()\u001b[0m\n\u001b[1;32m----> 1\u001b[0m \u001b[43ml\u001b[49m\u001b[43m[\u001b[49m\u001b[38;5;241;43m10\u001b[39;49m\u001b[43m]\u001b[49m\n",
      "\u001b[1;31mIndexError\u001b[0m: list index out of range"
     ]
    }
   ],
   "source": [
    "l[10]  # error as index is out of range"
   ]
  },
  {
   "cell_type": "markdown",
   "id": "66d19104",
   "metadata": {},
   "source": [
    "4. CONVERSION str()/tuple()/set{}/dict{} into List"
   ]
  },
  {
   "cell_type": "code",
   "execution_count": 11,
   "id": "9842dd18",
   "metadata": {},
   "outputs": [
    {
     "data": {
      "text/plain": [
       "['d', 'a', 't', 'a', ' ', 's', 'c', 'i', 'e', 'n', 'c', 'e']"
      ]
     },
     "execution_count": 11,
     "metadata": {},
     "output_type": "execute_result"
    }
   ],
   "source": [
    "string =\"data science\"   # string to list[]\n",
    "list(string)"
   ]
  },
  {
   "cell_type": "code",
   "execution_count": 12,
   "id": "c187d860",
   "metadata": {},
   "outputs": [
    {
     "data": {
      "text/plain": [
       "[10, 12, 101, 13, 11, 5.2]"
      ]
     },
     "execution_count": 12,
     "metadata": {},
     "output_type": "execute_result"
    }
   ],
   "source": [
    "t=(10,12,101,13,11,5.2)   # tuple to list\n",
    "list(t) # output with square brackets"
   ]
  },
  {
   "cell_type": "code",
   "execution_count": 13,
   "id": "6a4af224",
   "metadata": {},
   "outputs": [
    {
     "data": {
      "text/plain": [
       "[5.2, 101, 10, 11, 12, 13]"
      ]
     },
     "execution_count": 13,
     "metadata": {},
     "output_type": "execute_result"
    }
   ],
   "source": [
    "s={10,12,101,13,11,5.2}   # set {} into list\n",
    "list(s)"
   ]
  },
  {
   "cell_type": "code",
   "execution_count": 14,
   "id": "13c5932a",
   "metadata": {},
   "outputs": [
    {
     "data": {
      "text/plain": [
       "['key', 'contact', 'abhs']"
      ]
     },
     "execution_count": 14,
     "metadata": {},
     "output_type": "execute_result"
    }
   ],
   "source": [
    "dictionary ={\"key\":\"value\",\"contact\":123456,\"abhs\":3+6j}  # dictionay to list is not possible\n",
    "list(dictionary)"
   ]
  },
  {
   "cell_type": "markdown",
   "id": "1448de06",
   "metadata": {},
   "source": [
    "5. CONCATANATION in LIST\n",
    "   list[] with string is not possible\n",
    "   list[] with list [] concatanation is possible"
   ]
  },
  {
   "cell_type": "code",
   "execution_count": 15,
   "id": "921e6c96",
   "metadata": {},
   "outputs": [
    {
     "ename": "TypeError",
     "evalue": "can only concatenate list (not \"str\") to list",
     "output_type": "error",
     "traceback": [
      "\u001b[1;31m---------------------------------------------------------------------------\u001b[0m",
      "\u001b[1;31mTypeError\u001b[0m                                 Traceback (most recent call last)",
      "Input \u001b[1;32mIn [15]\u001b[0m, in \u001b[0;36m<cell line: 1>\u001b[1;34m()\u001b[0m\n\u001b[1;32m----> 1\u001b[0m l1\u001b[38;5;241m=\u001b[39m\u001b[43m[\u001b[49m\u001b[38;5;28;43;01mTrue\u001b[39;49;00m\u001b[43m,\u001b[49m\u001b[38;5;241;43m3\u001b[39;49m\u001b[38;5;241;43m+\u001b[39;49m\u001b[38;5;241;43m6\u001b[39;49m\u001b[43mj\u001b[49m\u001b[43m,\u001b[49m\u001b[38;5;124;43m\"\u001b[39;49m\u001b[38;5;124;43mpython\u001b[39;49m\u001b[38;5;124;43m\"\u001b[39;49m\u001b[43m]\u001b[49m\u001b[43m \u001b[49m\u001b[38;5;241;43m+\u001b[39;49m\u001b[43m \u001b[49m\u001b[38;5;124;43m\"\u001b[39;49m\u001b[38;5;124;43mHello coders\u001b[39;49m\u001b[38;5;124;43m\"\u001b[39;49m\n",
      "\u001b[1;31mTypeError\u001b[0m: can only concatenate list (not \"str\") to list"
     ]
    }
   ],
   "source": [
    "l1=[True,3+6j,\"python\"] + \"Hello coders\"  #   list[] with string is not possible"
   ]
  },
  {
   "cell_type": "code",
   "execution_count": 16,
   "id": "30a3ee62",
   "metadata": {},
   "outputs": [
    {
     "ename": "NameError",
     "evalue": "name 'l2' is not defined",
     "output_type": "error",
     "traceback": [
      "\u001b[1;31m---------------------------------------------------------------------------\u001b[0m",
      "\u001b[1;31mNameError\u001b[0m                                 Traceback (most recent call last)",
      "Input \u001b[1;32mIn [16]\u001b[0m, in \u001b[0;36m<cell line: 1>\u001b[1;34m()\u001b[0m\n\u001b[1;32m----> 1\u001b[0m \u001b[43ml2\u001b[49m \u001b[38;5;241m+\u001b[39m \u001b[38;5;241m235\u001b[39m\n",
      "\u001b[1;31mNameError\u001b[0m: name 'l2' is not defined"
     ]
    }
   ],
   "source": [
    "l2 + 235"
   ]
  },
  {
   "cell_type": "code",
   "execution_count": 17,
   "id": "cebd2bfb",
   "metadata": {},
   "outputs": [
    {
     "data": {
      "text/plain": [
       "[True, (3+6j), 'python', 'Hello coders']"
      ]
     },
     "execution_count": 17,
     "metadata": {},
     "output_type": "execute_result"
    }
   ],
   "source": [
    "l1=[True,3+6j,\"python\"]   #   list[] with list [] concatanation is possible\n",
    "l2=[\"Hello coders\"]\n",
    "l1+l2"
   ]
  },
  {
   "cell_type": "code",
   "execution_count": 18,
   "id": "5f3ff927",
   "metadata": {},
   "outputs": [
    {
     "data": {
      "text/plain": [
       "['Hello coders', 'Hello coders']"
      ]
     },
     "execution_count": 18,
     "metadata": {},
     "output_type": "execute_result"
    }
   ],
   "source": [
    "l2*2   # print L2 two times"
   ]
  },
  {
   "cell_type": "markdown",
   "id": "1821db91",
   "metadata": {},
   "source": [
    "6. Membership operators in List"
   ]
  },
  {
   "cell_type": "code",
   "execution_count": 19,
   "id": "f7085d94",
   "metadata": {},
   "outputs": [
    {
     "data": {
      "text/plain": [
       "[True,\n",
       " 'false',\n",
       " 100,\n",
       " 9.9,\n",
       " (3+6j),\n",
       " (36, 13.5),\n",
       " [71, 2],\n",
       " {56, 'a'},\n",
       " {'key': 'Value', 985: 'contact'}]"
      ]
     },
     "execution_count": 19,
     "metadata": {},
     "output_type": "execute_result"
    }
   ],
   "source": [
    "l"
   ]
  },
  {
   "cell_type": "code",
   "execution_count": 20,
   "id": "fb00fd0c",
   "metadata": {},
   "outputs": [
    {
     "data": {
      "text/plain": [
       "True"
      ]
     },
     "execution_count": 20,
     "metadata": {},
     "output_type": "execute_result"
    }
   ],
   "source": [
    "9.9 in l"
   ]
  },
  {
   "cell_type": "code",
   "execution_count": 21,
   "id": "7a5963f5",
   "metadata": {},
   "outputs": [
    {
     "data": {
      "text/plain": [
       "False"
      ]
     },
     "execution_count": 21,
     "metadata": {},
     "output_type": "execute_result"
    }
   ],
   "source": [
    "9.99 in l"
   ]
  },
  {
   "cell_type": "code",
   "execution_count": 22,
   "id": "4a492009",
   "metadata": {},
   "outputs": [
    {
     "data": {
      "text/plain": [
       "False"
      ]
     },
     "execution_count": 22,
     "metadata": {},
     "output_type": "execute_result"
    }
   ],
   "source": [
    "9.9 not in l"
   ]
  },
  {
   "cell_type": "code",
   "execution_count": 23,
   "id": "2c32bb9f",
   "metadata": {},
   "outputs": [
    {
     "data": {
      "text/plain": [
       "True"
      ]
     },
     "execution_count": 23,
     "metadata": {},
     "output_type": "execute_result"
    }
   ],
   "source": [
    "{56,'a'} in l"
   ]
  },
  {
   "cell_type": "markdown",
   "id": "5d727334",
   "metadata": {},
   "source": [
    "7. Min Max in list\n",
    "   To find min/max provided that all the items in list should be of same type.\n",
    "   as for comparision of two same type of element is possible"
   ]
  },
  {
   "cell_type": "code",
   "execution_count": 24,
   "id": "d3a0848c",
   "metadata": {},
   "outputs": [
    {
     "data": {
      "text/plain": [
       "[True,\n",
       " 'false',\n",
       " 100,\n",
       " 9.9,\n",
       " (3+6j),\n",
       " (36, 13.5),\n",
       " [71, 2],\n",
       " {56, 'a'},\n",
       " {'key': 'Value', 985: 'contact'}]"
      ]
     },
     "execution_count": 24,
     "metadata": {},
     "output_type": "execute_result"
    }
   ],
   "source": [
    "l"
   ]
  },
  {
   "cell_type": "code",
   "execution_count": 25,
   "id": "09a4e5fa",
   "metadata": {},
   "outputs": [
    {
     "ename": "TypeError",
     "evalue": "'<' not supported between instances of 'str' and 'bool'",
     "output_type": "error",
     "traceback": [
      "\u001b[1;31m---------------------------------------------------------------------------\u001b[0m",
      "\u001b[1;31mTypeError\u001b[0m                                 Traceback (most recent call last)",
      "Input \u001b[1;32mIn [25]\u001b[0m, in \u001b[0;36m<cell line: 1>\u001b[1;34m()\u001b[0m\n\u001b[1;32m----> 1\u001b[0m \u001b[38;5;28;43mmin\u001b[39;49m\u001b[43m(\u001b[49m\u001b[43ml\u001b[49m\u001b[43m)\u001b[49m\n",
      "\u001b[1;31mTypeError\u001b[0m: '<' not supported between instances of 'str' and 'bool'"
     ]
    }
   ],
   "source": [
    "min(l)     #int and string of list can not be compared"
   ]
  },
  {
   "cell_type": "code",
   "execution_count": 26,
   "id": "296d1a23",
   "metadata": {},
   "outputs": [
    {
     "data": {
      "text/plain": [
       "1"
      ]
     },
     "execution_count": 26,
     "metadata": {},
     "output_type": "execute_result"
    }
   ],
   "source": [
    "l1=[1,2,3,4,5,6,8,8000,1546.256,545,82]\n",
    "min(l1)"
   ]
  },
  {
   "cell_type": "code",
   "execution_count": 27,
   "id": "55ac0d50",
   "metadata": {},
   "outputs": [
    {
     "data": {
      "text/plain": [
       "8000"
      ]
     },
     "execution_count": 27,
     "metadata": {},
     "output_type": "execute_result"
    }
   ],
   "source": [
    "max(l1)"
   ]
  },
  {
   "cell_type": "code",
   "execution_count": 28,
   "id": "fcdcd0f4",
   "metadata": {},
   "outputs": [
    {
     "data": {
      "text/plain": [
       "'a'"
      ]
     },
     "execution_count": 28,
     "metadata": {},
     "output_type": "execute_result"
    }
   ],
   "source": [
    "l2=[\"jyo\",\"python\",\"lol\",\"hello\",\"x\",\"a\"]  # all elements are string\n",
    "min(l2)"
   ]
  },
  {
   "cell_type": "code",
   "execution_count": 29,
   "id": "ce152126",
   "metadata": {},
   "outputs": [
    {
     "data": {
      "text/plain": [
       "'x'"
      ]
     },
     "execution_count": 29,
     "metadata": {},
     "output_type": "execute_result"
    }
   ],
   "source": [
    "max(l2)"
   ]
  },
  {
   "cell_type": "markdown",
   "id": "2b6b9ad8",
   "metadata": {},
   "source": [
    "8. ADD item to the list"
   ]
  },
  {
   "cell_type": "code",
   "execution_count": 36,
   "id": "836815ea",
   "metadata": {},
   "outputs": [
    {
     "data": {
      "text/plain": [
       "[True,\n",
       " 'false',\n",
       " 100,\n",
       " 'not',\n",
       " (3+6j),\n",
       " (36, 13.5),\n",
       " [71, 2],\n",
       " {56, 'a'},\n",
       " {'key': 'Value', 985: 'contact'}]"
      ]
     },
     "execution_count": 36,
     "metadata": {},
     "output_type": "execute_result"
    }
   ],
   "source": [
    "l"
   ]
  },
  {
   "cell_type": "code",
   "execution_count": 37,
   "id": "f30bb3fb",
   "metadata": {},
   "outputs": [
    {
     "ename": "IndexError",
     "evalue": "list assignment index out of range",
     "output_type": "error",
     "traceback": [
      "\u001b[1;31m---------------------------------------------------------------------------\u001b[0m",
      "\u001b[1;31mIndexError\u001b[0m                                Traceback (most recent call last)",
      "Input \u001b[1;32mIn [37]\u001b[0m, in \u001b[0;36m<cell line: 1>\u001b[1;34m()\u001b[0m\n\u001b[1;32m----> 1\u001b[0m l[\u001b[38;5;241m13\u001b[39m]\u001b[38;5;241m=\u001b[39m\u001b[38;5;124m\"\u001b[39m\u001b[38;5;124mnot\u001b[39m\u001b[38;5;124m\"\u001b[39m\n",
      "\u001b[1;31mIndexError\u001b[0m: list assignment index out of range"
     ]
    }
   ],
   "source": [
    "l[13]=\"not\"   # it shows error if index is not present"
   ]
  },
  {
   "cell_type": "code",
   "execution_count": 38,
   "id": "8174878e",
   "metadata": {},
   "outputs": [
    {
     "data": {
      "text/plain": [
       "[True,\n",
       " 'false',\n",
       " 100,\n",
       " 'not',\n",
       " (3+6j),\n",
       " (36, 13.5),\n",
       " [71, 2],\n",
       " {56, 'a'},\n",
       " {'key': 'Value', 985: 'contact'}]"
      ]
     },
     "execution_count": 38,
     "metadata": {},
     "output_type": "execute_result"
    }
   ],
   "source": [
    "l"
   ]
  },
  {
   "cell_type": "code",
   "execution_count": 39,
   "id": "978885c2",
   "metadata": {},
   "outputs": [
    {
     "ename": "IndexError",
     "evalue": "list assignment index out of range",
     "output_type": "error",
     "traceback": [
      "\u001b[1;31m---------------------------------------------------------------------------\u001b[0m",
      "\u001b[1;31mIndexError\u001b[0m                                Traceback (most recent call last)",
      "Input \u001b[1;32mIn [39]\u001b[0m, in \u001b[0;36m<cell line: 1>\u001b[1;34m()\u001b[0m\n\u001b[1;32m----> 1\u001b[0m l[\u001b[38;5;241m100\u001b[39m]\u001b[38;5;241m=\u001b[39m\u001b[38;5;241m202\u001b[39m \u001b[38;5;66;03m# # it shows error if index is not present\u001b[39;00m\n\u001b[0;32m      2\u001b[0m l\n",
      "\u001b[1;31mIndexError\u001b[0m: list assignment index out of range"
     ]
    }
   ],
   "source": [
    "l[100]=202 # # it shows error if index is not present\n",
    "l"
   ]
  },
  {
   "cell_type": "markdown",
   "id": "e92f724e",
   "metadata": {},
   "source": [
    "9. Insert Function to avoid error\n",
    "   does not gives error if index is out of range at least code does not stops running"
   ]
  },
  {
   "cell_type": "code",
   "execution_count": 40,
   "id": "bcc70809",
   "metadata": {},
   "outputs": [
    {
     "data": {
      "text/plain": [
       "[True,\n",
       " 'false',\n",
       " 972729,\n",
       " 100,\n",
       " 'not',\n",
       " (3+6j),\n",
       " (36, 13.5),\n",
       " [71, 2],\n",
       " {56, 'a'},\n",
       " {'key': 'Value', 985: 'contact'}]"
      ]
     },
     "execution_count": 40,
     "metadata": {},
     "output_type": "execute_result"
    }
   ],
   "source": [
    "l.insert(2,972729) #does not remove just insert and  l[3]=\"not\" add function \"not\" at 3 index\n",
    "l  "
   ]
  },
  {
   "cell_type": "code",
   "execution_count": 41,
   "id": "b2db5f62",
   "metadata": {},
   "outputs": [],
   "source": [
    "l.insert(200,\"lol\") # runs but does not show error"
   ]
  },
  {
   "cell_type": "markdown",
   "id": "1ceb964f",
   "metadata": {},
   "source": [
    "10. Count method to check an element is repeated how many times"
   ]
  },
  {
   "cell_type": "code",
   "execution_count": 42,
   "id": "0a87213c",
   "metadata": {},
   "outputs": [
    {
     "data": {
      "text/plain": [
       "3"
      ]
     },
     "execution_count": 42,
     "metadata": {},
     "output_type": "execute_result"
    }
   ],
   "source": [
    "a=[1,1,1,2,2.2,25.2,3.3,33.0,555,53,5,3.99,5,2.2]\n",
    "a.count(1)"
   ]
  },
  {
   "cell_type": "code",
   "execution_count": 43,
   "id": "550ca98e",
   "metadata": {},
   "outputs": [
    {
     "data": {
      "text/plain": [
       "0"
      ]
     },
     "execution_count": 43,
     "metadata": {},
     "output_type": "execute_result"
    }
   ],
   "source": [
    "a.count(100)"
   ]
  },
  {
   "cell_type": "markdown",
   "id": "3cb400c1",
   "metadata": {},
   "source": [
    "11.INDEX method To check element is at what index"
   ]
  },
  {
   "cell_type": "code",
   "execution_count": 44,
   "id": "93375711",
   "metadata": {},
   "outputs": [
    {
     "data": {
      "text/plain": [
       "[1, 1, 1, 2, 2.2, 25.2, 3.3, 33.0, 555, 53, 5, 3.99, 5, 2.2]"
      ]
     },
     "execution_count": 44,
     "metadata": {},
     "output_type": "execute_result"
    }
   ],
   "source": [
    "a"
   ]
  },
  {
   "cell_type": "code",
   "execution_count": 45,
   "id": "46763061",
   "metadata": {},
   "outputs": [
    {
     "ename": "ValueError",
     "evalue": "10 is not in list",
     "output_type": "error",
     "traceback": [
      "\u001b[1;31m---------------------------------------------------------------------------\u001b[0m",
      "\u001b[1;31mValueError\u001b[0m                                Traceback (most recent call last)",
      "Input \u001b[1;32mIn [45]\u001b[0m, in \u001b[0;36m<cell line: 1>\u001b[1;34m()\u001b[0m\n\u001b[1;32m----> 1\u001b[0m \u001b[43ma\u001b[49m\u001b[38;5;241;43m.\u001b[39;49m\u001b[43mindex\u001b[49m\u001b[43m(\u001b[49m\u001b[38;5;241;43m10\u001b[39;49m\u001b[43m)\u001b[49m\n",
      "\u001b[1;31mValueError\u001b[0m: 10 is not in list"
     ]
    }
   ],
   "source": [
    "a.index(10)"
   ]
  },
  {
   "cell_type": "code",
   "execution_count": 46,
   "id": "bcc65ba0",
   "metadata": {},
   "outputs": [
    {
     "data": {
      "text/plain": [
       "0"
      ]
     },
     "execution_count": 46,
     "metadata": {},
     "output_type": "execute_result"
    }
   ],
   "source": [
    "a.index(1)"
   ]
  },
  {
   "cell_type": "code",
   "execution_count": 47,
   "id": "f0bcb851",
   "metadata": {},
   "outputs": [
    {
     "data": {
      "text/plain": [
       "6"
      ]
     },
     "execution_count": 47,
     "metadata": {},
     "output_type": "execute_result"
    }
   ],
   "source": [
    "a.index(3.3)"
   ]
  },
  {
   "cell_type": "markdown",
   "id": "4c79e64a",
   "metadata": {},
   "source": [
    "11. APPEND function\n",
    "add element at the last of list\n",
    "only one element can be added at a time."
   ]
  },
  {
   "cell_type": "code",
   "execution_count": 48,
   "id": "f77e1273",
   "metadata": {},
   "outputs": [
    {
     "data": {
      "text/plain": [
       "[1.2, 8, True, 'komal', 10, 11, 15, 18, 199, 202020]"
      ]
     },
     "execution_count": 48,
     "metadata": {},
     "output_type": "execute_result"
    }
   ],
   "source": [
    "l=[1.2,8,True,\"komal\",10,11,15,18,199,202020]\n",
    "l"
   ]
  },
  {
   "cell_type": "code",
   "execution_count": 49,
   "id": "c16e3b2c",
   "metadata": {},
   "outputs": [
    {
     "data": {
      "text/plain": [
       "[1.2, 8, True, 'komal', 10, 11, 15, 18, 199, 202020, 33.33]"
      ]
     },
     "execution_count": 49,
     "metadata": {},
     "output_type": "execute_result"
    }
   ],
   "source": [
    "l.append(33.33)\n",
    "l"
   ]
  },
  {
   "cell_type": "code",
   "execution_count": 50,
   "id": "922daadf",
   "metadata": {},
   "outputs": [],
   "source": [
    "l.append(\"python\")"
   ]
  },
  {
   "cell_type": "code",
   "execution_count": 52,
   "id": "d760c2cd",
   "metadata": {},
   "outputs": [
    {
     "data": {
      "text/plain": [
       "[1.2, 8, True, 'komal', 10, 11, 15, 18, 199, 202020, 33.33, 'python']"
      ]
     },
     "execution_count": 52,
     "metadata": {},
     "output_type": "execute_result"
    }
   ],
   "source": [
    "l # added at the last"
   ]
  },
  {
   "cell_type": "code",
   "execution_count": 53,
   "id": "3e96de36",
   "metadata": {},
   "outputs": [
    {
     "data": {
      "text/plain": [
       "[1.2,\n",
       " 8,\n",
       " True,\n",
       " 'komal',\n",
       " 10,\n",
       " 11,\n",
       " 15,\n",
       " 18,\n",
       " 199,\n",
       " 202020,\n",
       " 33.33,\n",
       " 'python',\n",
       " [202, True, 'PYHTON', 2.3356]]"
      ]
     },
     "execution_count": 53,
     "metadata": {},
     "output_type": "execute_result"
    }
   ],
   "source": [
    "l1=[202,True,'PYHTON',2.3356] # append list into list\n",
    "l.append(l1)\n",
    "l"
   ]
  },
  {
   "cell_type": "markdown",
   "id": "3afc5ecb",
   "metadata": {},
   "source": [
    "12. EXTEND function of list\n",
    "    as append add element with [square brackets] and extend add each element seperatly and extend   \n",
    "    takes only one arguement"
   ]
  },
  {
   "cell_type": "code",
   "execution_count": 54,
   "id": "45205893",
   "metadata": {},
   "outputs": [],
   "source": [
    "m=[1.2,2323,True,\"python\"]\n",
    "m.extend(\"ABCD\")  # extend string"
   ]
  },
  {
   "cell_type": "code",
   "execution_count": 55,
   "id": "2194336f",
   "metadata": {},
   "outputs": [
    {
     "data": {
      "text/plain": [
       "[1.2, 2323, True, 'python', 'A', 'B', 'C', 'D']"
      ]
     },
     "execution_count": 55,
     "metadata": {},
     "output_type": "execute_result"
    }
   ],
   "source": [
    "m"
   ]
  },
  {
   "cell_type": "code",
   "execution_count": 56,
   "id": "cbbc7438",
   "metadata": {},
   "outputs": [],
   "source": [
    "n=[12,26,\"NKSD\"]\n",
    "n.extend(m)"
   ]
  },
  {
   "cell_type": "code",
   "execution_count": 57,
   "id": "9912b1d8",
   "metadata": {},
   "outputs": [
    {
     "data": {
      "text/plain": [
       "[12, 26, 'NKSD', 1.2, 2323, True, 'python', 'A', 'B', 'C', 'D']"
      ]
     },
     "execution_count": 57,
     "metadata": {},
     "output_type": "execute_result"
    }
   ],
   "source": [
    "n"
   ]
  },
  {
   "cell_type": "code",
   "execution_count": 58,
   "id": "d9e268d6",
   "metadata": {},
   "outputs": [
    {
     "data": {
      "text/plain": [
       "[12, 26, 'NKSD', 1.2, 2323, True, 'python', 'A', 'B', 'C', 'D', 'komal']"
      ]
     },
     "execution_count": 58,
     "metadata": {},
     "output_type": "execute_result"
    }
   ],
   "source": [
    "n.append(\"komal\") # look how komal is added \n",
    "n"
   ]
  },
  {
   "cell_type": "code",
   "execution_count": 59,
   "id": "7c36fbcf",
   "metadata": {},
   "outputs": [
    {
     "data": {
      "text/plain": [
       "[12,\n",
       " 26,\n",
       " 'NKSD',\n",
       " 1.2,\n",
       " 2323,\n",
       " True,\n",
       " 'python',\n",
       " 'A',\n",
       " 'B',\n",
       " 'C',\n",
       " 'D',\n",
       " 'komal',\n",
       " 'k',\n",
       " 'o',\n",
       " 'm',\n",
       " 'a',\n",
       " 'l']"
      ]
     },
     "execution_count": 59,
     "metadata": {},
     "output_type": "execute_result"
    }
   ],
   "source": [
    "n.extend(\"komal\") #look how komal is added k o m a l \n",
    "n"
   ]
  },
  {
   "cell_type": "code",
   "execution_count": 60,
   "id": "7dafe617",
   "metadata": {},
   "outputs": [
    {
     "data": {
      "text/plain": [
       "[1.2, 2323, True, 'python', 'A', 'B', 'C', 'D']"
      ]
     },
     "execution_count": 60,
     "metadata": {},
     "output_type": "execute_result"
    }
   ],
   "source": [
    "m"
   ]
  },
  {
   "cell_type": "code",
   "execution_count": 61,
   "id": "6132c55c",
   "metadata": {},
   "outputs": [],
   "source": [
    "w=[1.2,\"loll\"]\n",
    "m.append(w)"
   ]
  },
  {
   "cell_type": "code",
   "execution_count": 62,
   "id": "2fc95065",
   "metadata": {},
   "outputs": [
    {
     "data": {
      "text/plain": [
       "[1.2, 2323, True, 'python', 'A', 'B', 'C', 'D', [1.2, 'loll']]"
      ]
     },
     "execution_count": 62,
     "metadata": {},
     "output_type": "execute_result"
    }
   ],
   "source": [
    "m  #With brackets"
   ]
  },
  {
   "cell_type": "code",
   "execution_count": 65,
   "id": "cc57c639",
   "metadata": {},
   "outputs": [
    {
     "data": {
      "text/plain": [
       "[1.2,\n",
       " 2323,\n",
       " True,\n",
       " 'python',\n",
       " 'A',\n",
       " 'B',\n",
       " 'C',\n",
       " 'D',\n",
       " [1.2, 'loll'],\n",
       " 1.2,\n",
       " 'loll',\n",
       " 'a',\n",
       " 44,\n",
       " 'a',\n",
       " 44]"
      ]
     },
     "execution_count": 65,
     "metadata": {},
     "output_type": "execute_result"
    }
   ],
   "source": [
    "a=['a',44]\n",
    "m.extend(a)  # without brakets\n",
    "m"
   ]
  },
  {
   "cell_type": "markdown",
   "id": "563aa9fb",
   "metadata": {},
   "source": [
    "13. POP function\n",
    "    pop function in list removes  last element by default.\n",
    "    pop function in set removes first function by default as set is a data type which do not have have     indexing.. automatically removes first element "
   ]
  },
  {
   "cell_type": "code",
   "execution_count": 71,
   "id": "a249b937",
   "metadata": {},
   "outputs": [],
   "source": [
    "m1=[15,'shf',3+6j,\"python\",True,\"hellow\"]"
   ]
  },
  {
   "cell_type": "code",
   "execution_count": 72,
   "id": "07c83f16",
   "metadata": {},
   "outputs": [
    {
     "data": {
      "text/plain": [
       "[15, 'shf', (3+6j), 'python', True]"
      ]
     },
     "execution_count": 72,
     "metadata": {},
     "output_type": "execute_result"
    }
   ],
   "source": [
    "m1.pop()\n",
    "m1"
   ]
  },
  {
   "cell_type": "markdown",
   "id": "d110ec85",
   "metadata": {},
   "source": [
    "14.REMOVE function as this removes what user coders wanted\n",
    "as pop removes default(last)\n"
   ]
  },
  {
   "cell_type": "code",
   "execution_count": 73,
   "id": "cc075586",
   "metadata": {},
   "outputs": [
    {
     "data": {
      "text/plain": [
       "[15, 'shf', (3+6j), 'python', True]"
      ]
     },
     "execution_count": 73,
     "metadata": {},
     "output_type": "execute_result"
    }
   ],
   "source": [
    "m1"
   ]
  },
  {
   "cell_type": "code",
   "execution_count": 75,
   "id": "d4a0b052",
   "metadata": {},
   "outputs": [
    {
     "data": {
      "text/plain": [
       "['shf', (3+6j), 'python', True]"
      ]
     },
     "execution_count": 75,
     "metadata": {},
     "output_type": "execute_result"
    }
   ],
   "source": [
    "m1.remove(15)\n",
    "m1"
   ]
  },
  {
   "cell_type": "code",
   "execution_count": 76,
   "id": "41c71a03",
   "metadata": {},
   "outputs": [
    {
     "ename": "ValueError",
     "evalue": "list.remove(x): x not in list",
     "output_type": "error",
     "traceback": [
      "\u001b[1;31m---------------------------------------------------------------------------\u001b[0m",
      "\u001b[1;31mValueError\u001b[0m                                Traceback (most recent call last)",
      "Input \u001b[1;32mIn [76]\u001b[0m, in \u001b[0;36m<cell line: 1>\u001b[1;34m()\u001b[0m\n\u001b[1;32m----> 1\u001b[0m \u001b[43mm1\u001b[49m\u001b[38;5;241;43m.\u001b[39;49m\u001b[43mremove\u001b[49m\u001b[43m(\u001b[49m\u001b[38;5;124;43m'\u001b[39;49m\u001b[38;5;124;43mlol\u001b[39;49m\u001b[38;5;124;43m'\u001b[39;49m\u001b[43m)\u001b[49m\n\u001b[0;32m      2\u001b[0m m1\n",
      "\u001b[1;31mValueError\u001b[0m: list.remove(x): x not in list"
     ]
    }
   ],
   "source": [
    "m1.remove('lol')\n",
    "m1  # error when element is not present"
   ]
  },
  {
   "cell_type": "markdown",
   "id": "f7ae4ed7",
   "metadata": {},
   "source": [
    "15. To remove element index wise"
   ]
  },
  {
   "cell_type": "code",
   "execution_count": 79,
   "id": "458af106",
   "metadata": {},
   "outputs": [
    {
     "data": {
      "text/plain": [
       "['shf', (3+6j), 'python', True]"
      ]
     },
     "execution_count": 79,
     "metadata": {},
     "output_type": "execute_result"
    }
   ],
   "source": [
    "m1"
   ]
  },
  {
   "cell_type": "code",
   "execution_count": 80,
   "id": "2f30957a",
   "metadata": {},
   "outputs": [
    {
     "data": {
      "text/plain": [
       "['shf', (3+6j), True]"
      ]
     },
     "execution_count": 80,
     "metadata": {},
     "output_type": "execute_result"
    }
   ],
   "source": [
    "del m1[2]  #removes index 5th value\n",
    "m1"
   ]
  },
  {
   "cell_type": "markdown",
   "id": "c2d13e52",
   "metadata": {},
   "source": [
    "16.REVERSE method in list"
   ]
  },
  {
   "cell_type": "code",
   "execution_count": 82,
   "id": "9269e046",
   "metadata": {},
   "outputs": [
    {
     "data": {
      "text/plain": [
       "['a', 44]"
      ]
     },
     "execution_count": 82,
     "metadata": {},
     "output_type": "execute_result"
    }
   ],
   "source": [
    "a"
   ]
  },
  {
   "cell_type": "code",
   "execution_count": 83,
   "id": "31f19406",
   "metadata": {},
   "outputs": [
    {
     "data": {
      "text/plain": [
       "[44, 'a']"
      ]
     },
     "execution_count": 83,
     "metadata": {},
     "output_type": "execute_result"
    }
   ],
   "source": [
    "a.reverse()\n",
    "a"
   ]
  },
  {
   "cell_type": "markdown",
   "id": "6fe6f470",
   "metadata": {},
   "source": [
    "14.SORT method function   \n",
    "int and string cant be compared together thats why error occurs"
   ]
  },
  {
   "cell_type": "code",
   "execution_count": 84,
   "id": "1d183fe1",
   "metadata": {},
   "outputs": [],
   "source": [
    "n=[33,53,26.94,25.1,1.1,98,102]"
   ]
  },
  {
   "cell_type": "code",
   "execution_count": 85,
   "id": "fd563e19",
   "metadata": {},
   "outputs": [
    {
     "data": {
      "text/plain": [
       "[1.1, 25.1, 26.94, 33, 53, 98, 102]"
      ]
     },
     "execution_count": 85,
     "metadata": {},
     "output_type": "execute_result"
    }
   ],
   "source": [
    "n.sort()\n",
    "n   # int and string cant be compared together thats why error"
   ]
  },
  {
   "cell_type": "code",
   "execution_count": 86,
   "id": "2ea59f6e",
   "metadata": {},
   "outputs": [],
   "source": [
    "y=['lol','n','mommy','highway','aaa']\n",
    "y.sort()"
   ]
  },
  {
   "cell_type": "code",
   "execution_count": 87,
   "id": "5d91451d",
   "metadata": {},
   "outputs": [
    {
     "data": {
      "text/plain": [
       "['aaa', 'highway', 'lol', 'mommy', 'n']"
      ]
     },
     "execution_count": 87,
     "metadata": {},
     "output_type": "execute_result"
    }
   ],
   "source": [
    "y"
   ]
  },
  {
   "cell_type": "code",
   "execution_count": 88,
   "id": "a0b3e1a2",
   "metadata": {},
   "outputs": [
    {
     "data": {
      "text/plain": [
       "['n', 'mommy', 'lol', 'highway', 'aaa']"
      ]
     },
     "execution_count": 88,
     "metadata": {},
     "output_type": "execute_result"
    }
   ],
   "source": [
    "y.sort(reverse=True)\n",
    "y"
   ]
  },
  {
   "cell_type": "code",
   "execution_count": 89,
   "id": "98fdb569",
   "metadata": {},
   "outputs": [],
   "source": [
    "a=y.copy()"
   ]
  },
  {
   "cell_type": "code",
   "execution_count": 91,
   "id": "3c9434d8",
   "metadata": {},
   "outputs": [
    {
     "data": {
      "text/plain": [
       "['n', 'mommy', 'lol', 'highway', 'aaa']"
      ]
     },
     "execution_count": 91,
     "metadata": {},
     "output_type": "execute_result"
    }
   ],
   "source": [
    "a"
   ]
  },
  {
   "cell_type": "code",
   "execution_count": 92,
   "id": "1d418baf",
   "metadata": {},
   "outputs": [
    {
     "data": {
      "text/plain": [
       "['n', 'mommy', 'lol', 'highway', 'aaa', 'n', 'mommy', 'lol', 'highway', 'aaa']"
      ]
     },
     "execution_count": 92,
     "metadata": {},
     "output_type": "execute_result"
    }
   ],
   "source": [
    "a*2"
   ]
  },
  {
   "cell_type": "markdown",
   "id": "78850dec",
   "metadata": {},
   "source": [
    "###  IMPORTANT  INDEXING in nested list"
   ]
  },
  {
   "cell_type": "code",
   "execution_count": 93,
   "id": "216669b7",
   "metadata": {},
   "outputs": [],
   "source": [
    "a=[1,8,66]\n",
    "b=[56,7,63]\n",
    "c=[90,21,1]"
   ]
  },
  {
   "cell_type": "code",
   "execution_count": 94,
   "id": "1bc32bab",
   "metadata": {},
   "outputs": [
    {
     "data": {
      "text/plain": [
       "[[1, 8, 66], [56, 7, 63], [90, 21, 1]]"
      ]
     },
     "execution_count": 94,
     "metadata": {},
     "output_type": "execute_result"
    }
   ],
   "source": [
    "d=[a,b,c]\n",
    "d"
   ]
  },
  {
   "cell_type": "code",
   "execution_count": 95,
   "id": "12c5ba06",
   "metadata": {},
   "outputs": [
    {
     "data": {
      "text/plain": [
       "1"
      ]
     },
     "execution_count": 95,
     "metadata": {},
     "output_type": "execute_result"
    }
   ],
   "source": [
    "c[2]"
   ]
  },
  {
   "cell_type": "code",
   "execution_count": 96,
   "id": "f82f0c30",
   "metadata": {},
   "outputs": [
    {
     "data": {
      "text/plain": [
       "8"
      ]
     },
     "execution_count": 96,
     "metadata": {},
     "output_type": "execute_result"
    }
   ],
   "source": [
    "a[1]"
   ]
  },
  {
   "cell_type": "code",
   "execution_count": 97,
   "id": "68b569b7",
   "metadata": {},
   "outputs": [
    {
     "data": {
      "text/plain": [
       "56"
      ]
     },
     "execution_count": 97,
     "metadata": {},
     "output_type": "execute_result"
    }
   ],
   "source": [
    "b[0]  # at what index 1 is 56"
   ]
  },
  {
   "cell_type": "markdown",
   "id": "8bc73cfd",
   "metadata": {},
   "source": [
    "Question get value at index 6 from list d"
   ]
  },
  {
   "cell_type": "code",
   "execution_count": 98,
   "id": "b3f707fa",
   "metadata": {},
   "outputs": [
    {
     "data": {
      "text/plain": [
       "[[1, 8, 66], [56, 7, 63], [90, 21, 1]]"
      ]
     },
     "execution_count": 98,
     "metadata": {},
     "output_type": "execute_result"
    }
   ],
   "source": [
    "d    # nested list list into list"
   ]
  },
  {
   "cell_type": "code",
   "execution_count": 99,
   "id": "28379632",
   "metadata": {},
   "outputs": [
    {
     "data": {
      "text/plain": [
       "63"
      ]
     },
     "execution_count": 99,
     "metadata": {},
     "output_type": "execute_result"
    }
   ],
   "source": [
    "d[1][2] "
   ]
  },
  {
   "cell_type": "code",
   "execution_count": 100,
   "id": "d37f359e",
   "metadata": {},
   "outputs": [
    {
     "data": {
      "text/plain": [
       "21"
      ]
     },
     "execution_count": 100,
     "metadata": {},
     "output_type": "execute_result"
    }
   ],
   "source": [
    "d[2][1] # list d in of index 2 at index 1"
   ]
  },
  {
   "cell_type": "code",
   "execution_count": 101,
   "id": "4c15be00",
   "metadata": {},
   "outputs": [
    {
     "data": {
      "text/plain": [
       "[1, 8, 66]"
      ]
     },
     "execution_count": 101,
     "metadata": {},
     "output_type": "execute_result"
    }
   ],
   "source": [
    "d[0] #at index 0 "
   ]
  },
  {
   "cell_type": "code",
   "execution_count": 102,
   "id": "ad6bc3b6",
   "metadata": {},
   "outputs": [
    {
     "data": {
      "text/plain": [
       "[56, 7, 63]"
      ]
     },
     "execution_count": 102,
     "metadata": {},
     "output_type": "execute_result"
    }
   ],
   "source": [
    "d[1] #at index 1"
   ]
  },
  {
   "cell_type": "code",
   "execution_count": 103,
   "id": "734975c3",
   "metadata": {},
   "outputs": [
    {
     "data": {
      "text/plain": [
       "[90, 21, 1]"
      ]
     },
     "execution_count": 103,
     "metadata": {},
     "output_type": "execute_result"
    }
   ],
   "source": [
    "d[2] #at index 2"
   ]
  },
  {
   "cell_type": "markdown",
   "id": "6aeb7af8",
   "metadata": {},
   "source": [
    "TRY question find 7 value index"
   ]
  },
  {
   "cell_type": "code",
   "execution_count": 104,
   "id": "24d02b4d",
   "metadata": {},
   "outputs": [],
   "source": [
    "t=[[1, 8, 66], [501,12,[56, 7, 63]], [200, 201, 1]]"
   ]
  },
  {
   "cell_type": "code",
   "execution_count": 108,
   "id": "1afcc687",
   "metadata": {},
   "outputs": [
    {
     "data": {
      "text/plain": [
       "[501, 12, [56, 7, 63]]"
      ]
     },
     "execution_count": 108,
     "metadata": {},
     "output_type": "execute_result"
    }
   ],
   "source": [
    "t[1]"
   ]
  },
  {
   "cell_type": "code",
   "execution_count": 109,
   "id": "4cd00306",
   "metadata": {},
   "outputs": [
    {
     "data": {
      "text/plain": [
       "[56, 7, 63]"
      ]
     },
     "execution_count": 109,
     "metadata": {},
     "output_type": "execute_result"
    }
   ],
   "source": [
    "t[1][2]"
   ]
  },
  {
   "cell_type": "code",
   "execution_count": 110,
   "id": "36191b14",
   "metadata": {},
   "outputs": [
    {
     "data": {
      "text/plain": [
       "7"
      ]
     },
     "execution_count": 110,
     "metadata": {},
     "output_type": "execute_result"
    }
   ],
   "source": [
    "t[1][2][1]"
   ]
  }
 ],
 "metadata": {
  "kernelspec": {
   "display_name": "Python 3 (ipykernel)",
   "language": "python",
   "name": "python3"
  },
  "language_info": {
   "codemirror_mode": {
    "name": "ipython",
    "version": 3
   },
   "file_extension": ".py",
   "mimetype": "text/x-python",
   "name": "python",
   "nbconvert_exporter": "python",
   "pygments_lexer": "ipython3",
   "version": "3.9.12"
  }
 },
 "nbformat": 4,
 "nbformat_minor": 5
}
