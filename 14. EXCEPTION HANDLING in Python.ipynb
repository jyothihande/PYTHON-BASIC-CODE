{
 "cells": [
  {
   "cell_type": "code",
   "execution_count": null,
   "id": "382b138c",
   "metadata": {},
   "outputs": [],
   "source": [
    "EXCEPTION HANDLING\n",
    "dealing with each error without stopping code/project by converting error into output\n",
    "so later can be fixed   FOR EXAMPLE :"
   ]
  },
  {
   "cell_type": "code",
   "execution_count": 1,
   "id": "b3219ef3",
   "metadata": {},
   "outputs": [
    {
     "data": {
      "text/plain": [
       "2.5"
      ]
     },
     "execution_count": 1,
     "metadata": {},
     "output_type": "execute_result"
    }
   ],
   "source": [
    "a=5\n",
    "b=2\n",
    "a/b"
   ]
  },
  {
   "cell_type": "code",
   "execution_count": 2,
   "id": "2fc5efe3",
   "metadata": {},
   "outputs": [
    {
     "ename": "ZeroDivisionError",
     "evalue": "division by zero",
     "output_type": "error",
     "traceback": [
      "\u001b[1;31m---------------------------------------------------------------------------\u001b[0m",
      "\u001b[1;31mZeroDivisionError\u001b[0m                         Traceback (most recent call last)",
      "Input \u001b[1;32mIn [2]\u001b[0m, in \u001b[0;36m<cell line: 3>\u001b[1;34m()\u001b[0m\n\u001b[0;32m      1\u001b[0m a\u001b[38;5;241m=\u001b[39m\u001b[38;5;241m15\u001b[39m\n\u001b[0;32m      2\u001b[0m b\u001b[38;5;241m=\u001b[39m\u001b[38;5;241m0\u001b[39m\n\u001b[1;32m----> 3\u001b[0m \u001b[43ma\u001b[49m\u001b[38;5;241;43m/\u001b[39;49m\u001b[43mb\u001b[49m\n",
      "\u001b[1;31mZeroDivisionError\u001b[0m: division by zero"
     ]
    }
   ],
   "source": [
    "a=15\n",
    "b=0\n",
    "a/b"
   ]
  },
  {
   "cell_type": "code",
   "execution_count": null,
   "id": "9fc606bd",
   "metadata": {},
   "outputs": [],
   "source": [
    "HOW TO AVOID ERROR:\n",
    "try,except,finally used and does not give error"
   ]
  },
  {
   "cell_type": "code",
   "execution_count": 3,
   "id": "a67e3161",
   "metadata": {},
   "outputs": [
    {
     "name": "stdout",
     "output_type": "stream",
     "text": [
      "2.0833333333333335\n"
     ]
    }
   ],
   "source": [
    "a=25\n",
    "b=12\n",
    "try:\n",
    "    print(a/b)\n",
    "except:\n",
    "    print(\"Number cant be divided by zero\")\n"
   ]
  },
  {
   "cell_type": "code",
   "execution_count": 4,
   "id": "dab6d8fa",
   "metadata": {},
   "outputs": [
    {
     "name": "stdout",
     "output_type": "stream",
     "text": [
      "Number cant be divided by zero\n"
     ]
    }
   ],
   "source": [
    "a=25\n",
    "b=0\n",
    "try:\n",
    "    print(a/b)\n",
    "except:\n",
    "    print(\"Number cant be divided by zero\")\n"
   ]
  },
  {
   "cell_type": "code",
   "execution_count": 5,
   "id": "9c60ec4d",
   "metadata": {},
   "outputs": [
    {
     "name": "stdout",
     "output_type": "stream",
     "text": [
      "2.0\n"
     ]
    }
   ],
   "source": [
    "a=24\n",
    "b=12\n",
    "try:\n",
    "    print(a/b)\n",
    "except: # stored at backend\n",
    "    print(\"Number cant be divided by zero\")\n"
   ]
  },
  {
   "cell_type": "code",
   "execution_count": 6,
   "id": "73d0fec9",
   "metadata": {},
   "outputs": [
    {
     "name": "stdout",
     "output_type": "stream",
     "text": [
      "division by zero\n"
     ]
    }
   ],
   "source": [
    "a=24\n",
    "b=0  # do not give error and project do not stop\n",
    "try:\n",
    "    print(a/b)\n",
    "except Exception as e:\n",
    "    print(e)\n"
   ]
  },
  {
   "cell_type": "code",
   "execution_count": null,
   "id": "f270600c",
   "metadata": {},
   "outputs": [],
   "source": [
    "-- How to avoid error example:"
   ]
  },
  {
   "cell_type": "code",
   "execution_count": 7,
   "id": "4d834714",
   "metadata": {},
   "outputs": [],
   "source": [
    "f=open('abc.txt','w')\n",
    "f.write(\"wel come coders...\")\n",
    "f.close()"
   ]
  },
  {
   "cell_type": "code",
   "execution_count": 8,
   "id": "3b27644d",
   "metadata": {},
   "outputs": [
    {
     "ename": "ValueError",
     "evalue": "I/O operation on closed file.",
     "output_type": "error",
     "traceback": [
      "\u001b[1;31m---------------------------------------------------------------------------\u001b[0m",
      "\u001b[1;31mValueError\u001b[0m                                Traceback (most recent call last)",
      "Input \u001b[1;32mIn [8]\u001b[0m, in \u001b[0;36m<cell line: 1>\u001b[1;34m()\u001b[0m\n\u001b[1;32m----> 1\u001b[0m \u001b[43mf\u001b[49m\u001b[38;5;241;43m.\u001b[39;49m\u001b[43mwrite\u001b[49m\u001b[43m(\u001b[49m\u001b[38;5;124;43m\"\u001b[39;49m\u001b[38;5;124;43mbye tata\u001b[39;49m\u001b[38;5;124;43m\"\u001b[39;49m\u001b[43m)\u001b[49m\n",
      "\u001b[1;31mValueError\u001b[0m: I/O operation on closed file."
     ]
    }
   ],
   "source": [
    "f.write(\"bye tata\")"
   ]
  },
  {
   "cell_type": "code",
   "execution_count": null,
   "id": "32b4203f",
   "metadata": {},
   "outputs": [],
   "source": [
    "== so use try- except to avoid error and stop project."
   ]
  },
  {
   "cell_type": "code",
   "execution_count": 9,
   "id": "a4c43579",
   "metadata": {},
   "outputs": [
    {
     "name": "stdout",
     "output_type": "stream",
     "text": [
      "I/O operation on closed file.\n"
     ]
    }
   ],
   "source": [
    "try :\n",
    "    f.write(\"bye tata\")\n",
    "except Exception as e:\n",
    "    print(e)  "
   ]
  },
  {
   "cell_type": "code",
   "execution_count": 10,
   "id": "adb3e3e9",
   "metadata": {},
   "outputs": [
    {
     "name": "stdout",
     "output_type": "stream",
     "text": [
      "file is updated\n",
      "task is complete\n"
     ]
    }
   ],
   "source": [
    "try :\n",
    "    f=open('abc.txt','w')\n",
    "    f.write(\"\\n bye tata\")\n",
    "    print(\"file is updated\")\n",
    "except Exception as e:\n",
    "    print(e)\n",
    "finally:\n",
    "    print(\"task is complete\")"
   ]
  },
  {
   "cell_type": "code",
   "execution_count": 11,
   "id": "b9fbaaab",
   "metadata": {},
   "outputs": [
    {
     "data": {
      "text/plain": [
       "20"
      ]
     },
     "execution_count": 11,
     "metadata": {},
     "output_type": "execute_result"
    }
   ],
   "source": [
    "f=open('abc.txt','a')\n",
    "f.write(\" bye tata\\n\")\n",
    "f.write(\"\\n wel come coders...\")"
   ]
  },
  {
   "cell_type": "code",
   "execution_count": 12,
   "id": "aae0c470",
   "metadata": {},
   "outputs": [
    {
     "name": "stdout",
     "output_type": "stream",
     "text": [
      "enter your age =23\n",
      "your age is  23\n",
      "code is complete\n"
     ]
    }
   ],
   "source": [
    "num=int(input(\"enter your age =\"))\n",
    "try:        \n",
    "    if int()<=100:\n",
    "        print(\"your age is \",num)\n",
    "except:\n",
    "        print(\"please enter valid age\")\n",
    "finally:\n",
    "    print(\"code is complete\")"
   ]
  },
  {
   "cell_type": "code",
   "execution_count": null,
   "id": "4e581cb2",
   "metadata": {},
   "outputs": [],
   "source": [
    "--- NESTED TRY EXCEPT"
   ]
  },
  {
   "cell_type": "code",
   "execution_count": 13,
   "id": "d6171c00",
   "metadata": {},
   "outputs": [
    {
     "name": "stdout",
     "output_type": "stream",
     "text": [
      "12.0\n",
      "a/b =  12.0\n",
      "48\n",
      "a*b =  48\n"
     ]
    }
   ],
   "source": [
    "a=24\n",
    "b=2 # do not give error and project do not stop\n",
    "try:\n",
    "    print(a/b)\n",
    "    print(\"a/b = \",a/b)\n",
    "    try: \n",
    "        print(a*b)\n",
    "        print(\"a*b = \",a*b)\n",
    "    except:\n",
    "        print(\"invalid\")\n",
    "except Exception as e:\n",
    "    print(e)\n"
   ]
  },
  {
   "cell_type": "code",
   "execution_count": 14,
   "id": "e7ca9650",
   "metadata": {},
   "outputs": [
    {
     "name": "stdout",
     "output_type": "stream",
     "text": [
      "enter your age =25\n",
      "your age is  25\n",
      "code is complete\n"
     ]
    }
   ],
   "source": [
    "try:        \n",
    "        num=int(input(\"enter your age =\"))\n",
    "        print(\"your age is \",num)\n",
    "except:\n",
    "        print(\"please enter valid age\")\n",
    "        try:\n",
    "            num=int(input(\"enter your age =\"))\n",
    "            print(\"your age is \",num)\n",
    "        except:\n",
    "            print(\"2 attempts failed\")\n",
    "finally:\n",
    "    print(\"code is complete\")"
   ]
  },
  {
   "cell_type": "code",
   "execution_count": 15,
   "id": "02520132",
   "metadata": {},
   "outputs": [
    {
     "name": "stdout",
     "output_type": "stream",
     "text": [
      "enter your age =24\n",
      "your age is  24\n",
      "code is complete\n"
     ]
    }
   ],
   "source": [
    "try:        \n",
    "        num=int(input(\"enter your age =\"))\n",
    "        print(\"your age is \",num)\n",
    "except:\n",
    "        print(\"please enter valid age\")\n",
    "        try:\n",
    "            num=int(input(\"enter your age =\"))\n",
    "            print(\"your age is \",num)\n",
    "        except:\n",
    "            print(\"2 attempts failed\")\n",
    "finally:\n",
    "    print(\"code is complete\")"
   ]
  },
  {
   "cell_type": "code",
   "execution_count": null,
   "id": "40bade98",
   "metadata": {},
   "outputs": [],
   "source": [
    "--- USE of while true:\n",
    "use of pass break continue"
   ]
  },
  {
   "cell_type": "code",
   "execution_count": 16,
   "id": "50de61e8",
   "metadata": {},
   "outputs": [
    {
     "name": "stdout",
     "output_type": "stream",
     "text": [
      "enter your age =36\n",
      "your age is  36\n"
     ]
    }
   ],
   "source": [
    "while True:\n",
    "    try:        \n",
    "        num=int(input(\"enter your age =\"))\n",
    "        print(\"your age is \",num)\n",
    "        break\n",
    "    except:\n",
    "        print(\"please  enter valid integer\")\n",
    "        continue"
   ]
  },
  {
   "cell_type": "code",
   "execution_count": 17,
   "id": "0a9c6c2f",
   "metadata": {},
   "outputs": [
    {
     "name": "stdout",
     "output_type": "stream",
     "text": [
      "enter your age =48\n",
      "your age is  48\n"
     ]
    }
   ],
   "source": [
    "while True:\n",
    "    try:        \n",
    "        num=int(input(\"enter your age =\"))\n",
    "        print(\"your age is \",num)\n",
    "        break\n",
    "    except:\n",
    "        print(\"please  enter valid integer\")\n",
    "        continue"
   ]
  },
  {
   "cell_type": "code",
   "execution_count": null,
   "id": "aadc6465",
   "metadata": {},
   "outputs": [
    {
     "name": "stdout",
     "output_type": "stream",
     "text": [
      "enter your age =352\n",
      "your age is  352\n",
      "enter your age =4\n",
      "your age is  4\n",
      "enter your age =1\n",
      "your age is  1\n",
      "please  enter valid integer\n"
     ]
    }
   ],
   "source": [
    "while True:\n",
    "    try:        \n",
    "        num=int(input(\"enter your age =\"))\n",
    "        print(\"your age is \",num)\n",
    "        pass\n",
    "    except:\n",
    "        print(\"please  enter valid integer\")\n",
    "        continue"
   ]
  },
  {
   "cell_type": "code",
   "execution_count": null,
   "id": "dfaa08f0",
   "metadata": {},
   "outputs": [],
   "source": [
    "--- any method can be tried with try except method:"
   ]
  },
  {
   "cell_type": "code",
   "execution_count": 1,
   "id": "59b46c1c",
   "metadata": {},
   "outputs": [
    {
     "name": "stdout",
     "output_type": "stream",
     "text": [
      "<class 'str'>\n"
     ]
    }
   ],
   "source": [
    "s='python learing is easy'\n",
    "try:\n",
    "    print(type(s))\n",
    "except Exception as e:\n",
    "    print(e)"
   ]
  },
  {
   "cell_type": "code",
   "execution_count": 2,
   "id": "9836d3d8",
   "metadata": {},
   "outputs": [
    {
     "name": "stdout",
     "output_type": "stream",
     "text": [
      "name 'k' is not defined\n"
     ]
    }
   ],
   "source": [
    "s='python learing is easy'\n",
    "try:\n",
    "    print(type(k))\n",
    "except Exception as e:\n",
    "    print(e)"
   ]
  },
  {
   "cell_type": "code",
   "execution_count": 3,
   "id": "bb2f72a0",
   "metadata": {},
   "outputs": [
    {
     "name": "stdout",
     "output_type": "stream",
     "text": [
      "22\n",
      "PYTHON LEARING IS EASY\n",
      "False\n"
     ]
    }
   ],
   "source": [
    "s='python learing is easy'\n",
    "try:\n",
    "    print(len(s))\n",
    "    try:\n",
    "        print(s.upper())\n",
    "        try:\n",
    "            print(s.isalnum())\n",
    "    \n",
    "        except Exception as e:\n",
    "            print(\"invalid\")\n",
    "    except Exception as e:\n",
    "        print(\"invalid\")\n",
    "except Exception as e:\n",
    "    print(e)"
   ]
  }
 ],
 "metadata": {
  "kernelspec": {
   "display_name": "Python 3 (ipykernel)",
   "language": "python",
   "name": "python3"
  },
  "language_info": {
   "codemirror_mode": {
    "name": "ipython",
    "version": 3
   },
   "file_extension": ".py",
   "mimetype": "text/x-python",
   "name": "python",
   "nbconvert_exporter": "python",
   "pygments_lexer": "ipython3",
   "version": "3.9.12"
  }
 },
 "nbformat": 4,
 "nbformat_minor": 5
}
