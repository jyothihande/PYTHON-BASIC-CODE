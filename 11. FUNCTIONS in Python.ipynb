{
 "cells": [
  {
   "cell_type": "code",
   "execution_count": null,
   "id": "f02e49bb",
   "metadata": {},
   "outputs": [],
   "source": [
    "Defination of function:using same function again and again function is used,\n",
    "no need to input function again again..\n",
    "write defination of function in string '' format.\n",
    "To know function of a function press SHIFT + TAB\n",
    "define function with # what does the function which do shows in docstring \n",
    "functions in string list tuple set are:\n",
    "type()\n",
    "len()\n",
    "s[2]\n",
    "s.strip()\n",
    "s.remove()\n",
    "int()\n",
    "\n",
    "TYPES OF FUNCTIONS:\n",
    "FUNCTIONS WITH PARAMETER\n",
    "FUNCTIONS WITH NO PARAMETER \n",
    "FUNCTIONS WITH DEFAULT PARAMETER\n",
    "FUNCTIONS WITH RETURN PARAMETER\n",
    "\n",
    "TYPES OF VAIRABLE IN PYTHON LOCAL works only inside block of function AND GLOBAL works \n",
    "in both inside and outside block\n",
    "    \n",
    " def note(a) single parameter for def\n",
    " def note(*a) multiple parameters \n",
    " def mote(name,age,contact)\n",
    " def note(a,b,c,d,*e) multiple parameters  is also possible * for future purpose"
   ]
  },
  {
   "cell_type": "code",
   "execution_count": null,
   "id": "a7acd07b",
   "metadata": {},
   "outputs": [],
   "source": [
    "def (*args)(**kwargs)  means(*arguments,** keywordorguments)"
   ]
  },
  {
   "cell_type": "code",
   "execution_count": null,
   "id": "08edba28",
   "metadata": {},
   "outputs": [],
   "source": [
    "SYNTAX of function\n",
    "Functions(defination)\n",
    "Functions(execution)\n",
    "Function(calling)"
   ]
  },
  {
   "cell_type": "markdown",
   "id": "1cf37d45",
   "metadata": {},
   "source": [
    "TO CHECK EXPENSE OF ONE EMPLOY:"
   ]
  },
  {
   "cell_type": "code",
   "execution_count": 1,
   "id": "658021f1",
   "metadata": {},
   "outputs": [],
   "source": [
    "samir=[1000,2000,2500,900,3200]\n",
    "total_expense=0"
   ]
  },
  {
   "cell_type": "markdown",
   "id": "edb55368",
   "metadata": {},
   "source": [
    " total_expense+=1    SAME  total_expense=total_expense + i  "
   ]
  },
  {
   "cell_type": "code",
   "execution_count": 2,
   "id": "12a3a991",
   "metadata": {},
   "outputs": [
    {
     "name": "stdout",
     "output_type": "stream",
     "text": [
      "1000\n",
      "3000\n",
      "5500\n",
      "6400\n",
      "9600\n",
      "9600  "
     ]
    }
   ],
   "source": [
    "total_expense=0\n",
    "for i in samir:\n",
    "    total_expense=total_expense+i\n",
    "    print(total_expense) # inside the for loop\n",
    "print(total_expense,end=\"  \" )# outside the for loop"
   ]
  },
  {
   "cell_type": "code",
   "execution_count": 3,
   "id": "61ff42f7",
   "metadata": {},
   "outputs": [
    {
     "name": "stdout",
     "output_type": "stream",
     "text": [
      "9600  "
     ]
    }
   ],
   "source": [
    "total_expense=0\n",
    "for i in samir:\n",
    "    total_expense=total_expense+i\n",
    "print(total_expense,end=\"  \" )# outside the for loop"
   ]
  },
  {
   "cell_type": "markdown",
   "id": "c306fcec",
   "metadata": {},
   "source": [
    "TO CHECK EXPENSE OF MORE EMPLOYS:"
   ]
  },
  {
   "cell_type": "code",
   "execution_count": null,
   "id": "dc2d1cd8",
   "metadata": {},
   "outputs": [],
   "source": [
    "so create a block where user can enter name of the employ and expense of that particular employ we get\n",
    "Functions(defination)\n",
    "Functions(execution)\n",
    "Function(calling)"
   ]
  },
  {
   "cell_type": "code",
   "execution_count": 4,
   "id": "214ffb0e",
   "metadata": {},
   "outputs": [],
   "source": [
    "samir=[1000,2000,2500,900,3200]\n",
    "tejas=[2000,2500,250,3200,1200]\n",
    "pppl=[125,2563,985,622]"
   ]
  },
  {
   "cell_type": "code",
   "execution_count": null,
   "id": "7c958414",
   "metadata": {},
   "outputs": [],
   "source": [
    "COMMON FUNCTION FOR ALL is expense"
   ]
  },
  {
   "cell_type": "code",
   "execution_count": 5,
   "id": "fbe2c162",
   "metadata": {},
   "outputs": [],
   "source": [
    "def expense(name):\n",
    "    'this function return total expense done by employee till date' #shift + tab \n",
    "    total_expense=0\n",
    "    for i in name:\n",
    "        total_expense=total_expense+i\n",
    "    print(total_expense)       "
   ]
  },
  {
   "cell_type": "code",
   "execution_count": 6,
   "id": "1ae510ce",
   "metadata": {},
   "outputs": [
    {
     "name": "stdout",
     "output_type": "stream",
     "text": [
      "9600\n"
     ]
    }
   ],
   "source": [
    "expense(samir) #at a time one only # press shift + tab to know function check in doctrine"
   ]
  },
  {
   "cell_type": "code",
   "execution_count": 7,
   "id": "f13220d5",
   "metadata": {},
   "outputs": [
    {
     "name": "stdout",
     "output_type": "stream",
     "text": [
      "9150\n"
     ]
    }
   ],
   "source": [
    "expense(tejas)"
   ]
  },
  {
   "cell_type": "code",
   "execution_count": 8,
   "id": "fc94f510",
   "metadata": {},
   "outputs": [
    {
     "name": "stdout",
     "output_type": "stream",
     "text": [
      "4295\n"
     ]
    }
   ],
   "source": [
    "expense(pppl)"
   ]
  },
  {
   "cell_type": "markdown",
   "id": "59a10f05",
   "metadata": {},
   "source": [
    "##  def return function"
   ]
  },
  {
   "cell_type": "code",
   "execution_count": 9,
   "id": "d5dade79",
   "metadata": {},
   "outputs": [],
   "source": [
    "def add(a,b,c,d):\n",
    "    return(a,b,c,d)"
   ]
  },
  {
   "cell_type": "code",
   "execution_count": 10,
   "id": "52948a71",
   "metadata": {},
   "outputs": [
    {
     "data": {
      "text/plain": [
       "('jyo', 5, 88, 'pune')"
      ]
     },
     "execution_count": 10,
     "metadata": {},
     "output_type": "execute_result"
    }
   ],
   "source": [
    "add('jyo',5,88,'pune')"
   ]
  },
  {
   "cell_type": "code",
   "execution_count": 11,
   "id": "bf354c8f",
   "metadata": {},
   "outputs": [],
   "source": [
    "def add(*a):    #'* means coder can add multiple information'\n",
    "    return a"
   ]
  },
  {
   "cell_type": "code",
   "execution_count": 12,
   "id": "870659ef",
   "metadata": {},
   "outputs": [
    {
     "data": {
      "text/plain": [
       "(25, 6.2, 6, 98, 34)"
      ]
     },
     "execution_count": 12,
     "metadata": {},
     "output_type": "execute_result"
    }
   ],
   "source": [
    "add(25,6.2,6,98,34,)"
   ]
  },
  {
   "cell_type": "markdown",
   "id": "a0a7ac1b",
   "metadata": {},
   "source": [
    "def (*args)(**kwargs) (*arguments,** keywordorguments)"
   ]
  },
  {
   "cell_type": "code",
   "execution_count": 13,
   "id": "19e2f1f9",
   "metadata": {},
   "outputs": [],
   "source": [
    "t=[]"
   ]
  },
  {
   "cell_type": "code",
   "execution_count": 16,
   "id": "38da231d",
   "metadata": {},
   "outputs": [],
   "source": [
    "t.append(2) #by default added at the last"
   ]
  },
  {
   "cell_type": "code",
   "execution_count": 17,
   "id": "388e7562",
   "metadata": {},
   "outputs": [
    {
     "data": {
      "text/plain": [
       "[12, 2]"
      ]
     },
     "execution_count": 17,
     "metadata": {},
     "output_type": "execute_result"
    }
   ],
   "source": [
    "t"
   ]
  },
  {
   "cell_type": "markdown",
   "id": "5bb8ae06",
   "metadata": {},
   "source": [
    "HERE with append at a time only one element is added so use def append(*a) can enter n number of inputs at a time.\n"
   ]
  },
  {
   "cell_type": "code",
   "execution_count": 18,
   "id": "59fbf187",
   "metadata": {},
   "outputs": [],
   "source": [
    "l=[]\n",
    "def append(*a):\n",
    "\n",
    "    for i in a:\n",
    "        l.append(i)\n",
    "    return l"
   ]
  },
  {
   "cell_type": "code",
   "execution_count": 19,
   "id": "22c6b5d6",
   "metadata": {},
   "outputs": [
    {
     "data": {
      "text/plain": [
       "[1, 2, 3]"
      ]
     },
     "execution_count": 19,
     "metadata": {},
     "output_type": "execute_result"
    }
   ],
   "source": [
    "append(1,2,3) #in l list"
   ]
  },
  {
   "cell_type": "code",
   "execution_count": 20,
   "id": "105bcf14",
   "metadata": {},
   "outputs": [
    {
     "data": {
      "text/plain": [
       "[1, 2, 3, 2.3, 8, 9, 45]"
      ]
     },
     "execution_count": 20,
     "metadata": {},
     "output_type": "execute_result"
    }
   ],
   "source": [
    "append(2.3,8,9,45)"
   ]
  },
  {
   "cell_type": "code",
   "execution_count": 21,
   "id": "87937b60",
   "metadata": {},
   "outputs": [
    {
     "data": {
      "text/plain": [
       "[1, 2, 3, 2.3, 8, 9, 45]"
      ]
     },
     "execution_count": 21,
     "metadata": {},
     "output_type": "execute_result"
    }
   ],
   "source": [
    "l"
   ]
  },
  {
   "cell_type": "code",
   "execution_count": null,
   "id": "5946a4b2",
   "metadata": {},
   "outputs": [],
   "source": [
    "def test(a,b,c,d,e*) means a b c d are fixed four entries\n",
    "but e* means in future there can be additional entries if needed"
   ]
  },
  {
   "cell_type": "code",
   "execution_count": 22,
   "id": "bd891f6f",
   "metadata": {},
   "outputs": [],
   "source": [
    "def test(a,b,*c):\n",
    "    return a,b,c"
   ]
  },
  {
   "cell_type": "code",
   "execution_count": 23,
   "id": "f4e8bdba",
   "metadata": {},
   "outputs": [
    {
     "data": {
      "text/plain": [
       "(1, 2, (5, 6, 98, 'lol'))"
      ]
     },
     "execution_count": 23,
     "metadata": {},
     "output_type": "execute_result"
    }
   ],
   "source": [
    "test(1,2,5,6,98,\"lol\") # all added to the c"
   ]
  },
  {
   "cell_type": "code",
   "execution_count": 24,
   "id": "a5b6fe0c",
   "metadata": {},
   "outputs": [],
   "source": [
    "def test1(*a,b,c):\n",
    "    return a,b,c"
   ]
  },
  {
   "cell_type": "code",
   "execution_count": 25,
   "id": "e14c44fd",
   "metadata": {},
   "outputs": [
    {
     "ename": "TypeError",
     "evalue": "test1() missing 2 required keyword-only arguments: 'b' and 'c'",
     "output_type": "error",
     "traceback": [
      "\u001b[1;31m---------------------------------------------------------------------------\u001b[0m",
      "\u001b[1;31mTypeError\u001b[0m                                 Traceback (most recent call last)",
      "Input \u001b[1;32mIn [25]\u001b[0m, in \u001b[0;36m<cell line: 1>\u001b[1;34m()\u001b[0m\n\u001b[1;32m----> 1\u001b[0m \u001b[43mtest1\u001b[49m\u001b[43m(\u001b[49m\u001b[43m(\u001b[49m\u001b[38;5;241;43m1\u001b[39;49m\u001b[43m,\u001b[49m\u001b[38;5;241;43m12\u001b[39;49m\u001b[43m,\u001b[49m\u001b[38;5;241;43m5\u001b[39;49m\u001b[43m)\u001b[49m\u001b[43m,\u001b[49m\u001b[38;5;241;43m8\u001b[39;49m\u001b[43m,\u001b[49m\u001b[38;5;241;43m9\u001b[39;49m\u001b[43m)\u001b[49m\n",
      "\u001b[1;31mTypeError\u001b[0m: test1() missing 2 required keyword-only arguments: 'b' and 'c'"
     ]
    }
   ],
   "source": [
    "test1((1,12,5),8,9)"
   ]
  },
  {
   "cell_type": "code",
   "execution_count": 26,
   "id": "8db51a1e",
   "metadata": {},
   "outputs": [
    {
     "data": {
      "text/plain": [
       "((1, 23, 5, 2), 1, 56)"
      ]
     },
     "execution_count": 26,
     "metadata": {},
     "output_type": "execute_result"
    }
   ],
   "source": [
    "test1(1,23,5,2,b=1,c=56)"
   ]
  },
  {
   "cell_type": "code",
   "execution_count": null,
   "id": "02efd695",
   "metadata": {},
   "outputs": [],
   "source": [
    "TYPES OF FUNCTIONS:\n",
    "    \n",
    "1.FUNCTIONS WITH PARAMETER\n",
    "2.FUNCTIONS WITH NO PARAMETER \n",
    "3.FUNCTIONS WITH DEFAULT PARAMETER\n",
    "4.FUNCTIONS WITH RETURN PARAMETER\n"
   ]
  },
  {
   "cell_type": "code",
   "execution_count": null,
   "id": "4ce2a0f6",
   "metadata": {},
   "outputs": [],
   "source": [
    "1.FUNCTIONS WITH NO PARAMETER "
   ]
  },
  {
   "cell_type": "code",
   "execution_count": 27,
   "id": "9a7127b5",
   "metadata": {},
   "outputs": [],
   "source": [
    "def note():   \n",
    "    'no argument inside bracket'\n",
    "    print(\"wel come..This is function with no parameter\") "
   ]
  },
  {
   "cell_type": "code",
   "execution_count": 28,
   "id": "d513587d",
   "metadata": {},
   "outputs": [
    {
     "name": "stdout",
     "output_type": "stream",
     "text": [
      "wel come..This is function with no parameter\n"
     ]
    }
   ],
   "source": [
    "note()"
   ]
  },
  {
   "cell_type": "code",
   "execution_count": null,
   "id": "81e243c8",
   "metadata": {},
   "outputs": [],
   "source": [
    "2.FUNCTIONS WITH PARAMETER "
   ]
  },
  {
   "cell_type": "code",
   "execution_count": 29,
   "id": "a3eb1c17",
   "metadata": {},
   "outputs": [],
   "source": [
    "def note1(a,b): # two a b argument declared \n",
    "    print(\"value of a : \",a)\n",
    "    print(\"value of b : \",b)"
   ]
  },
  {
   "cell_type": "code",
   "execution_count": 30,
   "id": "4dff0f94",
   "metadata": {},
   "outputs": [
    {
     "name": "stdout",
     "output_type": "stream",
     "text": [
      "value of a :  little\n",
      "value of b :  905\n"
     ]
    }
   ],
   "source": [
    "note1('little',905)"
   ]
  },
  {
   "cell_type": "code",
   "execution_count": null,
   "id": "21b34e5e",
   "metadata": {},
   "outputs": [],
   "source": [
    "3.FUNCTIONS WITH DEFAULT PARAMETER\n",
    "paramerters declared at start only"
   ]
  },
  {
   "cell_type": "code",
   "execution_count": 31,
   "id": "24cb1125",
   "metadata": {},
   "outputs": [],
   "source": [
    "def note2(a='little',b=95):\n",
    "    print(\"value of a : \",a)\n",
    "    print(\"value of b : \",b)\n",
    "    "
   ]
  },
  {
   "cell_type": "code",
   "execution_count": 32,
   "id": "aede46cb",
   "metadata": {},
   "outputs": [
    {
     "name": "stdout",
     "output_type": "stream",
     "text": [
      "value of a :  little\n",
      "value of b :  95\n"
     ]
    }
   ],
   "source": [
    "note2()"
   ]
  },
  {
   "cell_type": "code",
   "execution_count": 33,
   "id": "ebef8e48",
   "metadata": {},
   "outputs": [
    {
     "name": "stdout",
     "output_type": "stream",
     "text": [
      "value of a :  loll\n",
      "value of b :  98\n"
     ]
    }
   ],
   "source": [
    "def note2(a='little',b=95):\n",
    "    print(\"value of a : \",a)\n",
    "    print(\"value of b : \",b)\n",
    "note2(a='loll',b=98)  # in python function starts BOTTOM TO UP APPROACH"
   ]
  },
  {
   "cell_type": "code",
   "execution_count": null,
   "id": "679bb1d2",
   "metadata": {},
   "outputs": [],
   "source": [
    "4.FUNCTIONS WITH RETURN PARAMETER"
   ]
  },
  {
   "cell_type": "code",
   "execution_count": 34,
   "id": "7541e7d9",
   "metadata": {},
   "outputs": [],
   "source": [
    "def note3(a,m):\n",
    "    return a,m"
   ]
  },
  {
   "cell_type": "code",
   "execution_count": 35,
   "id": "b74e24f4",
   "metadata": {},
   "outputs": [
    {
     "data": {
      "text/plain": [
       "('kpiij', 'lolo')"
      ]
     },
     "execution_count": 35,
     "metadata": {},
     "output_type": "execute_result"
    }
   ],
   "source": [
    "note3(\"kpiij\",\"lolo\")\n"
   ]
  },
  {
   "cell_type": "code",
   "execution_count": 36,
   "id": "7e23a7e9",
   "metadata": {},
   "outputs": [],
   "source": [
    "def add(a,b):\n",
    "    return a+b"
   ]
  },
  {
   "cell_type": "code",
   "execution_count": 37,
   "id": "f72d097c",
   "metadata": {},
   "outputs": [
    {
     "data": {
      "text/plain": [
       "61"
      ]
     },
     "execution_count": 37,
     "metadata": {},
     "output_type": "execute_result"
    }
   ],
   "source": [
    "add(58,3)"
   ]
  },
  {
   "cell_type": "code",
   "execution_count": null,
   "id": "25c61ca1",
   "metadata": {},
   "outputs": [],
   "source": [
    "5.** keywordorgument def (**kwargs) output of keyword arguement is in dictionary format"
   ]
  },
  {
   "cell_type": "code",
   "execution_count": 38,
   "id": "5a1e1db0",
   "metadata": {},
   "outputs": [],
   "source": [
    "def note3(**info): # here keyword note  is defind as keyarg\n",
    "    return info"
   ]
  },
  {
   "cell_type": "code",
   "execution_count": 39,
   "id": "e7db88d4",
   "metadata": {},
   "outputs": [
    {
     "data": {
      "text/plain": [
       "{'name': 'lol', 'marks': 256, 'code': 'python'}"
      ]
     },
     "execution_count": 39,
     "metadata": {},
     "output_type": "execute_result"
    }
   ],
   "source": [
    "note3(name='lol',marks=256,code='python')  # output is in dictionary format"
   ]
  },
  {
   "cell_type": "code",
   "execution_count": 40,
   "id": "f083b399",
   "metadata": {},
   "outputs": [],
   "source": [
    "def test(*a,**info):\n",
    "    return a,info"
   ]
  },
  {
   "cell_type": "code",
   "execution_count": 55,
   "id": "146bc440",
   "metadata": {},
   "outputs": [
    {
     "data": {
      "text/plain": [
       "(('lol', 'python', 56, 3, 2.3),\n",
       " {'a': 5, 'g': 9.8, 'h': 'play', 'code': 'python'})"
      ]
     },
     "execution_count": 55,
     "metadata": {},
     "output_type": "execute_result"
    }
   ],
   "source": [
    "test('lol','python',56,3,2.3,a=5,g=9.8,h='play',code='python') # output tuple + dictionary format"
   ]
  },
  {
   "cell_type": "code",
   "execution_count": 41,
   "id": "5dc56c21",
   "metadata": {},
   "outputs": [],
   "source": [
    "def note4(*a):\n",
    "    #b=5\n",
    "    x=[]\n",
    "    for i in a:\n",
    "        if type(i)== int:\n",
    "            final=i\n",
    "            x.append(final)\n",
    "    print(\"final_list is:  \",x)\n",
    "            "
   ]
  },
  {
   "cell_type": "code",
   "execution_count": 42,
   "id": "a849d3b3",
   "metadata": {},
   "outputs": [
    {
     "name": "stdout",
     "output_type": "stream",
     "text": [
      "final_list is:   [15, 482, 463]\n"
     ]
    }
   ],
   "source": [
    "note4(15,482,463,3.36)"
   ]
  },
  {
   "cell_type": "code",
   "execution_count": 43,
   "id": "5befd789",
   "metadata": {},
   "outputs": [],
   "source": [
    "\n",
    "def note4(*a):\n",
    "    b=5\n",
    "    x=[]\n",
    "    for i in a:\n",
    "        if type(i)== int:\n",
    "            final=b+i\n",
    "            x.append(final)\n",
    "        elif type(i)== float:\n",
    "            \n",
    "            print(\"float numbers:  \",i)\n",
    "        else:\n",
    "            if i.isupper()==True:\n",
    "                print(i)\n",
    "    print(\"final_list is:  \",x)\n",
    "            "
   ]
  },
  {
   "cell_type": "code",
   "execution_count": 44,
   "id": "963d17f8",
   "metadata": {},
   "outputs": [
    {
     "name": "stdout",
     "output_type": "stream",
     "text": [
      "float numbers:   3.36\n",
      "float numbers:   5.6\n",
      "UPPR\n",
      "final_list is:   [20, 487, 468, 15, 35]\n"
     ]
    }
   ],
   "source": [
    "note4(15,482,463,3.36,\"lollllll\",'lol','python','komal',5.6,10,30,'UPPR')"
   ]
  },
  {
   "cell_type": "code",
   "execution_count": 45,
   "id": "c85af6a7",
   "metadata": {},
   "outputs": [],
   "source": [
    "def test(*a):\n",
    "    y=[]\n",
    "    for i in a:\n",
    "        y.append(i)\n",
    "    print(\"list is : \",y)\n",
    "        \n",
    "        \n",
    "        "
   ]
  },
  {
   "cell_type": "code",
   "execution_count": 46,
   "id": "c5ce8bd9",
   "metadata": {},
   "outputs": [
    {
     "name": "stdout",
     "output_type": "stream",
     "text": [
      "list is :  [2, 5, 6, 3, 58, 8, 2, 5, 'lolo']\n"
     ]
    }
   ],
   "source": [
    "test(2,5,6,3,58,8,2,5,'lolo')"
   ]
  },
  {
   "cell_type": "code",
   "execution_count": 47,
   "id": "0e73ef6d",
   "metadata": {},
   "outputs": [],
   "source": [
    "def name1(*c):\n",
    "    n=[]\n",
    "    b=[]\n",
    "    m=[]\n",
    "    for i in c:\n",
    "        if type(i)==int:\n",
    "            n.append(i)\n",
    "        elif type(i)==str:\n",
    "            b.append(i)\n",
    "        else:\n",
    "            m.append(i)\n",
    "            \n",
    "    print(\"list of integers:  \" , n)\n",
    "    print(\"list of string: \" , b)\n",
    "    print(\"list of float: \"  ,m)\n",
    "            "
   ]
  },
  {
   "cell_type": "code",
   "execution_count": 48,
   "id": "3affa20c",
   "metadata": {},
   "outputs": [
    {
     "name": "stdout",
     "output_type": "stream",
     "text": [
      "list of integers:   [15, 482, 463, 10]\n",
      "list of string:  ['lollllll', 'lol', 'python', 'komal', 'UPPR']\n",
      "list of float:  [3.36, 5.6, 3.0, 85.23]\n"
     ]
    }
   ],
   "source": [
    "name1(15,482,463,3.36,\"lollllll\",'lol','python','komal',5.6,10,3.0,'UPPR',85.23)"
   ]
  },
  {
   "cell_type": "code",
   "execution_count": 49,
   "id": "3ac25adf",
   "metadata": {},
   "outputs": [],
   "source": [
    "a=[]\n",
    "b=[]\n",
    "c=[]\n",
    "def age(*t):\n",
    "    for i in t:\n",
    "        if i<18:\n",
    "            a.append(i)\n",
    "        elif i>=18 or not(i>=18):\n",
    "            b.append(i)\n",
    "            print(\"list of above 18: \",b)\n",
    "            \n",
    "        else:\n",
    "            if i>100:\n",
    "                c.append(i)\n",
    "                \n",
    "                \n",
    "    print(\"list of below 18: \",a)\n",
    "    print(\"list of above 18: \",b)\n",
    "    print(\"list of NRIs: \",c)\n",
    "    \n",
    "            \n",
    "            "
   ]
  },
  {
   "cell_type": "code",
   "execution_count": 50,
   "id": "4e931510",
   "metadata": {},
   "outputs": [
    {
     "name": "stdout",
     "output_type": "stream",
     "text": [
      "list of above 18:  [23]\n",
      "list of above 18:  [23, 98]\n",
      "list of above 18:  [23, 98, 40]\n",
      "list of above 18:  [23, 98, 40, 52]\n",
      "list of above 18:  [23, 98, 40, 52, 53]\n",
      "list of above 18:  [23, 98, 40, 52, 53, 120]\n",
      "list of above 18:  [23, 98, 40, 52, 53, 120, 111]\n",
      "list of above 18:  [23, 98, 40, 52, 53, 120, 111, 18]\n",
      "list of below 18:  [15, 12, 12]\n",
      "list of above 18:  [23, 98, 40, 52, 53, 120, 111, 18]\n",
      "list of NRIs:  []\n"
     ]
    }
   ],
   "source": [
    "age(23,15,12,98,40,52,53,12,120,111,18)"
   ]
  },
  {
   "cell_type": "code",
   "execution_count": null,
   "id": "49cef474",
   "metadata": {},
   "outputs": [],
   "source": [
    "USING FUNCTION CODE FOR ODD EVEN:\n",
    "    "
   ]
  },
  {
   "cell_type": "code",
   "execution_count": 51,
   "id": "f8c0f33b",
   "metadata": {},
   "outputs": [],
   "source": [
    "def odd_even(a):\n",
    "    if n%2==0:\n",
    "        print(\"number is even\")\n",
    "    else:\n",
    "        print('number is odd')\n",
    "        "
   ]
  },
  {
   "cell_type": "code",
   "execution_count": 52,
   "id": "31f3863e",
   "metadata": {},
   "outputs": [],
   "source": [
    "n=25"
   ]
  },
  {
   "cell_type": "code",
   "execution_count": 53,
   "id": "99f41974",
   "metadata": {},
   "outputs": [
    {
     "name": "stdout",
     "output_type": "stream",
     "text": [
      "number is odd\n"
     ]
    }
   ],
   "source": [
    "odd_even(22)"
   ]
  },
  {
   "cell_type": "code",
   "execution_count": 58,
   "id": "a325379d",
   "metadata": {},
   "outputs": [],
   "source": [
    "def odd_even(n):\n",
    "    e = []\n",
    "    o = []\n",
    "    if n%2==0:\n",
    "        print(\"number is even\")\n",
    "        e.append(n)\n",
    "    else:\n",
    "        o.append(n)\n",
    "        print('number is odd')"
   ]
  },
  {
   "cell_type": "code",
   "execution_count": 59,
   "id": "f788a306",
   "metadata": {},
   "outputs": [
    {
     "name": "stdout",
     "output_type": "stream",
     "text": [
      "number is odd\n"
     ]
    }
   ],
   "source": [
    "odd_even(85)"
   ]
  },
  {
   "cell_type": "code",
   "execution_count": 60,
   "id": "f907c35c",
   "metadata": {},
   "outputs": [
    {
     "name": "stdout",
     "output_type": "stream",
     "text": [
      "number is even\n"
     ]
    }
   ],
   "source": [
    "odd_even(2)"
   ]
  },
  {
   "cell_type": "code",
   "execution_count": 61,
   "id": "59854dc9",
   "metadata": {},
   "outputs": [
    {
     "name": "stdout",
     "output_type": "stream",
     "text": [
      "number is even\n"
     ]
    }
   ],
   "source": [
    "odd_even(8)"
   ]
  }
 ],
 "metadata": {
  "kernelspec": {
   "display_name": "Python 3 (ipykernel)",
   "language": "python",
   "name": "python3"
  },
  "language_info": {
   "codemirror_mode": {
    "name": "ipython",
    "version": 3
   },
   "file_extension": ".py",
   "mimetype": "text/x-python",
   "name": "python",
   "nbconvert_exporter": "python",
   "pygments_lexer": "ipython3",
   "version": "3.9.12"
  }
 },
 "nbformat": 4,
 "nbformat_minor": 5
}
