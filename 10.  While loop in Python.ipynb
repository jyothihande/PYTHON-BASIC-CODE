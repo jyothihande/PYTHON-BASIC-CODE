{
 "cells": [
  {
   "cell_type": "code",
   "execution_count": null,
   "id": "b963a1a7",
   "metadata": {},
   "outputs": [],
   "source": [
    "# While loop sequence of statements are important\n",
    "initialisation\n",
    "while(condition):\n",
    "    execution\n",
    "    increment/decrement\n",
    "     ********   OR    *******\n",
    "FOR LOOP\n",
    "for items in list:\n",
    "   print(items) "
   ]
  },
  {
   "cell_type": "code",
   "execution_count": 1,
   "id": "4411a878",
   "metadata": {},
   "outputs": [
    {
     "name": "stdout",
     "output_type": "stream",
     "text": [
      "1 2 3 4 5 6 7 8 9 10 "
     ]
    }
   ],
   "source": [
    "i=1\n",
    "while i<=10:  # count till 10 by adding 1\n",
    "    print(i,end=\" \")\n",
    "    i+=1"
   ]
  },
  {
   "cell_type": "code",
   "execution_count": 2,
   "id": "995997c8",
   "metadata": {},
   "outputs": [
    {
     "name": "stdout",
     "output_type": "stream",
     "text": [
      "1 4 7 10 13 "
     ]
    }
   ],
   "source": [
    "i=1\n",
    "while i<=15:   # count till 15 by adding 3\n",
    "    print(i,end=\" \")\n",
    "    i+=3"
   ]
  },
  {
   "cell_type": "code",
   "execution_count": 3,
   "id": "a5f7a971",
   "metadata": {},
   "outputs": [
    {
     "name": "stdout",
     "output_type": "stream",
     "text": [
      "2 3 4 5 6 7 8 9 10 11 "
     ]
    }
   ],
   "source": [
    "i=1\n",
    "while i<=10:\n",
    "    i+=1  # count till 10 by adding 1\n",
    "    print(i,end=\" \")\n",
    "    "
   ]
  },
  {
   "cell_type": "code",
   "execution_count": 4,
   "id": "6d961761",
   "metadata": {},
   "outputs": [
    {
     "name": "stdout",
     "output_type": "stream",
     "text": [
      "1 2 3 4 5 6 7 8 9 "
     ]
    }
   ],
   "source": [
    "for i in range(1,10):\n",
    "    print(i,end=\" \")"
   ]
  },
  {
   "cell_type": "markdown",
   "id": "08b26053",
   "metadata": {},
   "source": [
    "# USE OF FOR LOOP"
   ]
  },
  {
   "cell_type": "code",
   "execution_count": 6,
   "id": "c7521ae1",
   "metadata": {},
   "outputs": [
    {
     "name": "stdout",
     "output_type": "stream",
     "text": [
      "1 10 12 45 8 9 50 215 15 75 "
     ]
    }
   ],
   "source": [
    "l=[1,10,12,45,8,9,50,215,15,75]\n",
    "for i in l:\n",
    "    print(i,end=\" \")"
   ]
  },
  {
   "cell_type": "markdown",
   "id": "8ecf30e3",
   "metadata": {},
   "source": [
    "# USE OF WHILE LOOP"
   ]
  },
  {
   "cell_type": "code",
   "execution_count": 5,
   "id": "eadc930e",
   "metadata": {},
   "outputs": [
    {
     "name": "stdout",
     "output_type": "stream",
     "text": [
      "1 10 12 45 8 9 50 215 15 75 "
     ]
    }
   ],
   "source": [
    "l=[1,10,12,45,8,9,50,215,15,75]\n",
    "i=0\n",
    "while i<len(l):\n",
    "    print(l[i],end=\" \")\n",
    "    i+=1\n"
   ]
  },
  {
   "cell_type": "code",
   "execution_count": 8,
   "id": "46813a50",
   "metadata": {},
   "outputs": [
    {
     "name": "stdout",
     "output_type": "stream",
     "text": [
      "75 15 215 50 9 8 45 12 10 1 "
     ]
    }
   ],
   "source": [
    "l=[1,10,12,45,8,9,50,215,15,75]\n",
    "i=-1\n",
    "while i>=-len(l):\n",
    "        print(l[i],end=\" \")\n",
    "        i-=1"
   ]
  },
  {
   "cell_type": "code",
   "execution_count": 9,
   "id": "4a277100",
   "metadata": {},
   "outputs": [
    {
     "name": "stdout",
     "output_type": "stream",
     "text": [
      "45 : 3\n",
      "15 : 8\n",
      "15 : 10\n",
      "15 : 14\n"
     ]
    }
   ],
   "source": [
    "l=[1,10,12,45,8,20,35,36,15,87,15,9,50,215,15,75]\n",
    "i=0\n",
    "while i< len(l):\n",
    "    if l[i]==45 or l[i]==15:\n",
    "        print(l[i],':',i)\n",
    "    i+=1\n"
   ]
  },
  {
   "cell_type": "markdown",
   "id": "8ba92491",
   "metadata": {},
   "source": [
    "# FACTORIAL NUMBER USING WHILE LOOP"
   ]
  },
  {
   "cell_type": "code",
   "execution_count": 10,
   "id": "0b87b87d",
   "metadata": {},
   "outputs": [
    {
     "name": "stdout",
     "output_type": "stream",
     "text": [
      "enter the number for factorial: 5\n",
      "120\n"
     ]
    }
   ],
   "source": [
    "n = int(input(\"enter the number for factorial: \"))\n",
    "fact = 1\n",
    "while n>0:\n",
    "    fact=fact*n\n",
    "    n-=1\n",
    "\n",
    "print(fact)    "
   ]
  },
  {
   "cell_type": "code",
   "execution_count": 11,
   "id": "4966a754",
   "metadata": {},
   "outputs": [
    {
     "name": "stdout",
     "output_type": "stream",
     "text": [
      "enter the number for factorial: 5\n",
      "120\n"
     ]
    }
   ],
   "source": [
    "n = int(input(\"enter the number for factorial: \"))\n",
    "fact = 1\n",
    "for i in range(1,n+1):\n",
    "    fact = fact*i\n",
    "print(fact)"
   ]
  },
  {
   "cell_type": "markdown",
   "id": "4372b5e2",
   "metadata": {},
   "source": [
    "# CODE"
   ]
  },
  {
   "cell_type": "code",
   "execution_count": 12,
   "id": "32781dac",
   "metadata": {},
   "outputs": [
    {
     "name": "stdout",
     "output_type": "stream",
     "text": [
      "[1, 12, 15, 14, 117, 18, 19, 20, 21, 22, 23, 25, 24, 58, 56, 98, 52]\n",
      "wrong data:  ['5', '70', '8', '9']\n"
     ]
    }
   ],
   "source": [
    "x=[1,12,15,14,117,18,19,20,21,22,23,25,24,58,56,98,52,'5','70','8','9']\n",
    "i=0\n",
    "final_list=[]\n",
    "wrong_data=[]\n",
    "while i < len(x):\n",
    "    if type(x[i]) == int:\n",
    "        final_list.append(x[i])\n",
    "    else:\n",
    "        wrong_data.append(x[i])\n",
    "    \n",
    "    i+=1\n",
    "    \n",
    "print(final_list)\n",
    "print(\"wrong data: \", wrong_data)\n",
    "        "
   ]
  },
  {
   "cell_type": "markdown",
   "id": "8bf8120f",
   "metadata": {},
   "source": [
    "Find length of easy"
   ]
  },
  {
   "cell_type": "code",
   "execution_count": 13,
   "id": "f0d75f5a",
   "metadata": {},
   "outputs": [
    {
     "data": {
      "text/plain": [
       "['learning', 'python', 'is', 'easy']"
      ]
     },
     "execution_count": 13,
     "metadata": {},
     "output_type": "execute_result"
    }
   ],
   "source": [
    "s=\"learning python is easy\"\n",
    "s.split()"
   ]
  },
  {
   "cell_type": "code",
   "execution_count": 14,
   "id": "af6bc8de",
   "metadata": {},
   "outputs": [],
   "source": [
    "l=s.split()"
   ]
  },
  {
   "cell_type": "code",
   "execution_count": 15,
   "id": "28950b9c",
   "metadata": {},
   "outputs": [
    {
     "data": {
      "text/plain": [
       "['learning', 'python', 'is', 'easy']"
      ]
     },
     "execution_count": 15,
     "metadata": {},
     "output_type": "execute_result"
    }
   ],
   "source": [
    "l"
   ]
  },
  {
   "cell_type": "code",
   "execution_count": 16,
   "id": "27e825b2",
   "metadata": {},
   "outputs": [
    {
     "data": {
      "text/plain": [
       "'easy'"
      ]
     },
     "execution_count": 16,
     "metadata": {},
     "output_type": "execute_result"
    }
   ],
   "source": [
    "l[-1]"
   ]
  },
  {
   "cell_type": "code",
   "execution_count": 17,
   "id": "77f763b3",
   "metadata": {},
   "outputs": [
    {
     "data": {
      "text/plain": [
       "4"
      ]
     },
     "execution_count": 17,
     "metadata": {},
     "output_type": "execute_result"
    }
   ],
   "source": [
    "len(l[-1])"
   ]
  }
 ],
 "metadata": {
  "kernelspec": {
   "display_name": "Python 3 (ipykernel)",
   "language": "python",
   "name": "python3"
  },
  "language_info": {
   "codemirror_mode": {
    "name": "ipython",
    "version": 3
   },
   "file_extension": ".py",
   "mimetype": "text/x-python",
   "name": "python",
   "nbconvert_exporter": "python",
   "pygments_lexer": "ipython3",
   "version": "3.9.12"
  }
 },
 "nbformat": 4,
 "nbformat_minor": 5
}
