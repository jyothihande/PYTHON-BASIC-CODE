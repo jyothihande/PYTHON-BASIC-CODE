{
 "cells": [
  {
   "cell_type": "code",
   "execution_count": null,
   "id": "7b0d99d9",
   "metadata": {},
   "outputs": [],
   "source": [
    "some methods or module which are needed to upload and some are needed to install.\n",
    "library need to install and then use in the code.\n",
    "-- pip install pandas (how to download)"
   ]
  },
  {
   "cell_type": "code",
   "execution_count": 1,
   "id": "3d2090b1",
   "metadata": {},
   "outputs": [
    {
     "name": "stdout",
     "output_type": "stream",
     "text": [
      "Requirement already satisfied: pandas in c:\\users\\comp\\anaconda3\\lib\\site-packages (1.4.2)\n",
      "Requirement already satisfied: pytz>=2020.1 in c:\\users\\comp\\anaconda3\\lib\\site-packages (from pandas) (2021.3)\n",
      "Requirement already satisfied: numpy>=1.18.5 in c:\\users\\comp\\anaconda3\\lib\\site-packages (from pandas) (1.21.5)\n",
      "Requirement already satisfied: python-dateutil>=2.8.1 in c:\\users\\comp\\anaconda3\\lib\\site-packages (from pandas) (2.8.2)\n",
      "Requirement already satisfied: six>=1.5 in c:\\users\\comp\\anaconda3\\lib\\site-packages (from python-dateutil>=2.8.1->pandas) (1.16.0)\n",
      "Note: you may need to restart the kernel to use updated packages.\n"
     ]
    }
   ],
   "source": [
    "pip install pandas"
   ]
  },
  {
   "cell_type": "code",
   "execution_count": 2,
   "id": "a1320581",
   "metadata": {
    "scrolled": true
   },
   "outputs": [
    {
     "name": "stdout",
     "output_type": "stream",
     "text": [
      "Requirement already satisfied: pandas in c:\\users\\comp\\anaconda3\\lib\\site-packages (1.4.2)\n",
      "Requirement already satisfied: numpy>=1.18.5 in c:\\users\\comp\\anaconda3\\lib\\site-packages (from pandas) (1.21.5)\n",
      "Requirement already satisfied: python-dateutil>=2.8.1 in c:\\users\\comp\\anaconda3\\lib\\site-packages (from pandas) (2.8.2)\n",
      "Requirement already satisfied: pytz>=2020.1 in c:\\users\\comp\\anaconda3\\lib\\site-packages (from pandas) (2021.3)\n",
      "Requirement already satisfied: six>=1.5 in c:\\users\\comp\\anaconda3\\lib\\site-packages (from python-dateutil>=2.8.1->pandas) (1.16.0)\n"
     ]
    }
   ],
   "source": [
    "!pip install pandas"
   ]
  },
  {
   "cell_type": "code",
   "execution_count": 3,
   "id": "c87942a4",
   "metadata": {},
   "outputs": [],
   "source": [
    "from pandas import*"
   ]
  },
  {
   "cell_type": "code",
   "execution_count": 4,
   "id": "401d463c",
   "metadata": {},
   "outputs": [],
   "source": [
    "from random import *"
   ]
  },
  {
   "cell_type": "markdown",
   "id": "64511096",
   "metadata": {},
   "source": [
    "# RANDOM FUNCTION :"
   ]
  },
  {
   "cell_type": "code",
   "execution_count": 5,
   "id": "f3b63247",
   "metadata": {},
   "outputs": [
    {
     "data": {
      "text/plain": [
       "0.9239351697895055"
      ]
     },
     "execution_count": 5,
     "metadata": {},
     "output_type": "execute_result"
    }
   ],
   "source": [
    "random() # random returns float value always between 0 and 1 and range can not be changed"
   ]
  },
  {
   "cell_type": "code",
   "execution_count": 6,
   "id": "1e39f7a0",
   "metadata": {},
   "outputs": [
    {
     "name": "stdout",
     "output_type": "stream",
     "text": [
      "0.06577116695792362\n",
      "0.6657087601887616\n",
      "0.8052380166834767\n",
      "0.6679684352060853\n",
      "0.0056307603660623595\n"
     ]
    }
   ],
   "source": [
    "for i in range(5):\n",
    "    print(random())\n",
    "    # to print 5 random value"
   ]
  },
  {
   "cell_type": "code",
   "execution_count": null,
   "id": "2216e0e6",
   "metadata": {},
   "outputs": [],
   "source": [
    "1.RANDOM INTEGER BETWEEN RANGE -- randint() allows only integer value not float value"
   ]
  },
  {
   "cell_type": "code",
   "execution_count": 7,
   "id": "7ff0ffa7",
   "metadata": {},
   "outputs": [
    {
     "data": {
      "text/plain": [
       "2"
      ]
     },
     "execution_count": 7,
     "metadata": {},
     "output_type": "execute_result"
    }
   ],
   "source": [
    "randint(2,50) # gives random value integers "
   ]
  },
  {
   "cell_type": "code",
   "execution_count": 8,
   "id": "bacd8dfe",
   "metadata": {},
   "outputs": [
    {
     "data": {
      "text/plain": [
       "2"
      ]
     },
     "execution_count": 8,
     "metadata": {},
     "output_type": "execute_result"
    }
   ],
   "source": [
    "randint(1,10)"
   ]
  },
  {
   "cell_type": "code",
   "execution_count": 9,
   "id": "19cb9cfa",
   "metadata": {},
   "outputs": [
    {
     "name": "stdout",
     "output_type": "stream",
     "text": [
      "31\n",
      "48\n",
      "31\n",
      "47\n",
      "26\n",
      "25\n",
      "1\n"
     ]
    }
   ],
   "source": [
    "for i in range(7):\n",
    "    print(randint(1,50))"
   ]
  },
  {
   "cell_type": "code",
   "execution_count": null,
   "id": "b7711bc8",
   "metadata": {},
   "outputs": [],
   "source": [
    "2. Randrange()"
   ]
  },
  {
   "cell_type": "code",
   "execution_count": 10,
   "id": "2fdc7c6a",
   "metadata": {},
   "outputs": [
    {
     "data": {
      "text/plain": [
       "64"
      ]
     },
     "execution_count": 10,
     "metadata": {},
     "output_type": "execute_result"
    }
   ],
   "source": [
    "randrange(1,100,7) # number between 1 to 100 with gap/diffrence is 7"
   ]
  },
  {
   "cell_type": "code",
   "execution_count": 11,
   "id": "c329d520",
   "metadata": {},
   "outputs": [
    {
     "name": "stdout",
     "output_type": "stream",
     "text": [
      "85\n",
      "92\n",
      "99\n",
      "15\n",
      "78\n",
      "57\n",
      "78\n"
     ]
    }
   ],
   "source": [
    "for i in range(7):\n",
    "    print(randrange(1,100,7))"
   ]
  },
  {
   "cell_type": "code",
   "execution_count": null,
   "id": "f4d65176",
   "metadata": {},
   "outputs": [],
   "source": [
    "3.uniform() allows float only and not integers"
   ]
  },
  {
   "cell_type": "code",
   "execution_count": 12,
   "id": "e7009093",
   "metadata": {},
   "outputs": [
    {
     "data": {
      "text/plain": [
       "6.097970229375696"
      ]
     },
     "execution_count": 12,
     "metadata": {},
     "output_type": "execute_result"
    }
   ],
   "source": [
    "uniform(1,10)"
   ]
  },
  {
   "cell_type": "code",
   "execution_count": 13,
   "id": "6ffffa4d",
   "metadata": {},
   "outputs": [
    {
     "name": "stdout",
     "output_type": "stream",
     "text": [
      "7.739968970129489\n",
      "4.711063223311053\n",
      "6.291440558317351\n",
      "3.0149502146744123\n",
      "5.7784732151717275\n"
     ]
    }
   ],
   "source": [
    "for i in range(5):\n",
    "    print(uniform(1,10))"
   ]
  },
  {
   "cell_type": "code",
   "execution_count": 14,
   "id": "26664080",
   "metadata": {
    "scrolled": true
   },
   "outputs": [
    {
     "ename": "TypeError",
     "evalue": "uniform() missing 1 required positional argument: 'b'",
     "output_type": "error",
     "traceback": [
      "\u001b[1;31m---------------------------------------------------------------------------\u001b[0m",
      "\u001b[1;31mTypeError\u001b[0m                                 Traceback (most recent call last)",
      "Input \u001b[1;32mIn [14]\u001b[0m, in \u001b[0;36m<cell line: 1>\u001b[1;34m()\u001b[0m\n\u001b[0;32m      1\u001b[0m \u001b[38;5;28;01mfor\u001b[39;00m i \u001b[38;5;129;01min\u001b[39;00m \u001b[38;5;28mrange\u001b[39m(\u001b[38;5;241m5\u001b[39m):\n\u001b[1;32m----> 2\u001b[0m     \u001b[38;5;28mprint\u001b[39m(\u001b[43muniform\u001b[49m\u001b[43m(\u001b[49m\u001b[38;5;241;43m110\u001b[39;49m\u001b[43m)\u001b[49m)\n",
      "\u001b[1;31mTypeError\u001b[0m: uniform() missing 1 required positional argument: 'b'"
     ]
    }
   ],
   "source": [
    "for i in range(5):\n",
    "    print(uniform(110))  # if by mistake i forgot to add come then use expect"
   ]
  },
  {
   "cell_type": "code",
   "execution_count": 15,
   "id": "1ce1c9c5",
   "metadata": {},
   "outputs": [
    {
     "name": "stdout",
     "output_type": "stream",
     "text": [
      "Number cant be divided by zero\n"
     ]
    }
   ],
   "source": [
    "a=24\n",
    "b=0  # do not give error and project do not stop\n",
    "try:\n",
    "    print(a/b)\n",
    "except:\n",
    "    print(\"Number cant be divided by zero\")\n"
   ]
  },
  {
   "cell_type": "code",
   "execution_count": 16,
   "id": "be944c20",
   "metadata": {},
   "outputs": [
    {
     "name": "stdout",
     "output_type": "stream",
     "text": [
      "division by zero\n"
     ]
    }
   ],
   "source": [
    "a=24\n",
    "b=0  # do not give error and project do not stop\n",
    "try:\n",
    "    print(a/b)\n",
    "except Exception as e:\n",
    "    print(e)\n"
   ]
  },
  {
   "cell_type": "code",
   "execution_count": null,
   "id": "9ee126e3",
   "metadata": {},
   "outputs": [],
   "source": [
    "4.choice() method in which "
   ]
  },
  {
   "cell_type": "code",
   "execution_count": 17,
   "id": "d3c09887",
   "metadata": {},
   "outputs": [],
   "source": [
    "l=[1,2,3,4,5]"
   ]
  },
  {
   "cell_type": "code",
   "execution_count": 18,
   "id": "9aac1a1e",
   "metadata": {},
   "outputs": [],
   "source": [
    "jyo=6\n",
    "nikhil=2\n",
    "rani=1\n",
    "payal=5\n",
    "lol=4"
   ]
  },
  {
   "cell_type": "code",
   "execution_count": 19,
   "id": "5b1a697d",
   "metadata": {},
   "outputs": [
    {
     "data": {
      "text/plain": [
       "5"
      ]
     },
     "execution_count": 19,
     "metadata": {},
     "output_type": "execute_result"
    }
   ],
   "source": [
    "choice(l)"
   ]
  },
  {
   "cell_type": "code",
   "execution_count": 20,
   "id": "e4b5771c",
   "metadata": {},
   "outputs": [
    {
     "ename": "NameError",
     "evalue": "name 'permutation' is not defined",
     "output_type": "error",
     "traceback": [
      "\u001b[1;31m---------------------------------------------------------------------------\u001b[0m",
      "\u001b[1;31mNameError\u001b[0m                                 Traceback (most recent call last)",
      "Input \u001b[1;32mIn [20]\u001b[0m, in \u001b[0;36m<cell line: 1>\u001b[1;34m()\u001b[0m\n\u001b[1;32m----> 1\u001b[0m \u001b[43mpermutation\u001b[49m(l)\n",
      "\u001b[1;31mNameError\u001b[0m: name 'permutation' is not defined"
     ]
    }
   ],
   "source": [
    "permutation(l) # will shuffle the list sequence"
   ]
  }
 ],
 "metadata": {
  "kernelspec": {
   "display_name": "Python 3 (ipykernel)",
   "language": "python",
   "name": "python3"
  },
  "language_info": {
   "codemirror_mode": {
    "name": "ipython",
    "version": 3
   },
   "file_extension": ".py",
   "mimetype": "text/x-python",
   "name": "python",
   "nbconvert_exporter": "python",
   "pygments_lexer": "ipython3",
   "version": "3.9.12"
  }
 },
 "nbformat": 4,
 "nbformat_minor": 5
}
