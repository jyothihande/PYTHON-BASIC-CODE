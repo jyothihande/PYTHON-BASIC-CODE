{
 "cells": [
  {
   "cell_type": "markdown",
   "id": "9d7101d6",
   "metadata": {},
   "source": [
    "# OPERATORS"
   ]
  },
  {
   "cell_type": "markdown",
   "id": "c0e00268",
   "metadata": {},
   "source": [
    "## LIST OF OPERATORS\n",
    "1. Mathematical/ Arthematic -- +,-,*, /division,//double division,% modulus\n",
    "2. Relational / comparison\n",
    "3. Logical and or not\n",
    "4. Assignment\n",
    "5. Bitwise\n",
    "6. Membership #last two are only in python \n",
    "7. Identity"
   ]
  },
  {
   "cell_type": "markdown",
   "id": "cabeea0b",
   "metadata": {},
   "source": [
    "##   Ways to create vairables :\n",
    "1. 9a = 5      # error a vairable can not start with int\n",
    "2. a94ss = 100   #number after alphabet can be used\n",
    "3. a_jdhd = 654  #symbol must be avoided as there are already defined vairables/methods in python\n",
    "4. %abc = 52.25  # wrong as vairable can not start with a symbol\n",
    "5. ABcd = 82   # correct no limitations on upper limit or lower limit of a vairable\n",
    "6. unlimited length for creating a vairable."
   ]
  },
  {
   "cell_type": "raw",
   "id": "dd8a7b55",
   "metadata": {},
   "source": [
    "# TO CHECK THE TYPE type() of a vairable:"
   ]
  },
  {
   "cell_type": "code",
   "execution_count": 12,
   "id": "c51991bb",
   "metadata": {},
   "outputs": [
    {
     "name": "stdout",
     "output_type": "stream",
     "text": [
      "<class 'str'>\n",
      "<class 'int'>\n",
      "<class 'float'>\n",
      "<class 'str'>\n",
      "<class 'complex'>\n",
      "<class 'int'>\n",
      "<class 'bool'>\n",
      "<class 'float'>\n",
      "<class 'str'>\n",
      "<class 'list'>\n",
      "<class 'tuple'>\n",
      "<class 'dict'>\n"
     ]
    }
   ],
   "source": [
    "a_1 ='Python'#string\n",
    "print(type(a_1))\n",
    "\n",
    "B = 7        #integer BEAWARE b= '7' is a string with inverted commas \n",
    "print(type(B))\n",
    "\n",
    "c = 5.3      # float\n",
    "print(type(c))\n",
    "\n",
    "D__ = '5'      # it is a string and not integer\n",
    "print(type(D__))\n",
    "\n",
    "e123 = 3+5j     # complex number \n",
    "print(type(e123))\n",
    "\n",
    "x = 1\n",
    "print(type(x))\n",
    "\n",
    "b = True\n",
    "print(type(b))\n",
    "\n",
    "c = 1.0\n",
    "print(type(c))\n",
    "\n",
    "d = \"Hello\"\n",
    "print(type(d))\n",
    "\n",
    "e = [1, 2, 3]\n",
    "print(type(e))\n",
    "\n",
    "f = (1, 2, 3)\n",
    "print(type(f))\n",
    "\n",
    "g = {\"a\": 1, \"b\": 2}\n",
    "print(type(g))\n",
    "#by default string is stored if not mentioned"
   ]
  },
  {
   "cell_type": "code",
   "execution_count": 14,
   "id": "5c2a6d61",
   "metadata": {},
   "outputs": [
    {
     "name": "stdout",
     "output_type": "stream",
     "text": [
      "<class 'dict'>\n"
     ]
    }
   ],
   "source": [
    "# to check type of a vairable using FUNCTIONS :\n",
    "\n",
    "def type_of_variable(g):\n",
    "    \"This function will return type of the variable\"\n",
    "    try:\n",
    "        print(type(g))\n",
    "    except Exception as e:\n",
    "        print(e)\n",
    "type_of_variable(g)"
   ]
  },
  {
   "cell_type": "raw",
   "id": "78da18ae",
   "metadata": {},
   "source": [
    "1. Mathematical/ Arthematic +  -  *  /division  //double division % modulus\n"
   ]
  },
  {
   "cell_type": "code",
   "execution_count": 16,
   "id": "caec7daa",
   "metadata": {},
   "outputs": [
    {
     "name": "stdout",
     "output_type": "stream",
     "text": [
      "13\n",
      "3.3333333333333335\n",
      "30\n",
      "3\n",
      "1\n"
     ]
    }
   ],
   "source": [
    "s=10\n",
    "t=3\n",
    "print(s+t)\n",
    "print(s/t) #normal division\n",
    "print(s*t)  #multiplication\n",
    "print(s//t)  # double division gives quioent before decimal\n",
    "print(s%t)   # modulus ---first remainder "
   ]
  },
  {
   "cell_type": "code",
   "execution_count": 49,
   "id": "c8d9b1b2",
   "metadata": {},
   "outputs": [
    {
     "data": {
      "text/plain": [
       "9"
      ]
     },
     "execution_count": 49,
     "metadata": {},
     "output_type": "execute_result"
    }
   ],
   "source": [
    "3**2    # power of 2  /raise to"
   ]
  },
  {
   "cell_type": "raw",
   "id": "c7bafdd4",
   "metadata": {},
   "source": [
    "2. Relational / comparison   >   >=   <   <=  ==   != not equal\n",
    "    output is always in boolean value True or false"
   ]
  },
  {
   "cell_type": "code",
   "execution_count": 17,
   "id": "1f1b6cba",
   "metadata": {},
   "outputs": [
    {
     "data": {
      "text/plain": [
       "True"
      ]
     },
     "execution_count": 17,
     "metadata": {},
     "output_type": "execute_result"
    }
   ],
   "source": [
    "10>=5"
   ]
  },
  {
   "cell_type": "code",
   "execution_count": 18,
   "id": "8a81a30c",
   "metadata": {},
   "outputs": [
    {
     "data": {
      "text/plain": [
       "False"
      ]
     },
     "execution_count": 18,
     "metadata": {},
     "output_type": "execute_result"
    }
   ],
   "source": [
    "10<=5"
   ]
  },
  {
   "cell_type": "code",
   "execution_count": 19,
   "id": "c39b32bd",
   "metadata": {},
   "outputs": [
    {
     "data": {
      "text/plain": [
       "False"
      ]
     },
     "execution_count": 19,
     "metadata": {},
     "output_type": "execute_result"
    }
   ],
   "source": [
    "10==5"
   ]
  },
  {
   "cell_type": "code",
   "execution_count": 21,
   "id": "875a29c7",
   "metadata": {},
   "outputs": [
    {
     "data": {
      "text/plain": [
       "True"
      ]
     },
     "execution_count": 21,
     "metadata": {},
     "output_type": "execute_result"
    }
   ],
   "source": [
    "10!=5"
   ]
  },
  {
   "cell_type": "code",
   "execution_count": 22,
   "id": "70357192",
   "metadata": {},
   "outputs": [
    {
     "data": {
      "text/plain": [
       "True"
      ]
     },
     "execution_count": 22,
     "metadata": {},
     "output_type": "execute_result"
    }
   ],
   "source": [
    "10!=5"
   ]
  },
  {
   "cell_type": "code",
   "execution_count": 23,
   "id": "58bcc28e",
   "metadata": {},
   "outputs": [
    {
     "data": {
      "text/plain": [
       "False"
      ]
     },
     "execution_count": 23,
     "metadata": {},
     "output_type": "execute_result"
    }
   ],
   "source": [
    "0.1+0.2 == 0.3"
   ]
  },
  {
   "cell_type": "raw",
   "id": "4fa7dea2",
   "metadata": {},
   "source": [
    "3.LOGICAL : True False in this normal arithmatic operation can be performed\n",
    "# OUTPUT of logical operator is always TRUE AND FALSE"
   ]
  },
  {
   "cell_type": "code",
   "execution_count": 24,
   "id": "1bd191c0",
   "metadata": {},
   "outputs": [
    {
     "name": "stdout",
     "output_type": "stream",
     "text": [
      "False\n",
      "True\n",
      "False\n",
      "True\n"
     ]
    }
   ],
   "source": [
    "X=True\n",
    "Y=False\n",
    "print(X and Y)\n",
    "print(X or Y)\n",
    "print(not X)\n",
    "print(not Y )"
   ]
  },
  {
   "cell_type": "code",
   "execution_count": 83,
   "id": "a22cfc60",
   "metadata": {},
   "outputs": [
    {
     "data": {
      "text/plain": [
       "2"
      ]
     },
     "execution_count": 83,
     "metadata": {},
     "output_type": "execute_result"
    }
   ],
   "source": [
    "True + True"
   ]
  },
  {
   "cell_type": "code",
   "execution_count": 84,
   "id": "63f38403",
   "metadata": {},
   "outputs": [
    {
     "data": {
      "text/plain": [
       "1"
      ]
     },
     "execution_count": 84,
     "metadata": {},
     "output_type": "execute_result"
    }
   ],
   "source": [
    "True*True"
   ]
  },
  {
   "cell_type": "code",
   "execution_count": 85,
   "id": "b8f48d1c",
   "metadata": {},
   "outputs": [
    {
     "data": {
      "text/plain": [
       "1"
      ]
     },
     "execution_count": 85,
     "metadata": {},
     "output_type": "execute_result"
    }
   ],
   "source": [
    "True+False"
   ]
  },
  {
   "cell_type": "code",
   "execution_count": 86,
   "id": "8949b4d7",
   "metadata": {},
   "outputs": [
    {
     "data": {
      "text/plain": [
       "0"
      ]
     },
     "execution_count": 86,
     "metadata": {},
     "output_type": "execute_result"
    }
   ],
   "source": [
    "True*False"
   ]
  },
  {
   "cell_type": "code",
   "execution_count": 88,
   "id": "467e4abe",
   "metadata": {},
   "outputs": [
    {
     "data": {
      "text/plain": [
       "1.0"
      ]
     },
     "execution_count": 88,
     "metadata": {},
     "output_type": "execute_result"
    }
   ],
   "source": [
    "True/True"
   ]
  },
  {
   "cell_type": "raw",
   "id": "a84ac039",
   "metadata": {},
   "source": [
    "4.Assignment Operator  =  += -= *= /="
   ]
  },
  {
   "cell_type": "code",
   "execution_count": 28,
   "id": "358a22ee",
   "metadata": {},
   "outputs": [
    {
     "data": {
      "text/plain": [
       "4"
      ]
     },
     "execution_count": 28,
     "metadata": {},
     "output_type": "execute_result"
    }
   ],
   "source": [
    "a=3\n",
    "a=a+1 \n",
    "a"
   ]
  },
  {
   "cell_type": "raw",
   "id": "d17b568f",
   "metadata": {},
   "source": [
    "# a=+1 is reverse in counting"
   ]
  },
  {
   "cell_type": "code",
   "execution_count": 29,
   "id": "74719106",
   "metadata": {},
   "outputs": [
    {
     "data": {
      "text/plain": [
       "3"
      ]
     },
     "execution_count": 29,
     "metadata": {},
     "output_type": "execute_result"
    }
   ],
   "source": [
    "a-=1\n",
    "a"
   ]
  },
  {
   "cell_type": "raw",
   "id": "d61af203",
   "metadata": {},
   "source": [
    "5.BITWISE OPERATOR  >> move right , << move left"
   ]
  },
  {
   "cell_type": "code",
   "execution_count": 31,
   "id": "a2bac704",
   "metadata": {},
   "outputs": [
    {
     "data": {
      "text/plain": [
       "8"
      ]
     },
     "execution_count": 31,
     "metadata": {},
     "output_type": "execute_result"
    }
   ],
   "source": [
    "a=16\n",
    "a>>1"
   ]
  },
  {
   "cell_type": "code",
   "execution_count": 32,
   "id": "9148ed07",
   "metadata": {},
   "outputs": [
    {
     "data": {
      "text/plain": [
       "512"
      ]
     },
     "execution_count": 32,
     "metadata": {},
     "output_type": "execute_result"
    }
   ],
   "source": [
    "a<<5"
   ]
  },
  {
   "cell_type": "code",
   "execution_count": 34,
   "id": "a08b38aa",
   "metadata": {},
   "outputs": [
    {
     "data": {
      "text/plain": [
       "4"
      ]
     },
     "execution_count": 34,
     "metadata": {},
     "output_type": "execute_result"
    }
   ],
   "source": [
    "a>>2"
   ]
  },
  {
   "cell_type": "raw",
   "id": "76f16fb2",
   "metadata": {},
   "source": [
    "6.MEMBERSHIP is used to verify content is availble or not in given function "
   ]
  },
  {
   "cell_type": "code",
   "execution_count": 35,
   "id": "7ccbaf16",
   "metadata": {},
   "outputs": [],
   "source": [
    "s=\"happy new year\""
   ]
  },
  {
   "cell_type": "code",
   "execution_count": 36,
   "id": "e8aa5af8",
   "metadata": {},
   "outputs": [
    {
     "data": {
      "text/plain": [
       "True"
      ]
     },
     "execution_count": 36,
     "metadata": {},
     "output_type": "execute_result"
    }
   ],
   "source": [
    "\"app\" in s"
   ]
  },
  {
   "cell_type": "code",
   "execution_count": 38,
   "id": "447ccfb9",
   "metadata": {},
   "outputs": [
    {
     "data": {
      "text/plain": [
       "False"
      ]
     },
     "execution_count": 38,
     "metadata": {},
     "output_type": "execute_result"
    }
   ],
   "source": [
    "\"what\" in s"
   ]
  },
  {
   "cell_type": "code",
   "execution_count": 39,
   "id": "a9238721",
   "metadata": {},
   "outputs": [
    {
     "data": {
      "text/plain": [
       "False"
      ]
     },
     "execution_count": 39,
     "metadata": {},
     "output_type": "execute_result"
    }
   ],
   "source": [
    "\"Year\" in s"
   ]
  },
  {
   "cell_type": "code",
   "execution_count": 40,
   "id": "511113f4",
   "metadata": {},
   "outputs": [
    {
     "data": {
      "text/plain": [
       "True"
      ]
     },
     "execution_count": 40,
     "metadata": {},
     "output_type": "execute_result"
    }
   ],
   "source": [
    "\"python\" not in s"
   ]
  },
  {
   "cell_type": "raw",
   "id": "9ac113e0",
   "metadata": {},
   "source": [
    "7. IDENTITY To check whether both mentioned vairables is same or not\n"
   ]
  },
  {
   "cell_type": "code",
   "execution_count": 41,
   "id": "c5f01d56",
   "metadata": {},
   "outputs": [],
   "source": [
    "x=\"python\" #each index is getting checked first using AND logic\n",
    "y=\"Python\""
   ]
  },
  {
   "cell_type": "code",
   "execution_count": 42,
   "id": "d2fc972e",
   "metadata": {},
   "outputs": [
    {
     "data": {
      "text/plain": [
       "False"
      ]
     },
     "execution_count": 42,
     "metadata": {},
     "output_type": "execute_result"
    }
   ],
   "source": [
    "x is y "
   ]
  },
  {
   "cell_type": "code",
   "execution_count": 43,
   "id": "e21b08f9",
   "metadata": {},
   "outputs": [
    {
     "data": {
      "text/plain": [
       "False"
      ]
     },
     "execution_count": 43,
     "metadata": {},
     "output_type": "execute_result"
    }
   ],
   "source": [
    "a1='ABCxyz'\n",
    "a1 is x"
   ]
  },
  {
   "cell_type": "code",
   "execution_count": 44,
   "id": "a4796032",
   "metadata": {},
   "outputs": [
    {
     "data": {
      "text/plain": [
       "True"
      ]
     },
     "execution_count": 44,
     "metadata": {},
     "output_type": "execute_result"
    }
   ],
   "source": [
    "a1 is not y"
   ]
  },
  {
   "cell_type": "code",
   "execution_count": 45,
   "id": "0f6eb2a6",
   "metadata": {},
   "outputs": [
    {
     "data": {
      "text/plain": [
       "True"
      ]
     },
     "execution_count": 45,
     "metadata": {},
     "output_type": "execute_result"
    }
   ],
   "source": [
    "a1 is not x"
   ]
  },
  {
   "cell_type": "code",
   "execution_count": 141,
   "id": "c3431c1e",
   "metadata": {},
   "outputs": [
    {
     "data": {
      "text/plain": [
       "14"
      ]
     },
     "execution_count": 141,
     "metadata": {},
     "output_type": "execute_result"
    }
   ],
   "source": [
    "len(s)"
   ]
  },
  {
   "cell_type": "code",
   "execution_count": 50,
   "id": "88fcc972",
   "metadata": {},
   "outputs": [],
   "source": [
    "w=  12535        # is wrong it is interger\n",
    "w1= \"12535\"       # correct is string"
   ]
  },
  {
   "cell_type": "code",
   "execution_count": 56,
   "id": "9e1fa465",
   "metadata": {},
   "outputs": [
    {
     "name": "stdout",
     "output_type": "stream",
     "text": [
      "10\n"
     ]
    },
    {
     "data": {
      "text/plain": [
       "str"
      ]
     },
     "execution_count": 56,
     "metadata": {},
     "output_type": "execute_result"
    }
   ],
   "source": [
    "print(len(w))\n",
    "type(w)"
   ]
  },
  {
   "cell_type": "code",
   "execution_count": 59,
   "id": "b947ed51",
   "metadata": {},
   "outputs": [
    {
     "name": "stdout",
     "output_type": "stream",
     "text": [
      "5\n"
     ]
    },
    {
     "data": {
      "text/plain": [
       "str"
      ]
     },
     "execution_count": 59,
     "metadata": {},
     "output_type": "execute_result"
    }
   ],
   "source": [
    "print(len(w1))\n",
    "type(w1)"
   ]
  }
 ],
 "metadata": {
  "kernelspec": {
   "display_name": "Python 3 (ipykernel)",
   "language": "python",
   "name": "python3"
  },
  "language_info": {
   "codemirror_mode": {
    "name": "ipython",
    "version": 3
   },
   "file_extension": ".py",
   "mimetype": "text/x-python",
   "name": "python",
   "nbconvert_exporter": "python",
   "pygments_lexer": "ipython3",
   "version": "3.9.12"
  }
 },
 "nbformat": 4,
 "nbformat_minor": 5
}
