{
 "cells": [
  {
   "cell_type": "markdown",
   "id": "6117381f",
   "metadata": {},
   "source": [
    "    TUPLE METHODS\n",
    "1. Tuple method represented by  round bracket t()\n",
    "2. In tuple coder can not make any changes later on once created item assignment is not possible in  \n",
    "   tuple later on\n",
    "3. Tuple accepts all data types int,str,float,list,tuple,dictionary,boolean.\n",
    "4. majorly list and dictionary is used .IN tuple multiple elements can be added but changes are not  \n",
    "   possible later on thats why least used."
   ]
  },
  {
   "cell_type": "code",
   "execution_count": 1,
   "id": "59b4c634",
   "metadata": {},
   "outputs": [
    {
     "data": {
      "text/plain": [
       "tuple"
      ]
     },
     "execution_count": 1,
     "metadata": {},
     "output_type": "execute_result"
    }
   ],
   "source": [
    "t=()\n",
    "type(t)"
   ]
  },
  {
   "cell_type": "code",
   "execution_count": 2,
   "id": "e94f681d",
   "metadata": {},
   "outputs": [
    {
     "data": {
      "text/plain": [
       "int"
      ]
     },
     "execution_count": 2,
     "metadata": {},
     "output_type": "execute_result"
    }
   ],
   "source": [
    "t=(12)  #type is int  single element with tuple can not be called as tuple\n",
    "type(t)"
   ]
  },
  {
   "cell_type": "code",
   "execution_count": 3,
   "id": "c027300a",
   "metadata": {},
   "outputs": [
    {
     "data": {
      "text/plain": [
       "tuple"
      ]
     },
     "execution_count": 3,
     "metadata": {},
     "output_type": "execute_result"
    }
   ],
   "source": [
    "t=(10,)  # add coma in tuple with single element\n",
    "type(t)"
   ]
  },
  {
   "cell_type": "code",
   "execution_count": 6,
   "id": "fc3ecc73",
   "metadata": {},
   "outputs": [],
   "source": [
    "t=('python',True,12.23,50,6+6j,(8,5,6),[85,8],{26,5},{\"lodj\":\"khsj\"})"
   ]
  },
  {
   "cell_type": "code",
   "execution_count": 7,
   "id": "d5369b3b",
   "metadata": {},
   "outputs": [
    {
     "data": {
      "text/plain": [
       "9"
      ]
     },
     "execution_count": 7,
     "metadata": {},
     "output_type": "execute_result"
    }
   ],
   "source": [
    "len(t)"
   ]
  },
  {
   "cell_type": "code",
   "execution_count": 8,
   "id": "3c0bca7b",
   "metadata": {},
   "outputs": [
    {
     "data": {
      "text/plain": [
       "({'lodj': 'khsj'},\n",
       " {5, 26},\n",
       " [85, 8],\n",
       " (8, 5, 6),\n",
       " (6+6j),\n",
       " 50,\n",
       " 12.23,\n",
       " True,\n",
       " 'python')"
      ]
     },
     "execution_count": 8,
     "metadata": {},
     "output_type": "execute_result"
    }
   ],
   "source": [
    "t[::-1]  #reverse"
   ]
  },
  {
   "cell_type": "markdown",
   "id": "edb88dee",
   "metadata": {},
   "source": [
    "1.to check index of a value"
   ]
  },
  {
   "cell_type": "code",
   "execution_count": 9,
   "id": "63333100",
   "metadata": {},
   "outputs": [
    {
     "data": {
      "text/plain": [
       "3"
      ]
     },
     "execution_count": 9,
     "metadata": {},
     "output_type": "execute_result"
    }
   ],
   "source": [
    "t.index(50)"
   ]
  },
  {
   "cell_type": "markdown",
   "id": "6757f0cb",
   "metadata": {},
   "source": [
    "2.tuple multiplication"
   ]
  },
  {
   "cell_type": "code",
   "execution_count": 10,
   "id": "d2598639",
   "metadata": {},
   "outputs": [
    {
     "data": {
      "text/plain": [
       "('python',\n",
       " True,\n",
       " 12.23,\n",
       " 50,\n",
       " (6+6j),\n",
       " (8, 5, 6),\n",
       " [85, 8],\n",
       " {5, 26},\n",
       " {'lodj': 'khsj'},\n",
       " 'python',\n",
       " True,\n",
       " 12.23,\n",
       " 50,\n",
       " (6+6j),\n",
       " (8, 5, 6),\n",
       " [85, 8],\n",
       " {5, 26},\n",
       " {'lodj': 'khsj'})"
      ]
     },
     "execution_count": 10,
     "metadata": {},
     "output_type": "execute_result"
    }
   ],
   "source": [
    "t*2"
   ]
  },
  {
   "cell_type": "markdown",
   "id": "a3c2ef3d",
   "metadata": {},
   "source": [
    "3.count method"
   ]
  },
  {
   "cell_type": "code",
   "execution_count": 11,
   "id": "93ae0172",
   "metadata": {},
   "outputs": [
    {
     "data": {
      "text/plain": [
       "1"
      ]
     },
     "execution_count": 11,
     "metadata": {},
     "output_type": "execute_result"
    }
   ],
   "source": [
    "t.count(True)"
   ]
  },
  {
   "cell_type": "markdown",
   "id": "1533aee2",
   "metadata": {},
   "source": [
    "4.sorted function: all elements should be either int or string to compare and sorting this is python      function"
   ]
  },
  {
   "cell_type": "code",
   "execution_count": 12,
   "id": "aa3c0e2c",
   "metadata": {},
   "outputs": [
    {
     "ename": "TypeError",
     "evalue": "'<' not supported between instances of 'bool' and 'str'",
     "output_type": "error",
     "traceback": [
      "\u001b[1;31m---------------------------------------------------------------------------\u001b[0m",
      "\u001b[1;31mTypeError\u001b[0m                                 Traceback (most recent call last)",
      "Input \u001b[1;32mIn [12]\u001b[0m, in \u001b[0;36m<cell line: 1>\u001b[1;34m()\u001b[0m\n\u001b[1;32m----> 1\u001b[0m \u001b[38;5;28;43msorted\u001b[39;49m\u001b[43m(\u001b[49m\u001b[43mt\u001b[49m\u001b[43m)\u001b[49m\n",
      "\u001b[1;31mTypeError\u001b[0m: '<' not supported between instances of 'bool' and 'str'"
     ]
    }
   ],
   "source": [
    "sorted(t) "
   ]
  },
  {
   "cell_type": "code",
   "execution_count": 13,
   "id": "989b994a",
   "metadata": {},
   "outputs": [
    {
     "data": {
      "text/plain": [
       "[1, 4, 4, 6, 8.5, 47, 56, 1665, 101210]"
      ]
     },
     "execution_count": 13,
     "metadata": {},
     "output_type": "execute_result"
    }
   ],
   "source": [
    "x=(1,56,8.5,4,4,6,47,1665,101210)\n",
    "sorted(x)   # look at the output tuple converted into list"
   ]
  },
  {
   "cell_type": "markdown",
   "id": "4e25d3a7",
   "metadata": {},
   "source": [
    "5.MIN MAX Function"
   ]
  },
  {
   "cell_type": "code",
   "execution_count": 15,
   "id": "267395b2",
   "metadata": {},
   "outputs": [],
   "source": [
    "x=(1,56,8.5,4,4,6,47,1665,101210)"
   ]
  },
  {
   "cell_type": "code",
   "execution_count": 16,
   "id": "0a7842c3",
   "metadata": {},
   "outputs": [
    {
     "data": {
      "text/plain": [
       "1"
      ]
     },
     "execution_count": 16,
     "metadata": {},
     "output_type": "execute_result"
    }
   ],
   "source": [
    "min(x)"
   ]
  },
  {
   "cell_type": "code",
   "execution_count": 17,
   "id": "a99f178d",
   "metadata": {},
   "outputs": [
    {
     "data": {
      "text/plain": [
       "101210"
      ]
     },
     "execution_count": 17,
     "metadata": {},
     "output_type": "execute_result"
    }
   ],
   "source": [
    "max(x)"
   ]
  }
 ],
 "metadata": {
  "kernelspec": {
   "display_name": "Python 3 (ipykernel)",
   "language": "python",
   "name": "python3"
  },
  "language_info": {
   "codemirror_mode": {
    "name": "ipython",
    "version": 3
   },
   "file_extension": ".py",
   "mimetype": "text/x-python",
   "name": "python",
   "nbconvert_exporter": "python",
   "pygments_lexer": "ipython3",
   "version": "3.9.12"
  }
 },
 "nbformat": 4,
 "nbformat_minor": 5
}
