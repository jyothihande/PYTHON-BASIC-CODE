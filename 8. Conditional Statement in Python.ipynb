{
 "cells": [
  {
   "cell_type": "markdown",
   "id": "cccdf6a0",
   "metadata": {},
   "source": [
    "# CONDISTIONAL STATEMENT"
   ]
  },
  {
   "cell_type": "markdown",
   "id": "eb55d95e",
   "metadata": {},
   "source": [
    "1. For 1 condition use if\n",
    "2. For 2 condition use if else\n",
    "3. For 3 and more condition use if elif else\n",
    "4. Indentation is very important in python"
   ]
  },
  {
   "cell_type": "markdown",
   "id": "d5ac73cf",
   "metadata": {},
   "source": [
    "# To check the number is positive or negative or zero using if-else"
   ]
  },
  {
   "cell_type": "code",
   "execution_count": 1,
   "id": "0b4621a8",
   "metadata": {},
   "outputs": [
    {
     "name": "stdout",
     "output_type": "stream",
     "text": [
      "A is positive\n"
     ]
    }
   ],
   "source": [
    "#one condition\n",
    "a=10\n",
    "if a>0:\n",
    "    print(\"A is positive\")\n",
    "    "
   ]
  },
  {
   "cell_type": "code",
   "execution_count": 2,
   "id": "733117f2",
   "metadata": {},
   "outputs": [
    {
     "name": "stdout",
     "output_type": "stream",
     "text": [
      "a is negative\n"
     ]
    }
   ],
   "source": [
    "#two condition code\n",
    "a=-11\n",
    "if a>0:\n",
    "    print(\"a is positive\")\n",
    "else:\n",
    "    print(\"a is negative\")\n",
    "    "
   ]
  },
  {
   "cell_type": "code",
   "execution_count": 3,
   "id": "db6e189b",
   "metadata": {},
   "outputs": [
    {
     "name": "stdout",
     "output_type": "stream",
     "text": [
      "a is a zero\n"
     ]
    }
   ],
   "source": [
    "a=0\n",
    "if a>0:\n",
    "    print(\"a is positve\")\n",
    "elif a==0:\n",
    "    print(\"a is a zero\")\n",
    "else:\n",
    "    (\"a is a negative number\")"
   ]
  },
  {
   "cell_type": "code",
   "execution_count": 4,
   "id": "fa86178c",
   "metadata": {},
   "outputs": [
    {
     "name": "stdout",
     "output_type": "stream",
     "text": [
      "a is a positive number\n"
     ]
    }
   ],
   "source": [
    "a=12\n",
    "if a>0:\n",
    "    print('a is a positive number')\n",
    "elif a==0:   # condition is imp for elif\n",
    "        print('a is zero')\n",
    "elif a==12:\n",
    "    print('a is twelve')\n",
    "else:\n",
    "    print('a is a negative number')\n",
    "    "
   ]
  },
  {
   "cell_type": "markdown",
   "id": "34335619",
   "metadata": {},
   "source": [
    "IMPORTANT CODE"
   ]
  },
  {
   "cell_type": "code",
   "execution_count": 5,
   "id": "4713f28f",
   "metadata": {},
   "outputs": [
    {
     "name": "stdout",
     "output_type": "stream",
     "text": [
      "enter the number:  -9\n",
      "a is a negative number\n"
     ]
    }
   ],
   "source": [
    "a=int(input(\"enter the number:  \"))\n",
    "if a>0:\n",
    "    print('a is a positive number')\n",
    "elif a==0:\n",
    "    print('a is zero')\n",
    "else:\n",
    "    print('a is a negative number')"
   ]
  },
  {
   "cell_type": "markdown",
   "id": "d0415596",
   "metadata": {},
   "source": [
    "# try this by adding each number in the list"
   ]
  },
  {
   "cell_type": "code",
   "execution_count": 6,
   "id": "2314ab75",
   "metadata": {},
   "outputs": [],
   "source": [
    "positive_numbers=[]  #list for positve and negative numbers\n",
    "negative_numbers=[]"
   ]
  },
  {
   "cell_type": "code",
   "execution_count": 10,
   "id": "3ce64be3",
   "metadata": {},
   "outputs": [
    {
     "name": "stdout",
     "output_type": "stream",
     "text": [
      "enter the number:  -8\n",
      "a is a negative number\n"
     ]
    }
   ],
   "source": [
    "a=int(input(\"enter the number:  \"))\n",
    "if a>0:\n",
    "    print('a is a positive number')\n",
    "    positive_numbers.append(a)\n",
    "elif a==0:\n",
    "    print('a is zero')\n",
    "else:\n",
    "    print('a is a negative number')\n",
    "    negative_numbers.append(a)\n"
   ]
  },
  {
   "cell_type": "code",
   "execution_count": 11,
   "id": "c6849639",
   "metadata": {},
   "outputs": [
    {
     "data": {
      "text/plain": [
       "[63]"
      ]
     },
     "execution_count": 11,
     "metadata": {},
     "output_type": "execute_result"
    }
   ],
   "source": [
    "positive_numbers"
   ]
  },
  {
   "cell_type": "code",
   "execution_count": 19,
   "id": "14a58fb7",
   "metadata": {},
   "outputs": [
    {
     "data": {
      "text/plain": [
       "[-8, -41]"
      ]
     },
     "execution_count": 19,
     "metadata": {},
     "output_type": "execute_result"
    }
   ],
   "source": [
    "negative_numbers"
   ]
  },
  {
   "cell_type": "markdown",
   "id": "a3067259",
   "metadata": {},
   "source": [
    " ***   OR   ***"
   ]
  },
  {
   "cell_type": "code",
   "execution_count": 16,
   "id": "cc13e985",
   "metadata": {},
   "outputs": [
    {
     "name": "stdout",
     "output_type": "stream",
     "text": [
      "enter the number:  -41\n",
      "a is a negative number\n"
     ]
    }
   ],
   "source": [
    "a=int(input(\"enter the number:  \"))\n",
    "if a<0:\n",
    "    negative_numbers.append(a)\n",
    "    print('a is a negative number')\n",
    "elif a==0:\n",
    "    print('a is zero')\n",
    "else:\n",
    "    positive_numbers.append(a)\n",
    "    print('a is a positive number')\n",
    "    "
   ]
  },
  {
   "cell_type": "code",
   "execution_count": 17,
   "id": "220bdd70",
   "metadata": {},
   "outputs": [
    {
     "data": {
      "text/plain": [
       "[63, 65]"
      ]
     },
     "execution_count": 17,
     "metadata": {},
     "output_type": "execute_result"
    }
   ],
   "source": [
    "positive_numbers"
   ]
  },
  {
   "cell_type": "code",
   "execution_count": 18,
   "id": "62898745",
   "metadata": {},
   "outputs": [
    {
     "data": {
      "text/plain": [
       "[-8, -41]"
      ]
     },
     "execution_count": 18,
     "metadata": {},
     "output_type": "execute_result"
    }
   ],
   "source": [
    "negative_numbers"
   ]
  },
  {
   "cell_type": "markdown",
   "id": "2c0fb941",
   "metadata": {},
   "source": [
    "# comparision of two numbers < >"
   ]
  },
  {
   "cell_type": "code",
   "execution_count": 20,
   "id": "9cc0b9b8",
   "metadata": {},
   "outputs": [
    {
     "name": "stdout",
     "output_type": "stream",
     "text": [
      "enter the number:  5\n",
      "enter the number:  -2\n",
      "a is greater than b\n"
     ]
    }
   ],
   "source": [
    "a=int(input(\"enter the number:  \"))\n",
    "b=int(input(\"enter the number:  \"))\n",
    "if a>b:\n",
    "    print('a is greater than b')\n",
    "elif a==b: \n",
    "    print(\"a equal to b\")\n",
    "else:\n",
    "    print(\"b is greater than a\")"
   ]
  },
  {
   "cell_type": "markdown",
   "id": "cb04c3dd",
   "metadata": {},
   "source": [
    "# code for odd even"
   ]
  },
  {
   "cell_type": "code",
   "execution_count": 21,
   "id": "221d9ec4",
   "metadata": {},
   "outputs": [
    {
     "name": "stdout",
     "output_type": "stream",
     "text": [
      "enter the number:  15\n",
      "number is odd \n"
     ]
    }
   ],
   "source": [
    "a=int(input(\"enter the number:  \"))\n",
    "if a%2==0:\n",
    "    print(\"number is even \")\n",
    "else:\n",
    "    print(\"number is odd \")"
   ]
  },
  {
   "cell_type": "code",
   "execution_count": 22,
   "id": "7015caf7",
   "metadata": {},
   "outputs": [
    {
     "name": "stdout",
     "output_type": "stream",
     "text": [
      "enter the number: 65\n",
      "number is odd \n"
     ]
    }
   ],
   "source": [
    "c=int(input(\"enter the number: \"))\n",
    "if c%2!=0:\n",
    "    print(\"number is odd \")\n",
    "else:\n",
    "    print(\"number is even \")"
   ]
  },
  {
   "cell_type": "code",
   "execution_count": 23,
   "id": "1bcaff81",
   "metadata": {},
   "outputs": [
    {
     "name": "stdout",
     "output_type": "stream",
     "text": [
      "enter the number: 22\n",
      "number is even \n"
     ]
    }
   ],
   "source": [
    "c=int(input(\"enter the number: \"))\n",
    "if c%2!=0:\n",
    "    print(\"number is odd \")\n",
    "else:\n",
    "    print(\"number is even \")"
   ]
  },
  {
   "cell_type": "markdown",
   "id": "e881a9a8",
   "metadata": {},
   "source": [
    "if elif else code a is greater equal or less using condition"
   ]
  },
  {
   "cell_type": "code",
   "execution_count": 24,
   "id": "fdb17264",
   "metadata": {},
   "outputs": [
    {
     "name": "stdout",
     "output_type": "stream",
     "text": [
      "A is positive\n"
     ]
    }
   ],
   "source": [
    "a=15\n",
    "if a>=0:\n",
    "    if a>0:\n",
    "        print(\"A is positive\")\n",
    "    else: \n",
    "        print(\"A is zero\")\n",
    "else:\n",
    "    print(\"A is negative\")\n",
    "    "
   ]
  },
  {
   "cell_type": "code",
   "execution_count": 25,
   "id": "1c35a74e",
   "metadata": {},
   "outputs": [
    {
     "name": "stdout",
     "output_type": "stream",
     "text": [
      "A is negative\n"
     ]
    }
   ],
   "source": [
    "a=-5\n",
    "if a>=0:\n",
    "    if a>0:\n",
    "        print(\"A is positive\")\n",
    "    else: \n",
    "        print(\"A is zero\")\n",
    "else:\n",
    "    print(\"A is negative\")\n",
    "    "
   ]
  },
  {
   "cell_type": "code",
   "execution_count": 26,
   "id": "50e2be75",
   "metadata": {},
   "outputs": [
    {
     "name": "stdout",
     "output_type": "stream",
     "text": [
      "A is zero\n"
     ]
    }
   ],
   "source": [
    "a=0\n",
    "if a>=0:\n",
    "    if a>0:\n",
    "        print(\"A is positive\")\n",
    "    else: \n",
    "        print(\"A is zero\")\n",
    "else:\n",
    "    print(\"A is negative\")\n",
    "    "
   ]
  },
  {
   "cell_type": "markdown",
   "id": "ed5d0d8e",
   "metadata": {},
   "source": [
    "\n",
    "# PASS CONTINUE BREAK STATEMENT"
   ]
  },
  {
   "cell_type": "markdown",
   "id": "7ae4593e",
   "metadata": {},
   "source": [
    "1. USE of pass only in If statment condition\n",
    "2. USE of break and constinue only in loop statement"
   ]
  },
  {
   "cell_type": "code",
   "execution_count": 28,
   "id": "9b0fcff2",
   "metadata": {},
   "outputs": [
    {
     "name": "stdout",
     "output_type": "stream",
     "text": [
      "enter the number:  25\n",
      "A is greater than 10\n",
      "A is greater 20\n"
     ]
    }
   ],
   "source": [
    "a=int(input(\"enter the number:  \"))\n",
    "if a>=10:\n",
    "    if a>10:\n",
    "        print(\"A is greater than 10\")\n",
    "        if a>20:\n",
    "            print(\"A is greater 20\")\n",
    "        else:\n",
    "            print(\"A is less than 20\")\n",
    "    else: \n",
    "        print(\"A is equal to ten\")\n",
    "else:\n",
    "    print(\"A is less than 10\")\n",
    "    "
   ]
  },
  {
   "cell_type": "markdown",
   "id": "5f9f0891",
   "metadata": {},
   "source": [
    "# Code for password and username"
   ]
  },
  {
   "cell_type": "code",
   "execution_count": 29,
   "id": "e1df5931",
   "metadata": {},
   "outputs": [
    {
     "name": "stdout",
     "output_type": "stream",
     "text": [
      "enter your name: Jyothi\n",
      "try again\n"
     ]
    }
   ],
   "source": [
    "username=input(\"enter your name: \")\n",
    "if username==\"jyothi\":\n",
    "    print(\"username verified\")\n",
    "else:\n",
    "    print(\"try again\")"
   ]
  },
  {
   "cell_type": "code",
   "execution_count": 30,
   "id": "84db5ff1",
   "metadata": {},
   "outputs": [
    {
     "name": "stdout",
     "output_type": "stream",
     "text": [
      "enter your name: jyothi\n",
      "username verified\n"
     ]
    }
   ],
   "source": [
    "username=input(\"enter your name: \")\n",
    "if username==\"jyothi\" or username==\"JYOTHI\":\n",
    "    print(\"username verified\")\n",
    "else:\n",
    "    print(\"try again\")"
   ]
  },
  {
   "cell_type": "code",
   "execution_count": 31,
   "id": "7fb704ad",
   "metadata": {},
   "outputs": [
    {
     "name": "stdout",
     "output_type": "stream",
     "text": [
      "enter your name: Jyothi\n",
      "enter passward: 1234\n",
      "try again\n"
     ]
    }
   ],
   "source": [
    "username=input(\"enter your name: \")\n",
    "password=input(\"enter passward: \")\n",
    "if username==\"jyothi\"and password==\"1234\":\n",
    "    print(\"username and password verified\")\n",
    "else:\n",
    "    print(\"try again\")"
   ]
  },
  {
   "cell_type": "markdown",
   "id": "d99aa791",
   "metadata": {},
   "source": [
    "TO AVOID ERROR USE a.lower to convert at starting"
   ]
  },
  {
   "cell_type": "code",
   "execution_count": 32,
   "id": "a8b1f62d",
   "metadata": {},
   "outputs": [
    {
     "name": "stdout",
     "output_type": "stream",
     "text": [
      "enter your name: JYOTHI\n",
      "enter passward: 1234\n",
      "username and password verified\n"
     ]
    }
   ],
   "source": [
    "username=input(\"enter your name: \")\n",
    "password=input(\"enter passward: \")\n",
    "username=username.lower() ## s.upper()\n",
    "if username==\"jyothi\"and password==\"1234\":\n",
    "    print(\"username and password verified\")\n",
    "else:\n",
    "    print(\"try again\")"
   ]
  },
  {
   "cell_type": "code",
   "execution_count": 33,
   "id": "53735739",
   "metadata": {},
   "outputs": [
    {
     "name": "stdout",
     "output_type": "stream",
     "text": [
      "enter your name: Jyo\n",
      "enter passward: 1234\n",
      "try again\n"
     ]
    }
   ],
   "source": [
    "username=input(\"enter your name: \")\n",
    "password=input(\"enter passward: \")\n",
    "username=username.lower()\n",
    "if username==\"jyothi\"and password==\"1234\":\n",
    "    print(\"username and password verified\")\n",
    "else:\n",
    "    print(\"try again\")"
   ]
  },
  {
   "cell_type": "markdown",
   "id": "cc7b9d6e",
   "metadata": {},
   "source": [
    "# TO CHECK TYPE OF INPUT"
   ]
  },
  {
   "cell_type": "code",
   "execution_count": 41,
   "id": "c6b37fc2",
   "metadata": {},
   "outputs": [
    {
     "name": "stdout",
     "output_type": "stream",
     "text": [
      "enter the input: 52\n",
      "input in number\n"
     ]
    }
   ],
   "source": [
    "a=int(input(\"enter the input: \"))        #here output is by default string\n",
    "if type(a)==int or type(a)==float:\n",
    "    print(\"input in number\")\n",
    "elif type(a)==str:\n",
    "    print(\"input is string\")\n",
    "else:\n",
    "    print(\"invalid input\")\n",
    "    "
   ]
  },
  {
   "cell_type": "code",
   "execution_count": 40,
   "id": "56c03332",
   "metadata": {},
   "outputs": [
    {
     "name": "stdout",
     "output_type": "stream",
     "text": [
      "Enter number and hit enter52\n",
      "User input is Number\n",
      "Enter number and hit enter\"heelo\"\n",
      "User input is string\n"
     ]
    }
   ],
   "source": [
    "def check_is_digit(input_str):\n",
    "    if input_str.strip().isdigit():\n",
    "        print(\"User input is Number\")\n",
    "    else:\n",
    "        print(\"User input is string\")\n",
    "\n",
    "\n",
    "num1 = input(\"Enter number and hit enter\")\n",
    "check_is_digit(num1)\n",
    "\n",
    "num2 = input(\"Enter number and hit enter\")\n",
    "check_is_digit(num2)"
   ]
  },
  {
   "cell_type": "markdown",
   "id": "647057bf",
   "metadata": {},
   "source": [
    "# to check lengh of the input phone number"
   ]
  },
  {
   "cell_type": "code",
   "execution_count": 1,
   "id": "93ebbecb",
   "metadata": {},
   "outputs": [
    {
     "name": "stdout",
     "output_type": "stream",
     "text": [
      "enter phone number :    123456785\n",
      "invalid\n"
     ]
    }
   ],
   "source": [
    "x=(input(\"enter phone number :    \"))\n",
    "if len(x)==10:\n",
    "    print(\"correct\")\n",
    "else:\n",
    "    print(\"invalid\")\n"
   ]
  }
 ],
 "metadata": {
  "kernelspec": {
   "display_name": "Python 3 (ipykernel)",
   "language": "python",
   "name": "python3"
  },
  "language_info": {
   "codemirror_mode": {
    "name": "ipython",
    "version": 3
   },
   "file_extension": ".py",
   "mimetype": "text/x-python",
   "name": "python",
   "nbconvert_exporter": "python",
   "pygments_lexer": "ipython3",
   "version": "3.9.12"
  }
 },
 "nbformat": 4,
 "nbformat_minor": 5
}
