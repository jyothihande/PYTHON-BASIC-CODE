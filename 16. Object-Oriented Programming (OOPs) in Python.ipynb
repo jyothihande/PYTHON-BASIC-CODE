{
 "cells": [
  {
   "cell_type": "code",
   "execution_count": null,
   "id": "a338b3cd",
   "metadata": {},
   "outputs": [],
   "source": [
    "What is object and classes?\n",
    "classes have multiple functions with multi vairables which avoids calling of single-single vairable.\n",
    "\n",
    "\n",
    "class==Vehicle\n",
    "auto,bike,car,truck,train,metro,laptop=object of vehicle\n",
    "--features like--fuel capacity,engine working,seat capacity,number of typers\n",
    "\n",
    "s=\"string\" --- class(string,list,tuple,set,dictionary)\n",
    "s.strip() --- s is object-- '.strip' is method\n",
    "HERE string is CLASS\n",
    "s. is object/ blue print of class\n",
    ".strip is method\n",
    "\n",
    "len() is function without/outside class.\n",
    "\n",
    "function in class is called as a method."
   ]
  },
  {
   "cell_type": "code",
   "execution_count": null,
   "id": "5f80cabd",
   "metadata": {},
   "outputs": [],
   "source": [
    "TYPES OF CLASSES\n",
    "1.classes with parameter\n",
    "2.classes with default parameter\n",
    "3.classes with no parameter"
   ]
  },
  {
   "cell_type": "code",
   "execution_count": 2,
   "id": "62f7d643",
   "metadata": {},
   "outputs": [
    {
     "name": "stdout",
     "output_type": "stream",
     "text": [
      "this is a function\n"
     ]
    }
   ],
   "source": [
    "def func_name(): # function without parameter\n",
    "    print(\"this is a function\")\n",
    "func_name()"
   ]
  },
  {
   "cell_type": "code",
   "execution_count": null,
   "id": "4a85ccd3",
   "metadata": {},
   "outputs": [],
   "source": [
    "SYNTAX FOR CLASS:\n",
    "create class with object ,make sure that class name first letter is capital letter\n",
    "then create/define a function\n",
    "call (print) \n",
    "self is default parameter in each object."
   ]
  },
  {
   "cell_type": "code",
   "execution_count": 1,
   "id": "5c456f68",
   "metadata": {},
   "outputs": [],
   "source": [
    "class Myclass(): # () is optional first letter must in capital \n",
    "    def func_name(self): # function without parameter-- self vairable\n",
    "        print(\"this is a function\")\n",
    "    def func_name1(self): # function without parameter-- function created\n",
    "        print(\"this is second function\")\n",
    "    def name1(self,first,last):\n",
    "        self.first=first\n",
    "        self.last=last\n",
    "        print(\"enter your first name:  \",self.first)\n",
    "        print(\"enter your last name:   \",self.last)\n",
    "        "
   ]
  },
  {
   "cell_type": "code",
   "execution_count": 3,
   "id": "88927eae",
   "metadata": {},
   "outputs": [
    {
     "name": "stdout",
     "output_type": "stream",
     "text": [
      "this is a function\n",
      "this is second function\n",
      "enter your first name:   Jhon\n",
      "enter your last name:    pol\n"
     ]
    }
   ],
   "source": [
    "c=Myclass() # C is vairble and stores all data and act as  object of class my_class\n",
    "c.func_name() #function call\n",
    "c.func_name1()\n",
    "c.name1(\"Jhon\",\"pol\")"
   ]
  },
  {
   "cell_type": "code",
   "execution_count": 8,
   "id": "f202858b",
   "metadata": {},
   "outputs": [
    {
     "data": {
      "text/plain": [
       "'pol'"
      ]
     },
     "execution_count": 8,
     "metadata": {},
     "output_type": "execute_result"
    }
   ],
   "source": [
    "c.last"
   ]
  },
  {
   "cell_type": "code",
   "execution_count": 9,
   "id": "b870d1af",
   "metadata": {
    "scrolled": false
   },
   "outputs": [
    {
     "name": "stdout",
     "output_type": "stream",
     "text": [
      "enter your first name:   yjoy\n",
      "enter your last name:    iherg\n"
     ]
    }
   ],
   "source": [
    "c.name1(\"yjoy\",\"iherg\")"
   ]
  },
  {
   "cell_type": "code",
   "execution_count": null,
   "id": "a4799d16",
   "metadata": {},
   "outputs": [],
   "source": [
    "--Default function in classes in python\n",
    "__init__ initialiasation  double under score\n",
    "_init_ single underscore normal function"
   ]
  },
  {
   "cell_type": "code",
   "execution_count": 4,
   "id": "7d5886a7",
   "metadata": {},
   "outputs": [
    {
     "name": "stdout",
     "output_type": "stream",
     "text": [
      "successfully logged in \n"
     ]
    }
   ],
   "source": [
    "class customer_information():\n",
    "    \"This class is used to get customer info \"\n",
    "    def __init__(self,name,contact,email):\n",
    "        self.name=name\n",
    "        self.contact=contact\n",
    "        self.email=email\n",
    "        print(\"successfully logged in \")\n",
    "    def name_contact(self):\n",
    "        \"this function gives name and contact\"\n",
    "        print(\"enter your name:  \",self.name)\n",
    "        print(\"enter your contact:   \",self.contact)\n",
    "    def email(self):\n",
    "        \"this functin gives email\"\n",
    "        print(\"enter your email:  \",self.email)\n",
    "        \n",
    "info=customer_information(\"jiya\",563214,\"abc@gmail.com\")      "
   ]
  },
  {
   "cell_type": "code",
   "execution_count": 5,
   "id": "eab23a9f",
   "metadata": {},
   "outputs": [
    {
     "data": {
      "text/plain": [
       "'abc@gmail.com'"
      ]
     },
     "execution_count": 5,
     "metadata": {},
     "output_type": "execute_result"
    }
   ],
   "source": [
    "info.email"
   ]
  },
  {
   "cell_type": "code",
   "execution_count": 6,
   "id": "46fb725e",
   "metadata": {},
   "outputs": [
    {
     "data": {
      "text/plain": [
       "'jiya'"
      ]
     },
     "execution_count": 6,
     "metadata": {},
     "output_type": "execute_result"
    }
   ],
   "source": [
    "info.name"
   ]
  },
  {
   "cell_type": "code",
   "execution_count": 7,
   "id": "76a3732c",
   "metadata": {},
   "outputs": [
    {
     "name": "stdout",
     "output_type": "stream",
     "text": [
      "enter your name:   jiya\n",
      "enter your contact:    563214\n"
     ]
    }
   ],
   "source": [
    "info.name_contact()"
   ]
  },
  {
   "cell_type": "code",
   "execution_count": null,
   "id": "9839595a",
   "metadata": {},
   "outputs": [],
   "source": [
    "--CLASSES with parameter"
   ]
  },
  {
   "cell_type": "code",
   "execution_count": 10,
   "id": "ec41786a",
   "metadata": {},
   "outputs": [],
   "source": [
    "class Rectangle():\n",
    "    def __init__(self,length,breadth):\n",
    "        self.length=length\n",
    "        self.breadth=breadth\n",
    "    def output(self):\n",
    "        print(\"Length of the rectangle is : \",self.length)\n",
    "        print(\"breadth of the rectangle is: \",self.breadth)\n",
    "        print(\"area of rectangle =\",self.length*self.breadth)\n",
    "        print(\"parameter of rectangle = \",self.length+self.breadth+self.length+self.breadth)   "
   ]
  },
  {
   "cell_type": "code",
   "execution_count": 11,
   "id": "28d33f8b",
   "metadata": {},
   "outputs": [],
   "source": [
    "r=Rectangle(20,4)"
   ]
  },
  {
   "cell_type": "code",
   "execution_count": 12,
   "id": "309f6d41",
   "metadata": {},
   "outputs": [
    {
     "name": "stdout",
     "output_type": "stream",
     "text": [
      "Length of the rectangle is :  20\n",
      "breadth of the rectangle is:  4\n",
      "area of rectangle = 80\n",
      "parameter of rectangle =  48\n"
     ]
    }
   ],
   "source": [
    "r.output()"
   ]
  },
  {
   "cell_type": "code",
   "execution_count": null,
   "id": "95bbdf87",
   "metadata": {},
   "outputs": [],
   "source": [
    "--CLASSES with default parameter"
   ]
  },
  {
   "cell_type": "code",
   "execution_count": 13,
   "id": "294c45e3",
   "metadata": {},
   "outputs": [],
   "source": [
    "class Rectangle():\n",
    "    def __init__(self,length=20,breadth=2):\n",
    "        self.length=length\n",
    "        self.breadth=breadth\n",
    "    def output(self):\n",
    "        print(\"Length of the rectangle is : \",self.length)\n",
    "        print(\"breadth of the rectangle is: \",self.breadth)\n",
    "        print(\"area of rectangle =\",self.length*self.breadth)\n",
    "        print(\"parameter of rectangle = \",self.length+self.breadth+self.length+self.breadth)\n",
    "    \n",
    "    "
   ]
  },
  {
   "cell_type": "code",
   "execution_count": 14,
   "id": "2fad681d",
   "metadata": {},
   "outputs": [],
   "source": [
    "r=Rectangle()"
   ]
  },
  {
   "cell_type": "code",
   "execution_count": 15,
   "id": "52b11683",
   "metadata": {},
   "outputs": [
    {
     "name": "stdout",
     "output_type": "stream",
     "text": [
      "Length of the rectangle is :  20\n",
      "breadth of the rectangle is:  2\n",
      "area of rectangle = 40\n",
      "parameter of rectangle =  44\n"
     ]
    }
   ],
   "source": [
    "r.output()"
   ]
  },
  {
   "cell_type": "code",
   "execution_count": 16,
   "id": "272bb301",
   "metadata": {},
   "outputs": [
    {
     "data": {
      "text/plain": [
       "20"
      ]
     },
     "execution_count": 16,
     "metadata": {},
     "output_type": "execute_result"
    }
   ],
   "source": [
    "r.length"
   ]
  },
  {
   "cell_type": "code",
   "execution_count": 17,
   "id": "981057ea",
   "metadata": {},
   "outputs": [
    {
     "data": {
      "text/plain": [
       "2"
      ]
     },
     "execution_count": 17,
     "metadata": {},
     "output_type": "execute_result"
    }
   ],
   "source": [
    "r.breadth"
   ]
  },
  {
   "cell_type": "code",
   "execution_count": null,
   "id": "47a7f3a8",
   "metadata": {},
   "outputs": [],
   "source": [
    "--default parameter"
   ]
  },
  {
   "cell_type": "code",
   "execution_count": 18,
   "id": "d4ff79a6",
   "metadata": {},
   "outputs": [],
   "source": [
    "class Rectangle():\n",
    "    def __init__(self,length,breadth,):\n",
    "        self.length=length\n",
    "        self.breadth=breadth\n",
    "    def output(self):\n",
    "        print(\"Length of the rectangle is : \",self.length,\"m\")\n",
    "        print(\"breadth of the rectangle is: \",self.breadth,\"m\")\n",
    "        print(\"area of rectangle =\",self.length*self.breadth,\"m^2\")\n",
    "        print(\"parameter of rectangle = \",self.length+self.breadth+self.length+self.breadth,\"m\")\n",
    "       # print(\"parameter of rectangle =\",(int(2)(self.length+self.breadth)))\n",
    "              \n",
    "r=Rectangle(10,50)  \n",
    "    # checks value BOTTOM UP APPROACH"
   ]
  },
  {
   "cell_type": "code",
   "execution_count": 19,
   "id": "518af53d",
   "metadata": {},
   "outputs": [
    {
     "name": "stdout",
     "output_type": "stream",
     "text": [
      "Length of the rectangle is :  10 m\n",
      "breadth of the rectangle is:  50 m\n",
      "area of rectangle = 500 m^2\n",
      "parameter of rectangle =  120 m\n"
     ]
    }
   ],
   "source": [
    "r.output()"
   ]
  },
  {
   "cell_type": "code",
   "execution_count": null,
   "id": "ab5648d5",
   "metadata": {},
   "outputs": [],
   "source": [
    "--The four pillars of OOP are :\n",
    "1.Encapsulation,\n",
    "2.Abstraction, \n",
    "3.Inheritance, \n",
    "4.Polymorphism."
   ]
  },
  {
   "cell_type": "code",
   "execution_count": null,
   "id": "4dd7886b",
   "metadata": {},
   "outputs": [],
   "source": [
    " 1.Polymorphism\n",
    "-- same functions with various meanings according to its use.\n",
    "--eg: a*b \n",
    "     from random import *\n",
    "--eg:pop() removes items \n",
    "     s.pop() removes first item in set\n",
    "     l.pop() removes last item in list\n",
    "     d.pop() removes \n",
    "set 1st value remove\n",
    "list last value removed by default\n",
    "in dict POP function removes which is mentioned inside bracket\n"
   ]
  },
  {
   "cell_type": "code",
   "execution_count": 20,
   "id": "e934661b",
   "metadata": {},
   "outputs": [],
   "source": [
    "class Intergers():\n",
    "    def __init__(self,positive_numbers,negative_numbers):\n",
    "        self.positive_numbers=positive_numbers\n",
    "        self.negative_numbers=negative_numbers\n",
    "    def display(self):\n",
    "        print(\"list of positive numbers =\",self.positive_numbers)\n",
    "        print(\"list of negative number =\",self.negative_numbers)\n",
    "I=Intergers(4,-52)       "
   ]
  },
  {
   "cell_type": "code",
   "execution_count": 21,
   "id": "de7d4473",
   "metadata": {},
   "outputs": [
    {
     "name": "stdout",
     "output_type": "stream",
     "text": [
      "list of positive numbers = 4\n",
      "list of negative number = -52\n"
     ]
    }
   ],
   "source": [
    "I.display()"
   ]
  },
  {
   "cell_type": "code",
   "execution_count": 22,
   "id": "b128e39e",
   "metadata": {},
   "outputs": [
    {
     "data": {
      "text/plain": [
       "-52"
      ]
     },
     "execution_count": 22,
     "metadata": {},
     "output_type": "execute_result"
    }
   ],
   "source": [
    "I.negative_numbers"
   ]
  },
  {
   "cell_type": "code",
   "execution_count": 23,
   "id": "1d3ebf8a",
   "metadata": {},
   "outputs": [
    {
     "data": {
      "text/plain": [
       "4"
      ]
     },
     "execution_count": 23,
     "metadata": {},
     "output_type": "execute_result"
    }
   ],
   "source": [
    "I.positive_numbers"
   ]
  },
  {
   "cell_type": "code",
   "execution_count": 32,
   "id": "9afb4673",
   "metadata": {},
   "outputs": [],
   "source": [
    "class Positive():\n",
    "    l=[]\n",
    "    \n",
    "    def __init__(self,positive_numbers,lists):\n",
    "        self.positive_numbers=positive_numbers\n",
    "        self.lists=lists\n",
    "    def display(self):\n",
    "       # a=print(\"enter number: \",a)\n",
    "        l=[]\n",
    "        if self.positive_numbers>0==True:\n",
    "            l.append(self.positive_numbers)\n",
    "            print(\"list of positive numbers =\",self.lists)\n",
    "    \n",
    "P=Positive(45,7)\n",
    "P.display()"
   ]
  },
  {
   "cell_type": "code",
   "execution_count": 33,
   "id": "2b63e2d0",
   "metadata": {},
   "outputs": [
    {
     "data": {
      "text/plain": [
       "[]"
      ]
     },
     "execution_count": 33,
     "metadata": {},
     "output_type": "execute_result"
    }
   ],
   "source": [
    "P.l"
   ]
  },
  {
   "cell_type": "code",
   "execution_count": 34,
   "id": "1e0a4013",
   "metadata": {},
   "outputs": [
    {
     "data": {
      "text/plain": [
       "45"
      ]
     },
     "execution_count": 34,
     "metadata": {},
     "output_type": "execute_result"
    }
   ],
   "source": [
    "P.positive_numbers"
   ]
  },
  {
   "cell_type": "code",
   "execution_count": 38,
   "id": "0cc0269a",
   "metadata": {},
   "outputs": [],
   "source": [
    "class Cat():\n",
    "    def __init__(self,name):\n",
    "        self.name=name\n",
    "    def display(self):\n",
    "        print(\"type of the cat is:\",self.name)\n",
    "c=Cat(\"tiger\")\n",
    "class Dog():\n",
    "    def __init__(self,name):\n",
    "        self.name=name\n",
    "    def display(self):\n",
    "        print(\"name of the Dog is:\",self.name)\n",
    "d=Dog(\"lolo\")"
   ]
  },
  {
   "cell_type": "code",
   "execution_count": 39,
   "id": "9b44f189",
   "metadata": {},
   "outputs": [
    {
     "name": "stdout",
     "output_type": "stream",
     "text": [
      "type of the cat is: tiger\n"
     ]
    }
   ],
   "source": [
    "c.display()"
   ]
  },
  {
   "cell_type": "code",
   "execution_count": 40,
   "id": "d01bf559",
   "metadata": {},
   "outputs": [
    {
     "data": {
      "text/plain": [
       "'tiger'"
      ]
     },
     "execution_count": 40,
     "metadata": {},
     "output_type": "execute_result"
    }
   ],
   "source": [
    "c.name"
   ]
  },
  {
   "cell_type": "code",
   "execution_count": 41,
   "id": "8384dc8f",
   "metadata": {},
   "outputs": [
    {
     "name": "stdout",
     "output_type": "stream",
     "text": [
      "name of the Dog is: lolo\n"
     ]
    }
   ],
   "source": [
    "d.display()"
   ]
  },
  {
   "cell_type": "code",
   "execution_count": 42,
   "id": "a4bb71ad",
   "metadata": {},
   "outputs": [],
   "source": [
    "def abc(a):\n",
    "    a.display()"
   ]
  },
  {
   "cell_type": "code",
   "execution_count": 43,
   "id": "e404330b",
   "metadata": {},
   "outputs": [
    {
     "name": "stdout",
     "output_type": "stream",
     "text": [
      "type of the cat is: tiger\n"
     ]
    }
   ],
   "source": [
    "abc(c)"
   ]
  },
  {
   "cell_type": "code",
   "execution_count": 44,
   "id": "9d0b59d4",
   "metadata": {},
   "outputs": [
    {
     "name": "stdout",
     "output_type": "stream",
     "text": [
      "name of the Dog is: lolo\n"
     ]
    }
   ],
   "source": [
    "abc(d)"
   ]
  },
  {
   "cell_type": "code",
   "execution_count": null,
   "id": "96fd1624",
   "metadata": {},
   "outputs": [],
   "source": [
    "--TYPE IS ALSO EXAMPLE OF polymorphism"
   ]
  },
  {
   "cell_type": "code",
   "execution_count": 45,
   "id": "426df28a",
   "metadata": {},
   "outputs": [
    {
     "data": {
      "text/plain": [
       "str"
      ]
     },
     "execution_count": 45,
     "metadata": {},
     "output_type": "execute_result"
    }
   ],
   "source": [
    "type(\"jyothi\")# is example of polymorphism"
   ]
  },
  {
   "cell_type": "code",
   "execution_count": 46,
   "id": "c2c531a5",
   "metadata": {},
   "outputs": [
    {
     "data": {
      "text/plain": [
       "int"
      ]
     },
     "execution_count": 46,
     "metadata": {},
     "output_type": "execute_result"
    }
   ],
   "source": [
    "type(45)"
   ]
  },
  {
   "cell_type": "code",
   "execution_count": 47,
   "id": "d2afe7a9",
   "metadata": {},
   "outputs": [
    {
     "data": {
      "text/plain": [
       "float"
      ]
     },
     "execution_count": 47,
     "metadata": {},
     "output_type": "execute_result"
    }
   ],
   "source": [
    "type(4.3)"
   ]
  },
  {
   "cell_type": "code",
   "execution_count": null,
   "id": "fb214a93",
   "metadata": {},
   "outputs": [],
   "source": [
    "2.Inheritence\n",
    "carry forward the property of one class to another not all properties but few of them\n",
    "--Types of Inheritance in Python\n",
    "1.Single inheritance \n",
    "2.Multiple Inheritance\n",
    "3.multilevel inheritance\n",
    "4.Hierarchical Inheritance\n",
    "5.Hybrid Inheritance"
   ]
  },
  {
   "cell_type": "code",
   "execution_count": null,
   "id": "3cf85cb8",
   "metadata": {},
   "outputs": [],
   "source": [
    "1.Single inheritance "
   ]
  },
  {
   "cell_type": "code",
   "execution_count": 48,
   "id": "eb8ccba8",
   "metadata": {},
   "outputs": [],
   "source": [
    "class Numbers():\n",
    "    \"base class for odd even numbers\"\n",
    "    def __init__(self,numbers):\n",
    "        self.numbers=numbers\n",
    "    def show_numbers(self):\n",
    "        \"shows numbers availble\"\n",
    "        print(\"numbers are : \",self.numbers)\n",
    "#n=Numbers(25)\n",
    "#n.show_numbers()"
   ]
  },
  {
   "cell_type": "code",
   "execution_count": 49,
   "id": "9eae2fef",
   "metadata": {},
   "outputs": [],
   "source": [
    "#n.numbers"
   ]
  },
  {
   "cell_type": "code",
   "execution_count": 50,
   "id": "7e46c94f",
   "metadata": {},
   "outputs": [],
   "source": [
    "class Odd_even(Numbers):\n",
    "    \"this is derived class of odd even numbers\"\n",
    "    def __init__(self,numbers,even,odd):\n",
    "        Numbers.__init__(self,numbers)\n",
    "        self.even=even\n",
    "        self.odd=odd\n",
    "    def show_evenodd(self):\n",
    "        \"gives odd even numbers\"\n",
    "        Numbers.show_numbers(self)\n",
    "        print(\"number is even\",self.numbers%2==0,self.even)\n",
    "        print(\"number is odd\",self.numbers%2!=0,self.odd)\n",
    "    "
   ]
  },
  {
   "cell_type": "code",
   "execution_count": 51,
   "id": "139c4dab",
   "metadata": {},
   "outputs": [],
   "source": [
    "o=Odd_even(12,6,3)\n"
   ]
  },
  {
   "cell_type": "code",
   "execution_count": 52,
   "id": "af421cd1",
   "metadata": {},
   "outputs": [
    {
     "name": "stdout",
     "output_type": "stream",
     "text": [
      "numbers are :  12\n",
      "number is even True 6\n",
      "number is odd False 3\n"
     ]
    }
   ],
   "source": [
    "o.show_evenodd()"
   ]
  },
  {
   "cell_type": "code",
   "execution_count": 53,
   "id": "fe5c9b9b",
   "metadata": {},
   "outputs": [
    {
     "name": "stdout",
     "output_type": "stream",
     "text": [
      "numbers are :  12\n"
     ]
    }
   ],
   "source": [
    "o.show_numbers()"
   ]
  },
  {
   "cell_type": "code",
   "execution_count": null,
   "id": "72e968a1",
   "metadata": {},
   "outputs": [],
   "source": [
    "class A ----> class B == single inheritance \n",
    "so that not to create again again."
   ]
  },
  {
   "cell_type": "code",
   "execution_count": 54,
   "id": "37abac3f",
   "metadata": {},
   "outputs": [],
   "source": [
    "class Student_info():\n",
    "    def __init__(self,name2,standard,birth_date,address):\n",
    "        self.name2=name2\n",
    "        self.standard=standard\n",
    "      #  self.blood_group=blood_group\n",
    "        self.birth_date=birth_date\n",
    "        self.address=address\n",
    "    def info(self):\n",
    "        print(\"name of the student\",self.name2)\n",
    "        print(\"standard of the student\",self.standard)\n",
    "        #print(\"blood group of the student\",self.blood_group)\n",
    "        print(\"DOB of student\",self.birth_date)\n",
    "        print(\"Address of the student\",self.address)\n",
    "    \n",
    "    "
   ]
  },
  {
   "cell_type": "code",
   "execution_count": 55,
   "id": "11d7d438",
   "metadata": {},
   "outputs": [],
   "source": [
    "s=Student_info(\"jhi\",\"3rd\",\"298\",\"XYZ\")"
   ]
  },
  {
   "cell_type": "code",
   "execution_count": 56,
   "id": "9e44f5c7",
   "metadata": {},
   "outputs": [
    {
     "name": "stdout",
     "output_type": "stream",
     "text": [
      "name of the student jhi\n",
      "standard of the student 3rd\n",
      "DOB of student 298\n",
      "Address of the student XYZ\n"
     ]
    }
   ],
   "source": [
    "s.info()"
   ]
  },
  {
   "cell_type": "code",
   "execution_count": 57,
   "id": "78a4a118",
   "metadata": {},
   "outputs": [],
   "source": [
    "class Student(Student_info): #\n",
    "    \"inheritence of class\"   \n",
    "    def __init__(self,name2,standard,birth_date,address,blood_group):\n",
    "        \"new data blood group of student\"\n",
    "        Student_info.__init__(self,name2,standard,birth_date,address)\n",
    "        self.blood_group=blood_group\n",
    "    def info(self):\n",
    "        Student_info.info(self)\n",
    "        print(\"blood group of the student\",self.blood_group)"
   ]
  },
  {
   "cell_type": "code",
   "execution_count": 58,
   "id": "9807dce6",
   "metadata": {},
   "outputs": [],
   "source": [
    "x=Student(\"jyothi\",\"3rd\",\"298\",\"XYZ\",\"AB\")\n"
   ]
  },
  {
   "cell_type": "code",
   "execution_count": 59,
   "id": "953c030b",
   "metadata": {},
   "outputs": [
    {
     "name": "stdout",
     "output_type": "stream",
     "text": [
      "name of the student jyothi\n",
      "standard of the student 3rd\n",
      "DOB of student 298\n",
      "Address of the student XYZ\n",
      "blood group of the student AB\n"
     ]
    }
   ],
   "source": [
    "x.info()"
   ]
  },
  {
   "cell_type": "code",
   "execution_count": null,
   "id": "e112e37e",
   "metadata": {},
   "outputs": [],
   "source": [
    "2.Multilevel inheritence"
   ]
  },
  {
   "cell_type": "code",
   "execution_count": null,
   "id": "9f304694",
   "metadata": {},
   "outputs": [],
   "source": [
    "class A--> + class B-->class c"
   ]
  },
  {
   "cell_type": "code",
   "execution_count": 60,
   "id": "d1e9cd76",
   "metadata": {},
   "outputs": [],
   "source": [
    "class Subjects(Student):\n",
    "    def __init__(self,name2,standard,birth_date,address,blood_group,subjects):\n",
    "        Student_info.__init__(self,name2,standard,birth_date,address)\n",
    "        self.subjects=subjects\n",
    "    def show_subjects(self):\n",
    "        Student.info(self)\n",
    "        print(\"Subjects of the student are: \",self.subjects)"
   ]
  },
  {
   "cell_type": "code",
   "execution_count": 61,
   "id": "a9eb9a7d",
   "metadata": {},
   "outputs": [],
   "source": [
    "y=Subjects(\"jyothi\",\"3rd\",\"298\",\"XYZ\",\"AB\",\"arts\")"
   ]
  },
  {
   "cell_type": "code",
   "execution_count": 62,
   "id": "add90703",
   "metadata": {},
   "outputs": [
    {
     "data": {
      "text/plain": [
       "'arts'"
      ]
     },
     "execution_count": 62,
     "metadata": {},
     "output_type": "execute_result"
    }
   ],
   "source": [
    "y.subjects"
   ]
  },
  {
   "cell_type": "code",
   "execution_count": 63,
   "id": "68b772d1",
   "metadata": {},
   "outputs": [
    {
     "data": {
      "text/plain": [
       "'3rd'"
      ]
     },
     "execution_count": 63,
     "metadata": {},
     "output_type": "execute_result"
    }
   ],
   "source": [
    "y.standard"
   ]
  },
  {
   "cell_type": "code",
   "execution_count": 64,
   "id": "f1a954f4",
   "metadata": {},
   "outputs": [
    {
     "data": {
      "text/plain": [
       "'298'"
      ]
     },
     "execution_count": 64,
     "metadata": {},
     "output_type": "execute_result"
    }
   ],
   "source": [
    "y.birth_date"
   ]
  },
  {
   "cell_type": "code",
   "execution_count": null,
   "id": "de0169aa",
   "metadata": {},
   "outputs": [],
   "source": [
    "3.Multiple Inheritance\n",
    "A+B --> C"
   ]
  },
  {
   "cell_type": "code",
   "execution_count": 65,
   "id": "7bb55082",
   "metadata": {},
   "outputs": [],
   "source": [
    "class Positive_numbers:\n",
    "    def __init__(self,positive_integers):\n",
    "        self.positive_integers=positive_integers\n",
    "    def info(self):\n",
    "        print(\"positives numbers are: \",self.positive_integers)"
   ]
  },
  {
   "cell_type": "code",
   "execution_count": 66,
   "id": "0dad1a82",
   "metadata": {},
   "outputs": [],
   "source": [
    "class Negative_numbers:\n",
    "    def __init__(self,negative_integers):\n",
    "        self.negative_integers=negative_integers\n",
    "    def info(self):\n",
    "        print(\"negative numbers are: \",self.negative_integers)"
   ]
  },
  {
   "cell_type": "code",
   "execution_count": 67,
   "id": "e979aebe",
   "metadata": {},
   "outputs": [],
   "source": [
    "class Integers(Positive_numbers,Negative_numbers):\n",
    "    def __init__(self,positive_integers,negative_integers,zero):\n",
    "        Positive_numbers.__init__(self,positive_integers)\n",
    "        Negative_numbers.__init__(self,negative_integers)\n",
    "        self.zero=zero\n",
    "    def info(self):\n",
    "        Positive_numbers.info(self)\n",
    "        Negative_numbers.info(self)\n",
    "        print(self.zero,\"is also a integer\")\n",
    "        print(\"set of intergers is \",self.zero,self.positive_integers,self.negative_integers)\n",
    "              "
   ]
  },
  {
   "cell_type": "code",
   "execution_count": 68,
   "id": "2cebef40",
   "metadata": {},
   "outputs": [],
   "source": [
    "i=Integers(2,-2,0)"
   ]
  },
  {
   "cell_type": "code",
   "execution_count": 69,
   "id": "421af021",
   "metadata": {},
   "outputs": [
    {
     "name": "stdout",
     "output_type": "stream",
     "text": [
      "positives numbers are:  2\n",
      "negative numbers are:  -2\n",
      "0 is also a integer\n",
      "set of intergers is  0 2 -2\n"
     ]
    }
   ],
   "source": [
    "i.info()"
   ]
  },
  {
   "cell_type": "code",
   "execution_count": null,
   "id": "0086e409",
   "metadata": {},
   "outputs": [],
   "source": [
    "==EXAMPLE OF multiple inheritence:"
   ]
  },
  {
   "cell_type": "code",
   "execution_count": 74,
   "id": "e26f35fa",
   "metadata": {},
   "outputs": [],
   "source": [
    "class Father:\n",
    "    def __init__(self,eyes,hair):\n",
    "        self.eyes=eyes\n",
    "        self.hair=hair\n",
    "    def display(self):\n",
    "        print(\"colour of\",self.eyes,\"brown of father\")\n",
    "        print(\"texture of\",self.hair,\"thin and silky\")\n",
    "class Mother:\n",
    "    def __init__(self,height,nature):\n",
    "        self.height=height\n",
    "        self.nature=nature\n",
    "    def display(self):\n",
    "        print(self.height,\"of mother is tall\")\n",
    "        print(self.nature,\"of mother is good\")\n",
    "class Child(Father,Mother):\n",
    "    def __init__(self,eyes,hair,height,nature,weight):\n",
    "        Father.__init__(self,eyes,hair)\n",
    "        Mother.__init__(self,height,nature)\n",
    "        self.weight=weight\n",
    "    def display(self):\n",
    "        Father.display(self)\n",
    "        Mother.display(self)\n",
    "        print(self.weight,\"of the child is normal\")\n",
    "        print(self.nature,\"of the child is cranky\")\n",
    "        \n",
    "        "
   ]
  },
  {
   "cell_type": "code",
   "execution_count": 75,
   "id": "0a9e2b3e",
   "metadata": {},
   "outputs": [],
   "source": [
    "c=Child(\"eyes\",\"hair\",\"height\",\"nature\",\"weight\")"
   ]
  },
  {
   "cell_type": "code",
   "execution_count": 77,
   "id": "244c2fb3",
   "metadata": {},
   "outputs": [
    {
     "name": "stdout",
     "output_type": "stream",
     "text": [
      "colour of eyes brown of father\n",
      "texture of hair thin and silky\n",
      "height of mother is tall\n",
      "nature of mother is good\n",
      "weight of the child is normal\n",
      "nature of the child is cranky\n"
     ]
    }
   ],
   "source": [
    "c.display()"
   ]
  },
  {
   "cell_type": "code",
   "execution_count": 78,
   "id": "05a50278",
   "metadata": {},
   "outputs": [
    {
     "name": "stdout",
     "output_type": "stream",
     "text": [
      "colour of eyes brown of father\n",
      "texture of hair thin and silky\n",
      "height of mother is tall\n",
      "nature of mother is good\n",
      "weight of the child is normal\n",
      "nature of the child is cranky\n"
     ]
    }
   ],
   "source": [
    "c.display()"
   ]
  },
  {
   "cell_type": "code",
   "execution_count": null,
   "id": "1ee967d8",
   "metadata": {},
   "outputs": [],
   "source": [
    "3. Encapsulation inheritence\n",
    "private vairables used with__a double underscore"
   ]
  },
  {
   "cell_type": "raw",
   "id": "ae8186e2",
   "metadata": {},
   "source": [
    "Two types of vairable public and private:"
   ]
  },
  {
   "cell_type": "code",
   "execution_count": 79,
   "id": "47ba71d1",
   "metadata": {},
   "outputs": [],
   "source": [
    "class Encap:\n",
    "    def __init__(self,x):\n",
    "        #self.x=x # here x is public vairable\n",
    "        self.__x=x # double underscore to make private\n",
    "    def display(self):\n",
    "        print(\"value of x is \",self.__x)\n",
    "        print(\"ID of x is \",id(self.__x))       "
   ]
  },
  {
   "cell_type": "code",
   "execution_count": 80,
   "id": "d324c8cd",
   "metadata": {},
   "outputs": [
    {
     "name": "stdout",
     "output_type": "stream",
     "text": [
      "value of x is  25\n",
      "ID of x is  2515896855600\n"
     ]
    }
   ],
   "source": [
    "e=Encap(25)\n",
    "e.display()"
   ]
  },
  {
   "cell_type": "code",
   "execution_count": 81,
   "id": "c7bdf1af",
   "metadata": {},
   "outputs": [
    {
     "name": "stdout",
     "output_type": "stream",
     "text": [
      "value of x is  25\n",
      "ID of x is  2515896855600\n"
     ]
    }
   ],
   "source": [
    "e.display()"
   ]
  },
  {
   "cell_type": "code",
   "execution_count": 83,
   "id": "ba5119d2",
   "metadata": {},
   "outputs": [],
   "source": [
    "e.x=53 # here tried to change the value of x but could not change as __x is private vairable."
   ]
  },
  {
   "cell_type": "code",
   "execution_count": 84,
   "id": "1f4f149b",
   "metadata": {},
   "outputs": [
    {
     "name": "stdout",
     "output_type": "stream",
     "text": [
      "value of x is  25\n",
      "ID of x is  2515896855600\n"
     ]
    }
   ],
   "source": [
    "e.display()"
   ]
  },
  {
   "cell_type": "code",
   "execution_count": null,
   "id": "7bbf8fd9",
   "metadata": {},
   "outputs": [],
   "source": [
    "--EXAMPLE of encapsulation\n",
    "try with age also"
   ]
  },
  {
   "cell_type": "code",
   "execution_count": 85,
   "id": "dd0c42ee",
   "metadata": {},
   "outputs": [],
   "source": [
    "class Bank:\n",
    "    def __init__(self,name,acc_no,balance):\n",
    "        self.name=name\n",
    "        self.acc_no=acc_no\n",
    "        self.__balance=balance # private vairable\n",
    "    def data(self):\n",
    "        print(\"account holder name:\",self.name)\n",
    "        print(\"account name of\",self.name,\"is\",self.acc_no)\n",
    "        print(\"account balance is:\",self.__balance)\n",
    "    def deposite(self,amt):\n",
    "        self.__balance+=amt\n",
    "    def withdraw(self,amt):\n",
    "        self.__balance-=amt\n",
    "    def updated_balance(self):\n",
    "        print(\"current balance is : \",self.__balance)"
   ]
  },
  {
   "cell_type": "code",
   "execution_count": 86,
   "id": "f45afbfb",
   "metadata": {},
   "outputs": [],
   "source": [
    "x=Bank(\"jyothi\",\"154863\",50000)"
   ]
  },
  {
   "cell_type": "code",
   "execution_count": 87,
   "id": "91d84040",
   "metadata": {},
   "outputs": [
    {
     "name": "stdout",
     "output_type": "stream",
     "text": [
      "current balance is :  50000\n"
     ]
    }
   ],
   "source": [
    "x.updated_balance()"
   ]
  },
  {
   "cell_type": "code",
   "execution_count": 88,
   "id": "f95b4166",
   "metadata": {
    "scrolled": true
   },
   "outputs": [],
   "source": [
    "x.deposite(250)"
   ]
  },
  {
   "cell_type": "code",
   "execution_count": 89,
   "id": "d1209533",
   "metadata": {},
   "outputs": [
    {
     "name": "stdout",
     "output_type": "stream",
     "text": [
      "current balance is :  50250\n"
     ]
    }
   ],
   "source": [
    "x.updated_balance()"
   ]
  },
  {
   "cell_type": "code",
   "execution_count": 90,
   "id": "f6d80f56",
   "metadata": {},
   "outputs": [],
   "source": [
    "x.withdraw(5000)"
   ]
  },
  {
   "cell_type": "code",
   "execution_count": 91,
   "id": "b0ca05fc",
   "metadata": {},
   "outputs": [
    {
     "name": "stdout",
     "output_type": "stream",
     "text": [
      "current balance is :  45250\n"
     ]
    }
   ],
   "source": [
    "x.updated_balance()"
   ]
  },
  {
   "cell_type": "code",
   "execution_count": 92,
   "id": "70caf628",
   "metadata": {},
   "outputs": [],
   "source": [
    "x.name=\"dkdk\""
   ]
  },
  {
   "cell_type": "code",
   "execution_count": 93,
   "id": "89006467",
   "metadata": {},
   "outputs": [
    {
     "name": "stdout",
     "output_type": "stream",
     "text": [
      "account holder name: dkdk\n",
      "account name of dkdk is 154863\n",
      "account balance is: 45250\n"
     ]
    }
   ],
   "source": [
    "x.data()"
   ]
  },
  {
   "cell_type": "code",
   "execution_count": null,
   "id": "4d28b464",
   "metadata": {},
   "outputs": [],
   "source": [
    "4.Hierarchical Inheritance"
   ]
  },
  {
   "cell_type": "code",
   "execution_count": 94,
   "id": "471b89f2",
   "metadata": {},
   "outputs": [],
   "source": [
    "class Transport:\n",
    "    def __init__(self,vehicle):\n",
    "        self.vehicle=vehicle\n",
    "    def display(self):\n",
    "        print(\"modes and different\",self.vehicle,\"with examples\")\n",
    "class Mode1(Transport):\n",
    "    def __init__(self,vehicle,land):\n",
    "        Transport.__init__(self,vehicle)\n",
    "        self.land=land\n",
    "    def display(self):\n",
    "        #Transport.display(self)\n",
    "        print(self.land,\"is a mode of transport\")\n",
    "\n",
    "class Examples1(Mode1,Transport):\n",
    "    def __init__(self,vehicle,land,bus,car):\n",
    "        Transport.__init__(self,vehicle)\n",
    "        Mode1.__init__(self,vehicle,land)\n",
    "        self.bus=bus\n",
    "        self.car=car\n",
    "    def display(self):\n",
    "        Transport.display(self)\n",
    "        Mode1.display(self)\n",
    "        print(\"examples of land mode transport are\",self.bus ,\"and\", self.car)\n",
    "        \n",
    "class Mode2(Transport):\n",
    "    def __init__(self,vehicle,water):\n",
    "        Transport.__init__(self,vehicle)\n",
    "        self.water=water\n",
    "    def display(self):\n",
    "        #Transport.display(self)\n",
    "        print(self.water,\"is a mode of transport\")\n",
    "class Examples2(Mode2,Transport):\n",
    "    def __init__(self,vehicle,water,ship,boat):\n",
    "        #Transport.__init__(self,vehicle)\n",
    "        Mode2.__init__(self,vehicle,water)\n",
    "        self.ship=ship\n",
    "        self.boat=boat\n",
    "    def display(self):\n",
    "        Transport.display(self)\n",
    "        Mode2.display(self)\n",
    "        print(\"examples of WATER mode transport are\",self.ship ,\"and\", self.boat)\n",
    "        \n",
    "        \n",
    "class Mode3(Transport):\n",
    "    def __init__(self,vehicle,air):\n",
    "        Transport.__init__(self,vehicle)\n",
    "        self.air=air\n",
    "    def display(self):\n",
    "        #Transport.display(self)\n",
    "        print(self.air,\"is a mode of transport\")\n",
    "class Examples3(Mode3,Transport):\n",
    "    def __init__(self,vehicle,air,areoplane,helicopter):\n",
    "        Transport.__init__(self,vehicle)\n",
    "        Mode3.__init__(self,vehicle,air)\n",
    "        self.areoplane=areoplane\n",
    "        self.helicopter=helicopter\n",
    "    def display(self):\n",
    "        Transport.display(self)\n",
    "        Mode3.display(self)\n",
    "        print(\"examples of AIR mode transport are\",self.areoplane ,\"and\", self.helicopter)\n",
    "   "
   ]
  },
  {
   "cell_type": "code",
   "execution_count": 95,
   "id": "efa0d691",
   "metadata": {},
   "outputs": [],
   "source": [
    "e=Examples1(\"vehicle\",\"land\",\"car\",\"bus\") \n",
    "f=Examples2(\"vehicle\",\"water\",\"ship\",\"boat\") \n",
    "g=Examples3(\"vehicle\",\"air\",\"areoplane\",\"helicopter\")"
   ]
  },
  {
   "cell_type": "code",
   "execution_count": 96,
   "id": "26faf12f",
   "metadata": {},
   "outputs": [
    {
     "name": "stdout",
     "output_type": "stream",
     "text": [
      "modes and different vehicle with examples\n",
      "land is a mode of transport\n",
      "examples of land mode transport are car and bus\n"
     ]
    }
   ],
   "source": [
    "e.display()"
   ]
  },
  {
   "cell_type": "code",
   "execution_count": 97,
   "id": "7499f21d",
   "metadata": {},
   "outputs": [
    {
     "name": "stdout",
     "output_type": "stream",
     "text": [
      "modes and different vehicle with examples\n",
      "water is a mode of transport\n",
      "examples of WATER mode transport are ship and boat\n"
     ]
    }
   ],
   "source": [
    "f.display()"
   ]
  },
  {
   "cell_type": "code",
   "execution_count": 98,
   "id": "d6b948c7",
   "metadata": {},
   "outputs": [
    {
     "name": "stdout",
     "output_type": "stream",
     "text": [
      "modes and different vehicle with examples\n",
      "air is a mode of transport\n",
      "examples of AIR mode transport are areoplane and helicopter\n"
     ]
    }
   ],
   "source": [
    "g.display()"
   ]
  },
  {
   "cell_type": "code",
   "execution_count": 99,
   "id": "103054d1",
   "metadata": {},
   "outputs": [],
   "source": [
    "def abc(e,f,g):\n",
    "    display(e,f,g)"
   ]
  },
  {
   "cell_type": "code",
   "execution_count": 150,
   "id": "a6a31bb1",
   "metadata": {},
   "outputs": [
    {
     "name": "stdout",
     "output_type": "stream",
     "text": [
      "modes and different vehicle with examples\n",
      "land is a mode of transport\n",
      "examples of land mode transport are car and bus\n",
      "modes and different vehicle with examples\n",
      "water is a mode of transport\n",
      "examples of WATER mode transport are ship and boat\n",
      "modes and different vehicle with examples\n",
      "air is a mode of transport\n",
      "examples of AIR mode transport are areoplane and helicopter\n"
     ]
    },
    {
     "data": {
      "text/plain": [
       "None"
      ]
     },
     "metadata": {},
     "output_type": "display_data"
    },
    {
     "data": {
      "text/plain": [
       "None"
      ]
     },
     "metadata": {},
     "output_type": "display_data"
    },
    {
     "data": {
      "text/plain": [
       "None"
      ]
     },
     "metadata": {},
     "output_type": "display_data"
    }
   ],
   "source": [
    "abc(e.display(),f.display(),g.display())"
   ]
  },
  {
   "cell_type": "markdown",
   "id": "cdb2dfe4",
   "metadata": {},
   "source": [
    "PRACTICE QUESTION  :"
   ]
  },
  {
   "cell_type": "code",
   "execution_count": 100,
   "id": "d6dcf808",
   "metadata": {},
   "outputs": [],
   "source": [
    "class Transport():\n",
    "    def __init__(self,vehicle):\n",
    "        self.vehicle=vehicle\n",
    "    def display(self):\n",
    "        print(\"modes and different\",self.vehicle,\"with examples\")\n",
    "class Mode1(Transport):\n",
    "    def __init__(self,vehicle,land):\n",
    "        Transport.__init__(self,vehicle)\n",
    "        self.land=land\n",
    "    def display(self):\n",
    "        #Transport.display(self)\n",
    "        print(self.land,\"is a mode of transport\")\n",
    "class Examples1(Mode1,Transport):\n",
    "    def __init__(self,vehicle,land,bus,car):\n",
    "        Transport.__init__(self,vehicle)\n",
    "        Mode1.__init__(self,vehicle,land)\n",
    "        self.bus=bus\n",
    "        self.car=car\n",
    "    def display(self):\n",
    "        Transport.display(self)\n",
    "        Mode1.display(self)\n",
    "        print(\"examples of land mode transport are\", self.bus ,\"and\",self.car)\n"
   ]
  },
  {
   "cell_type": "code",
   "execution_count": 101,
   "id": "7a11e206",
   "metadata": {},
   "outputs": [],
   "source": [
    "t=Examples1(\"vehicle\",\"land\",\"car\",\"bus\")"
   ]
  },
  {
   "cell_type": "code",
   "execution_count": 102,
   "id": "b299d4ad",
   "metadata": {},
   "outputs": [
    {
     "name": "stdout",
     "output_type": "stream",
     "text": [
      "modes and different vehicle with examples\n",
      "land is a mode of transport\n",
      "examples of land mode transport are car and bus\n"
     ]
    }
   ],
   "source": [
    "t.display()"
   ]
  },
  {
   "cell_type": "code",
   "execution_count": null,
   "id": "4a3172b4",
   "metadata": {},
   "outputs": [],
   "source": [
    " ---ABSTRACTION: used to hide any method"
   ]
  },
  {
   "cell_type": "code",
   "execution_count": 103,
   "id": "445b11a3",
   "metadata": {},
   "outputs": [],
   "source": [
    "from abc import ABC"
   ]
  },
  {
   "cell_type": "code",
   "execution_count": 104,
   "id": "d1952a94",
   "metadata": {},
   "outputs": [],
   "source": [
    "class Vegetables(ABC):\n",
    "    def price(self):\n",
    "        pass"
   ]
  },
  {
   "cell_type": "code",
   "execution_count": 105,
   "id": "2a94022f",
   "metadata": {},
   "outputs": [],
   "source": [
    "class Potato(Vegetables):\n",
    "    'price of vegetables in japan'\n",
    "    def price(self):\n",
    "        print(\"PRICE of Potato Japan is 1.1$\")\n",
    "class Tomato(Vegetables):\n",
    "    def price(self):\n",
    "        print(\"Tomato is 1.5$\")\n",
    "class Cabbage(Vegetables):\n",
    "    def price(self):\n",
    "        print(\"Cabbage is 0.5$\")\n",
    "class Onion(Vegetables):\n",
    "    def price(self):\n",
    "        print(\"Onion is 2.2$\")     "
   ]
  },
  {
   "cell_type": "code",
   "execution_count": 106,
   "id": "0cc16060",
   "metadata": {},
   "outputs": [],
   "source": [
    "p=Potato()"
   ]
  },
  {
   "cell_type": "code",
   "execution_count": 107,
   "id": "c690a4eb",
   "metadata": {},
   "outputs": [
    {
     "name": "stdout",
     "output_type": "stream",
     "text": [
      "PRICE of Potato Japan is 1.1$\n"
     ]
    }
   ],
   "source": [
    "p.price()"
   ]
  }
 ],
 "metadata": {
  "kernelspec": {
   "display_name": "Python 3 (ipykernel)",
   "language": "python",
   "name": "python3"
  },
  "language_info": {
   "codemirror_mode": {
    "name": "ipython",
    "version": 3
   },
   "file_extension": ".py",
   "mimetype": "text/x-python",
   "name": "python",
   "nbconvert_exporter": "python",
   "pygments_lexer": "ipython3",
   "version": "3.9.12"
  }
 },
 "nbformat": 4,
 "nbformat_minor": 5
}
