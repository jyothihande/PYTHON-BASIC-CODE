{
 "cells": [
  {
   "cell_type": "markdown",
   "id": "938721e5",
   "metadata": {},
   "source": [
    " # DATA TYPES GIVEN BELOW :\n",
    "1. Integer\n",
    "2. String\n",
    "3. Float\n",
    "4. Boolean values :True /False\n",
    "5. Complex numbers\n",
    "6. Set\n",
    "7. List\n",
    "8. Tuple\n",
    "9. Dictionary"
   ]
  },
  {
   "cell_type": "code",
   "execution_count": 1,
   "id": "cadb2a92",
   "metadata": {},
   "outputs": [
    {
     "name": "stdout",
     "output_type": "stream",
     "text": [
      "<class 'str'>\n",
      "<class 'int'>\n",
      "<class 'float'>\n",
      "<class 'str'>\n",
      "<class 'complex'>\n"
     ]
    }
   ],
   "source": [
    "s=\"Welcome coders Python\"   #string\n",
    "print(type(s))\n",
    "\n",
    "B = 7        #integer BEAWARE b= '7' is a string with inverted commas \n",
    "print(type(B))\n",
    "\n",
    "c = 5.3      # float\n",
    "print(type(c))\n",
    "\n",
    "D__ = '5'      # it is a string and not integer\n",
    "print(type(D__))\n",
    "\n",
    "e123 = 3+5j     # complex number \n",
    "print(type(e123))\n"
   ]
  },
  {
   "cell_type": "raw",
   "id": "4dc8f120",
   "metadata": {},
   "source": [
    "COMPLEX  number :   In a=6+7j real number is 6 and imag num is 7j"
   ]
  },
  {
   "cell_type": "code",
   "execution_count": 2,
   "id": "90750e07",
   "metadata": {},
   "outputs": [
    {
     "data": {
      "text/plain": [
       "complex"
      ]
     },
     "execution_count": 2,
     "metadata": {},
     "output_type": "execute_result"
    }
   ],
   "source": [
    "a=5+3j\n",
    "type(a)"
   ]
  },
  {
   "cell_type": "code",
   "execution_count": 3,
   "id": "71a6d5a9",
   "metadata": {},
   "outputs": [
    {
     "data": {
      "text/plain": [
       "3.0"
      ]
     },
     "execution_count": 3,
     "metadata": {},
     "output_type": "execute_result"
    }
   ],
   "source": [
    "a.imag   #to check imag number in equation"
   ]
  },
  {
   "cell_type": "code",
   "execution_count": 4,
   "id": "cd4f843f",
   "metadata": {},
   "outputs": [
    {
     "data": {
      "text/plain": [
       "5.0"
      ]
     },
     "execution_count": 4,
     "metadata": {},
     "output_type": "execute_result"
    }
   ],
   "source": [
    "a.real   #to check real number in equation"
   ]
  },
  {
   "cell_type": "markdown",
   "id": "f0967152",
   "metadata": {},
   "source": [
    "# LIST "
   ]
  },
  {
   "cell_type": "markdown",
   "id": "3ba2fc60",
   "metadata": {},
   "source": [
    " 1. List represented by [ ] square brackets and accepts have all data types integers ,string, float,        boolean and complex number."
   ]
  },
  {
   "cell_type": "code",
   "execution_count": 5,
   "id": "aa6aefe4",
   "metadata": {},
   "outputs": [],
   "source": [
    "l=['jyothi',150,23.36,True,7+5j]"
   ]
  },
  {
   "cell_type": "code",
   "execution_count": 6,
   "id": "eda45ea8",
   "metadata": {},
   "outputs": [
    {
     "data": {
      "text/plain": [
       "['jyothi', 150, 23.36, True, (7+5j)]"
      ]
     },
     "execution_count": 6,
     "metadata": {},
     "output_type": "execute_result"
    }
   ],
   "source": [
    "l"
   ]
  },
  {
   "cell_type": "code",
   "execution_count": 7,
   "id": "170e9611",
   "metadata": {},
   "outputs": [
    {
     "data": {
      "text/plain": [
       "list"
      ]
     },
     "execution_count": 7,
     "metadata": {},
     "output_type": "execute_result"
    }
   ],
   "source": [
    "type(l)  # to check type of l"
   ]
  },
  {
   "cell_type": "code",
   "execution_count": 8,
   "id": "f95f217c",
   "metadata": {},
   "outputs": [
    {
     "data": {
      "text/plain": [
       "5"
      ]
     },
     "execution_count": 8,
     "metadata": {},
     "output_type": "execute_result"
    }
   ],
   "source": [
    "len(l)  # to check length of l"
   ]
  },
  {
   "cell_type": "code",
   "execution_count": 9,
   "id": "eb75eb88",
   "metadata": {},
   "outputs": [
    {
     "data": {
      "text/plain": [
       "('jyothi', 150, 23.36, True, (7+5j))"
      ]
     },
     "execution_count": 9,
     "metadata": {},
     "output_type": "execute_result"
    }
   ],
   "source": [
    "tuple(l) #convert"
   ]
  },
  {
   "cell_type": "markdown",
   "id": "059139fc",
   "metadata": {},
   "source": [
    "# TUPLE"
   ]
  },
  {
   "cell_type": "markdown",
   "id": "88f0f599",
   "metadata": {},
   "source": [
    "1. Round bracket used for tuple () \n",
    "2. Difference between LIST and TUPLE is changes can be made into the list but not in tuple  data like   blood group,finger print , adhar card number are stored in tuple so that they can not be change       later on.\n",
    "3. INDEXING is allowed in TUPLE.\n",
    "4. Tuple can be converted into list.\n",
    "5. Tuple can not have a single element t=(10 ,) add coma to make t a tuple"
   ]
  },
  {
   "cell_type": "code",
   "execution_count": 10,
   "id": "7be5c262",
   "metadata": {},
   "outputs": [],
   "source": [
    "t=(12,23.02,True,100,\"Data\")"
   ]
  },
  {
   "cell_type": "code",
   "execution_count": 11,
   "id": "856628a9",
   "metadata": {},
   "outputs": [
    {
     "data": {
      "text/plain": [
       "(12, 23.02, True, 100, 'Data')"
      ]
     },
     "execution_count": 11,
     "metadata": {},
     "output_type": "execute_result"
    }
   ],
   "source": [
    "t"
   ]
  },
  {
   "cell_type": "code",
   "execution_count": 12,
   "id": "884b3efd",
   "metadata": {},
   "outputs": [
    {
     "data": {
      "text/plain": [
       "[12, 23.02, True, 100, 'Data']"
      ]
     },
     "execution_count": 12,
     "metadata": {},
     "output_type": "execute_result"
    }
   ],
   "source": [
    "list(t) #conversion"
   ]
  },
  {
   "cell_type": "code",
   "execution_count": 13,
   "id": "39dffb63",
   "metadata": {},
   "outputs": [
    {
     "data": {
      "text/plain": [
       "5"
      ]
     },
     "execution_count": 13,
     "metadata": {},
     "output_type": "execute_result"
    }
   ],
   "source": [
    "len(t)"
   ]
  },
  {
   "cell_type": "raw",
   "id": "bd73d216",
   "metadata": {},
   "source": [
    "How to make tuple with single element ?"
   ]
  },
  {
   "cell_type": "code",
   "execution_count": 14,
   "id": "74532867",
   "metadata": {},
   "outputs": [
    {
     "data": {
      "text/plain": [
       "str"
      ]
     },
     "execution_count": 14,
     "metadata": {},
     "output_type": "execute_result"
    }
   ],
   "source": [
    "t=(\"Hello\") \n",
    "type(t)"
   ]
  },
  {
   "cell_type": "code",
   "execution_count": 15,
   "id": "c8a632d6",
   "metadata": {},
   "outputs": [
    {
     "data": {
      "text/plain": [
       "tuple"
      ]
     },
     "execution_count": 15,
     "metadata": {},
     "output_type": "execute_result"
    }
   ],
   "source": [
    "#one data with tuple can be created by adding , single coma after first data\n",
    "t=(\"Hello\",)\n",
    "type(t)"
   ]
  },
  {
   "cell_type": "code",
   "execution_count": 16,
   "id": "76cf3360",
   "metadata": {},
   "outputs": [
    {
     "data": {
      "text/plain": [
       "tuple"
      ]
     },
     "execution_count": 16,
     "metadata": {},
     "output_type": "execute_result"
    }
   ],
   "source": [
    "t=(\"jyo\",256) #type tuple with two data\n",
    "type(t)"
   ]
  },
  {
   "cell_type": "markdown",
   "id": "327a5594",
   "metadata": {},
   "source": [
    "# SET"
   ]
  },
  {
   "cell_type": "markdown",
   "id": "4941bf60",
   "metadata": {},
   "source": [
    "1. s={} set accepts int float string complex boolean.\n",
    "2. NO indexing in SET randomly allot location.\n",
    "3. set take ONLY unique data repeated data is not shown again.\n",
    "4. data is automaticaly sorted like first int complex then at last string will be displayed.\n",
    "5. Curly bracket used {} same for dict also but blank set can not created blank dic is possible."
   ]
  },
  {
   "cell_type": "code",
   "execution_count": 17,
   "id": "3debd5ad",
   "metadata": {},
   "outputs": [],
   "source": [
    "s={12.3,56,1,12,True,'false',False,5+6j,12.3,56,True,'false',False,5+6j} # false is string "
   ]
  },
  {
   "cell_type": "code",
   "execution_count": 18,
   "id": "3a66e94f",
   "metadata": {},
   "outputs": [
    {
     "data": {
      "text/plain": [
       "{(5+6j), 1, 12, 12.3, 56, False, 'false'}"
      ]
     },
     "execution_count": 18,
     "metadata": {},
     "output_type": "execute_result"
    }
   ],
   "source": [
    "s     #repeated data is not displayed in set"
   ]
  },
  {
   "cell_type": "code",
   "execution_count": 19,
   "id": "4c34b3ee",
   "metadata": {},
   "outputs": [
    {
     "data": {
      "text/plain": [
       "set"
      ]
     },
     "execution_count": 19,
     "metadata": {},
     "output_type": "execute_result"
    }
   ],
   "source": [
    "type(s)\n"
   ]
  },
  {
   "cell_type": "code",
   "execution_count": 20,
   "id": "65592182",
   "metadata": {},
   "outputs": [
    {
     "data": {
      "text/plain": [
       "7"
      ]
     },
     "execution_count": 20,
     "metadata": {},
     "output_type": "execute_result"
    }
   ],
   "source": [
    "len(s)"
   ]
  },
  {
   "cell_type": "code",
   "execution_count": 21,
   "id": "83f286b9",
   "metadata": {},
   "outputs": [
    {
     "data": {
      "text/plain": [
       "{' ', 'H', 'M', 'e', 'l', 'o', 'w'}"
      ]
     },
     "execution_count": 21,
     "metadata": {},
     "output_type": "execute_result"
    }
   ],
   "source": [
    "#interview question\n",
    "a=\"Hello Mellow\"\n",
    "#from above string only unique data needed as some alphabets are repeated\n",
    "set(a) # this gives only unquie output"
   ]
  },
  {
   "cell_type": "markdown",
   "id": "e01849c2",
   "metadata": {},
   "source": [
    "# DICTIONARY\n"
   ]
  },
  {
   "cell_type": "markdown",
   "id": "a3d4ce81",
   "metadata": {},
   "source": [
    " # {'key':'value'} key name has to be unqiue but value can be same or repeated.\n",
    "1. d={} same for dict also but blank set={} can not created and empty dict is possible.\n",
    "2. Tuple and list can be created inside the dictionary."
   ]
  },
  {
   "cell_type": "code",
   "execution_count": 22,
   "id": "16e6ebef",
   "metadata": {},
   "outputs": [
    {
     "data": {
      "text/plain": [
       "dict"
      ]
     },
     "execution_count": 22,
     "metadata": {},
     "output_type": "execute_result"
    }
   ],
   "source": [
    "d={} # blank dic can be created  but blank sset is not possible\n",
    "type(d)"
   ]
  },
  {
   "cell_type": "code",
   "execution_count": 23,
   "id": "2d412beb",
   "metadata": {},
   "outputs": [
    {
     "data": {
      "text/plain": [
       "dict"
      ]
     },
     "execution_count": 23,
     "metadata": {},
     "output_type": "execute_result"
    }
   ],
   "source": [
    "s={}\n",
    "type(s) #where s is set"
   ]
  },
  {
   "cell_type": "code",
   "execution_count": 24,
   "id": "88553e91",
   "metadata": {},
   "outputs": [
    {
     "data": {
      "text/plain": [
       "list"
      ]
     },
     "execution_count": 24,
     "metadata": {},
     "output_type": "execute_result"
    }
   ],
   "source": [
    "d=[]\n",
    "type(d)"
   ]
  },
  {
   "cell_type": "code",
   "execution_count": 25,
   "id": "60d324ac",
   "metadata": {},
   "outputs": [
    {
     "data": {
      "text/plain": [
       "list"
      ]
     },
     "execution_count": 25,
     "metadata": {},
     "output_type": "execute_result"
    }
   ],
   "source": [
    "type(d)"
   ]
  },
  {
   "cell_type": "code",
   "execution_count": 26,
   "id": "4f9ce170",
   "metadata": {},
   "outputs": [
    {
     "data": {
      "text/plain": [
       "{'s': {1, 2, 5},\n",
       " 'name': 'JYOTHI',\n",
       " 'name1': 'JYOTHI',\n",
       " 'contact': [9379865155, 885701425]}"
      ]
     },
     "execution_count": 26,
     "metadata": {},
     "output_type": "execute_result"
    }
   ],
   "source": [
    "d1={'s':{1,2,5},'name':'JYOTHI','name1':'JYOTHI','contact':[9379865155,885701425]}\n",
    "d1"
   ]
  },
  {
   "cell_type": "code",
   "execution_count": 27,
   "id": "a5d2a07d",
   "metadata": {},
   "outputs": [
    {
     "data": {
      "text/plain": [
       "4"
      ]
     },
     "execution_count": 27,
     "metadata": {},
     "output_type": "execute_result"
    }
   ],
   "source": [
    "len(d1)"
   ]
  },
  {
   "cell_type": "code",
   "execution_count": 28,
   "id": "c8935def",
   "metadata": {},
   "outputs": [
    {
     "data": {
      "text/plain": [
       "['s', 'name', 'name1', 'contact']"
      ]
     },
     "execution_count": 28,
     "metadata": {},
     "output_type": "execute_result"
    }
   ],
   "source": [
    "list(d1) #dictionary can not be converted into list or tuple or set only shows keys"
   ]
  }
 ],
 "metadata": {
  "kernelspec": {
   "display_name": "Python 3 (ipykernel)",
   "language": "python",
   "name": "python3"
  },
  "language_info": {
   "codemirror_mode": {
    "name": "ipython",
    "version": 3
   },
   "file_extension": ".py",
   "mimetype": "text/x-python",
   "name": "python",
   "nbconvert_exporter": "python",
   "pygments_lexer": "ipython3",
   "version": "3.9.12"
  }
 },
 "nbformat": 4,
 "nbformat_minor": 5
}
